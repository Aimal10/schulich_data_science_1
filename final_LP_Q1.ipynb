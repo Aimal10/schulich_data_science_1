{
 "cells": [
  {
   "cell_type": "code",
   "execution_count": 1,
   "metadata": {},
   "outputs": [],
   "source": [
    "import gurobipy as gp\n",
    "from gurobipy import GRB\n",
    "import pandas as pd\n"
   ]
  },
  {
   "cell_type": "code",
   "execution_count": 2,
   "metadata": {},
   "outputs": [],
   "source": [
    "supply_data = pd.read_csv('/Users/aimaldastagirzada/Downloads/ecogreen_energy_supply.csv')\n",
    "demand_data = pd.read_csv('/Users/aimaldastagirzada/Downloads/ecogreen_energy_demand.csv')"
   ]
  },
  {
   "cell_type": "code",
   "execution_count": 3,
   "metadata": {},
   "outputs": [
    {
     "name": "stdout",
     "output_type": "stream",
     "text": [
      "Set parameter Username\n",
      "Academic license - for non-commercial use only - expires 2025-01-15\n"
     ]
    }
   ],
   "source": [
    "model = gp.Model(\"EcoGreen_Energy_Expansion\")\n"
   ]
  },
  {
   "cell_type": "code",
   "execution_count": 4,
   "metadata": {},
   "outputs": [],
   "source": [
    "# Indices for plants and provinces\n",
    "plants = range(len(supply_data))\n",
    "provinces = range(len(demand_data))"
   ]
  },
  {
   "cell_type": "code",
   "execution_count": 5,
   "metadata": {},
   "outputs": [],
   "source": [
    "# Decision Variables\n",
    "# y_i: Binary decision for building plant i\n",
    "y = model.addVars(plants, vtype=GRB.BINARY, name=\"Plant\")\n",
    "# x_ij: Continuous variable for energy from plant i to province j\n",
    "x = model.addVars(plants, provinces, vtype=GRB.CONTINUOUS, name=\"Transport\")"
   ]
  },
  {
   "cell_type": "code",
   "execution_count": 6,
   "metadata": {},
   "outputs": [],
   "source": [
    "# Objective Function to minimize total cost\n",
    "model.setObjective(\n",
    "    gp.quicksum(\n",
    "        y[i] * supply_data.loc[i, 'Fixed'] +\n",
    "        gp.quicksum(x[i, j] * supply_data.loc[i, f'Province {j+1}'] for j in provinces)\n",
    "        for i in plants),\n",
    "    GRB.MINIMIZE)"
   ]
  },
  {
   "cell_type": "code",
   "execution_count": 7,
   "metadata": {},
   "outputs": [
    {
     "data": {
      "text/plain": [
       "{0: <gurobi.Constr *Awaiting Model Update*>,\n",
       " 1: <gurobi.Constr *Awaiting Model Update*>,\n",
       " 2: <gurobi.Constr *Awaiting Model Update*>,\n",
       " 3: <gurobi.Constr *Awaiting Model Update*>,\n",
       " 4: <gurobi.Constr *Awaiting Model Update*>,\n",
       " 5: <gurobi.Constr *Awaiting Model Update*>,\n",
       " 6: <gurobi.Constr *Awaiting Model Update*>,\n",
       " 7: <gurobi.Constr *Awaiting Model Update*>,\n",
       " 8: <gurobi.Constr *Awaiting Model Update*>,\n",
       " 9: <gurobi.Constr *Awaiting Model Update*>,\n",
       " 10: <gurobi.Constr *Awaiting Model Update*>,\n",
       " 11: <gurobi.Constr *Awaiting Model Update*>,\n",
       " 12: <gurobi.Constr *Awaiting Model Update*>,\n",
       " 13: <gurobi.Constr *Awaiting Model Update*>,\n",
       " 14: <gurobi.Constr *Awaiting Model Update*>,\n",
       " 15: <gurobi.Constr *Awaiting Model Update*>,\n",
       " 16: <gurobi.Constr *Awaiting Model Update*>,\n",
       " 17: <gurobi.Constr *Awaiting Model Update*>,\n",
       " 18: <gurobi.Constr *Awaiting Model Update*>,\n",
       " 19: <gurobi.Constr *Awaiting Model Update*>}"
      ]
     },
     "execution_count": 7,
     "metadata": {},
     "output_type": "execute_result"
    }
   ],
   "source": [
    "# Constraints\n",
    "# Capacity constraints for each plant\n",
    "model.addConstrs(\n",
    "    (gp.quicksum(x[i, j] for j in provinces) <= supply_data.loc[i, 'Capacity'] * y[i]\n",
    "     for i in plants), name=\"Capacity\")\n"
   ]
  },
  {
   "cell_type": "code",
   "execution_count": 8,
   "metadata": {},
   "outputs": [
    {
     "data": {
      "text/plain": [
       "{0: <gurobi.Constr *Awaiting Model Update*>,\n",
       " 1: <gurobi.Constr *Awaiting Model Update*>,\n",
       " 2: <gurobi.Constr *Awaiting Model Update*>,\n",
       " 3: <gurobi.Constr *Awaiting Model Update*>,\n",
       " 4: <gurobi.Constr *Awaiting Model Update*>,\n",
       " 5: <gurobi.Constr *Awaiting Model Update*>,\n",
       " 6: <gurobi.Constr *Awaiting Model Update*>,\n",
       " 7: <gurobi.Constr *Awaiting Model Update*>,\n",
       " 8: <gurobi.Constr *Awaiting Model Update*>,\n",
       " 9: <gurobi.Constr *Awaiting Model Update*>}"
      ]
     },
     "execution_count": 8,
     "metadata": {},
     "output_type": "execute_result"
    }
   ],
   "source": [
    "# Demand fulfillment for each province\n",
    "model.addConstrs(\n",
    "    (gp.quicksum(x[i, j] for i in plants) >= demand_data.loc[j, 'Demand']\n",
    "     for j in provinces), name=\"Demand\")"
   ]
  },
  {
   "cell_type": "code",
   "execution_count": 9,
   "metadata": {},
   "outputs": [
    {
     "data": {
      "text/plain": [
       "<gurobi.Constr *Awaiting Model Update*>"
      ]
     },
     "execution_count": 9,
     "metadata": {},
     "output_type": "execute_result"
    }
   ],
   "source": [
    "# Logical and additional constraints\n",
    "model.addConstr(y[9] + y[14] + y[19] <= 1, \"Mutual_Exclusivity\")\n",
    "model.addConstr(y[2] <= y[3], \"Site3_to_Site4\")\n",
    "model.addConstr(y[2] <= y[4], \"Site3_to_Site5\")\n",
    "model.addConstr(y[4] <= y[7] + y[8], \"Site5_dependency\")\n",
    "model.addConstr(gp.quicksum(y[i] for i in range(10)) <= 2 * gp.quicksum(y[i] for i in range(10, 20)), \"Region_A_vs_B\")\n",
    "total_output = gp.quicksum(x[i, j] for i in plants for j in provinces)\n",
    "model.addConstr(gp.quicksum(x[i, j] for i in range(5) for j in provinces) >= 0.3 * total_output, \"Minimum_Output_Sites_1_5\")\n"
   ]
  },
  {
   "cell_type": "code",
   "execution_count": 10,
   "metadata": {},
   "outputs": [],
   "source": [
    "# Single plant output cap\n",
    "for i in plants:\n",
    "    for j in provinces:\n",
    "        model.addConstr(x[i, j] <= 0.5 * demand_data.loc[j, 'Demand'], f\"Cap_{i}_{j}\")\n"
   ]
  },
  {
   "cell_type": "code",
   "execution_count": 11,
   "metadata": {},
   "outputs": [
    {
     "name": "stdout",
     "output_type": "stream",
     "text": [
      "Gurobi Optimizer version 11.0.0 build v11.0.0rc2 (mac64[arm] - Darwin 23.3.0 23D56)\n",
      "\n",
      "CPU model: Apple M1\n",
      "Thread count: 8 physical cores, 8 logical processors, using up to 8 threads\n",
      "\n",
      "Optimize a model with 236 rows, 220 columns and 850 nonzeros\n",
      "Model fingerprint: 0x0cc4d4af\n",
      "Variable types: 200 continuous, 20 integer (20 binary)\n",
      "Coefficient statistics:\n",
      "  Matrix range     [3e-01, 2e+05]\n",
      "  Objective range  [2e-01, 3e+07]\n",
      "  Bounds range     [1e+00, 1e+00]\n",
      "  RHS range        [1e+00, 2e+05]\n",
      "Found heuristic solution: objective 2.938222e+08\n",
      "Presolve removed 200 rows and 0 columns\n",
      "Presolve time: 0.01s\n",
      "Presolved: 36 rows, 220 columns, 650 nonzeros\n",
      "Variable types: 200 continuous, 20 integer (20 binary)\n",
      "\n",
      "Root relaxation: objective 1.685904e+08, 67 iterations, 0.00 seconds (0.00 work units)\n",
      "\n",
      "    Nodes    |    Current Node    |     Objective Bounds      |     Work\n",
      " Expl Unexpl |  Obj  Depth IntInf | Incumbent    BestBd   Gap | It/Node Time\n",
      "\n",
      "     0     0 1.6859e+08    0    4 2.9382e+08 1.6859e+08  42.6%     -    0s\n",
      "H    0     0                    2.043956e+08 1.6859e+08  17.5%     -    0s\n",
      "H    0     0                    2.043926e+08 1.6859e+08  17.5%     -    0s\n",
      "H    0     0                    2.000229e+08 1.6859e+08  15.7%     -    0s\n",
      "H    0     0                    2.000114e+08 1.6859e+08  15.7%     -    0s\n",
      "     0     0 1.8522e+08    0    1 2.0001e+08 1.8522e+08  7.40%     -    0s\n",
      "H    0     0                    1.975379e+08 1.8522e+08  6.24%     -    0s\n",
      "H    0     0                    1.930210e+08 1.8795e+08  2.63%     -    0s\n",
      "H    0     0                    1.930057e+08 1.8795e+08  2.62%     -    0s\n",
      "     0     0 1.9202e+08    0    1 1.9301e+08 1.9202e+08  0.51%     -    0s\n",
      "     0     0          -    0      1.9301e+08 1.9299e+08  0.01%     -    0s\n",
      "\n",
      "Explored 1 nodes (95 simplex iterations) in 0.06 seconds (0.00 work units)\n",
      "Thread count was 8 (of 8 available processors)\n",
      "\n",
      "Solution count 6: 1.93006e+08 1.93021e+08 1.97538e+08 ... 2.93822e+08\n",
      "\n",
      "Optimal solution found (tolerance 1.00e-04)\n",
      "Best objective 1.930056887899e+08, best bound 1.929875920156e+08, gap 0.0094%\n"
     ]
    }
   ],
   "source": [
    "# Solve the model\n",
    "model.optimize()"
   ]
  },
  {
   "cell_type": "code",
   "execution_count": 13,
   "metadata": {},
   "outputs": [
    {
     "name": "stdout",
     "output_type": "stream",
     "text": [
      "Optimal solution found.\n",
      "Total Optimal Cost: $193,005,688.79\n",
      "Plant 1 built: Yes\n",
      "Plant 2 built: Yes\n",
      "Plant 3 built: Yes\n",
      "Plant 4 built: Yes\n",
      "Plant 5 built: Yes\n",
      "Plant 6 built: No\n",
      "Plant 7 built: Yes\n",
      "Plant 8 built: Yes\n",
      "Plant 9 built: No\n",
      "Plant 10 built: No\n",
      "Plant 11 built: Yes\n",
      "Plant 12 built: No\n",
      "Plant 13 built: No\n",
      "Plant 14 built: No\n",
      "Plant 15 built: Yes\n",
      "Plant 16 built: Yes\n",
      "Plant 17 built: Yes\n",
      "Plant 18 built: No\n",
      "Plant 19 built: No\n",
      "Plant 20 built: No\n",
      "Energy from Plant 1 to Province 4: 81571.5 GWh\n",
      "Energy from Plant 1 to Province 10: 43688.5 GWh\n",
      "Energy from Plant 2 to Province 1: 49395.5 GWh\n",
      "Energy from Plant 2 to Province 8: 85696.5 GWh\n",
      "Energy from Plant 3 to Province 7: 42728.5 GWh\n",
      "Energy from Plant 3 to Province 9: 26438.5 GWh\n",
      "Energy from Plant 4 to Province 6: 57834.0 GWh\n",
      "Energy from Plant 5 to Province 3: 62753.0 GWh\n",
      "Energy from Plant 5 to Province 6: 11290.5 GWh\n",
      "Energy from Plant 5 to Province 7: 5469.5 GWh\n",
      "Energy from Plant 7 to Province 3: 62753.0 GWh\n",
      "Energy from Plant 7 to Province 9: 63863.0 GWh\n",
      "Energy from Plant 7 to Province 10: 13366.0 GWh\n",
      "Energy from Plant 8 to Province 1: 21098.5 GWh\n",
      "Energy from Plant 8 to Province 7: 36882.5 GWh\n",
      "Energy from Plant 11 to Province 2: 64379.0 GWh\n",
      "Energy from Plant 11 to Province 7: 42624.5 GWh\n",
      "Energy from Plant 11 to Province 8: 85696.5 GWh\n",
      "Energy from Plant 15 to Province 2: 7311.5 GWh\n",
      "Energy from Plant 15 to Province 4: 81571.5 GWh\n",
      "Energy from Plant 15 to Province 5: 58095.0 GWh\n",
      "Energy from Plant 16 to Province 5: 58095.0 GWh\n",
      "Energy from Plant 16 to Province 9: 69738.5 GWh\n",
      "Energy from Plant 16 to Province 10: 57054.5 GWh\n",
      "Energy from Plant 17 to Province 1: 63717.0 GWh\n",
      "Energy from Plant 17 to Province 2: 57067.5 GWh\n",
      "Energy from Plant 17 to Province 6: 69124.5 GWh\n"
     ]
    }
   ],
   "source": [
    "# Display the results\n",
    "if model.status == GRB.OPTIMAL:\n",
    "    print(\"Optimal solution found.\")\n",
    "    # Print the optimal total cost\n",
    "    print(f\"Total Optimal Cost: ${model.ObjVal:,.2f}\")\n",
    "\n",
    "    # Print the decision to build each plant\n",
    "    for i in plants:\n",
    "        print(f\"Plant {i+1} built: {'Yes' if y[i].X > 0.5 else 'No'}\")\n",
    "\n",
    "    # Print energy sent from each plant to each province, where applicable\n",
    "    for i in plants:\n",
    "        for j in provinces:\n",
    "            if x[i, j].X > 0:\n",
    "                print(f\"Energy from Plant {i+1} to Province {j+1}: {x[i, j].X} GWh\")\n",
    "else:\n",
    "    print(\"Optimal solution not found. Status code:\", model.status)\n"
   ]
  },
  {
   "cell_type": "code",
   "execution_count": 14,
   "metadata": {},
   "outputs": [
    {
     "name": "stdout",
     "output_type": "stream",
     "text": [
      "Plant 1 supplies energy to 2 distinct provinces.\n",
      "Plant 2 supplies energy to 2 distinct provinces.\n",
      "Plant 3 supplies energy to 2 distinct provinces.\n",
      "Plant 4 supplies energy to 1 distinct provinces.\n",
      "Plant 5 supplies energy to 3 distinct provinces.\n",
      "Plant 6 supplies energy to 0 distinct provinces.\n",
      "Plant 7 supplies energy to 3 distinct provinces.\n",
      "Plant 8 supplies energy to 2 distinct provinces.\n",
      "Plant 9 supplies energy to 0 distinct provinces.\n",
      "Plant 10 supplies energy to 0 distinct provinces.\n",
      "Plant 11 supplies energy to 3 distinct provinces.\n",
      "Plant 12 supplies energy to 0 distinct provinces.\n",
      "Plant 13 supplies energy to 0 distinct provinces.\n",
      "Plant 14 supplies energy to 0 distinct provinces.\n",
      "Plant 15 supplies energy to 3 distinct provinces.\n",
      "Plant 16 supplies energy to 3 distinct provinces.\n",
      "Plant 17 supplies energy to 3 distinct provinces.\n",
      "Plant 18 supplies energy to 0 distinct provinces.\n",
      "Plant 19 supplies energy to 0 distinct provinces.\n",
      "Plant 20 supplies energy to 0 distinct provinces.\n"
     ]
    }
   ],
   "source": [
    "# After solving the model, calculate the number of provinces each plant supplies\n",
    "for i in plants:\n",
    "    num_provinces_supplied = sum(1 for j in provinces if x[i, j].X > 0)\n",
    "    print(f\"Plant {i+1} supplies energy to {num_provinces_supplied} distinct provinces.\")\n"
   ]
  },
  {
   "cell_type": "code",
   "execution_count": 15,
   "metadata": {},
   "outputs": [
    {
     "name": "stdout",
     "output_type": "stream",
     "text": [
      "Total decision variables required: 220\n",
      "Gurobi reports 220 variables.\n"
     ]
    }
   ],
   "source": [
    "# Total number of decision variables\n",
    "total_decision_variables = len(y) + len(x)\n",
    "print(f\"Total decision variables required: {total_decision_variables}\")\n",
    "\n",
    "# Using Gurobi to report the number of variables\n",
    "print(f\"Gurobi reports {model.NumVars} variables.\")"
   ]
  },
  {
   "cell_type": "code",
   "execution_count": 16,
   "metadata": {},
   "outputs": [
    {
     "name": "stdout",
     "output_type": "stream",
     "text": [
      "Capacity[0]: <gurobi.Constr Capacity[0]>\n",
      "Capacity[1]: <gurobi.Constr Capacity[1]>\n",
      "Capacity[2]: <gurobi.Constr Capacity[2]>\n",
      "Capacity[3]: <gurobi.Constr Capacity[3]>\n",
      "Capacity[4]: <gurobi.Constr Capacity[4]>\n",
      "Capacity[5]: <gurobi.Constr Capacity[5]>\n",
      "Capacity[6]: <gurobi.Constr Capacity[6]>\n",
      "Capacity[7]: <gurobi.Constr Capacity[7]>\n",
      "Capacity[8]: <gurobi.Constr Capacity[8]>\n",
      "Capacity[9]: <gurobi.Constr Capacity[9]>\n",
      "Capacity[10]: <gurobi.Constr Capacity[10]>\n",
      "Capacity[11]: <gurobi.Constr Capacity[11]>\n",
      "Capacity[12]: <gurobi.Constr Capacity[12]>\n",
      "Capacity[13]: <gurobi.Constr Capacity[13]>\n",
      "Capacity[14]: <gurobi.Constr Capacity[14]>\n",
      "Capacity[15]: <gurobi.Constr Capacity[15]>\n",
      "Capacity[16]: <gurobi.Constr Capacity[16]>\n",
      "Capacity[17]: <gurobi.Constr Capacity[17]>\n",
      "Capacity[18]: <gurobi.Constr Capacity[18]>\n",
      "Capacity[19]: <gurobi.Constr Capacity[19]>\n",
      "Total capacity constraints: 20\n"
     ]
    }
   ],
   "source": [
    "# Displaying capacity constraints\n",
    "for constr in model.getConstrs():\n",
    "    if \"Capacity\" in constr.ConstrName:\n",
    "        print(f\"{constr.ConstrName}: {constr}\")\n",
    "\n",
    "# Counting capacity constraints\n",
    "print(f\"Total capacity constraints: {sum(1 for constr in model.getConstrs() if 'Capacity' in constr.ConstrName)}\")"
   ]
  },
  {
   "cell_type": "code",
   "execution_count": 20,
   "metadata": {},
   "outputs": [
    {
     "name": "stdout",
     "output_type": "stream",
     "text": [
      "Constraint for mutual exclusivity between sites 10, 15, and 20:\n",
      "<gurobi.Constr Mutual_Exclusivity>\n"
     ]
    }
   ],
   "source": [
    "##(d) \n",
    "print(\"Constraint for mutual exclusivity between sites 10, 15, and 20:\")\n",
    "print(model.getConstrByName(\"Mutual_Exclusivity\"))"
   ]
  },
  {
   "cell_type": "code",
   "execution_count": 21,
   "metadata": {},
   "outputs": [
    {
     "name": "stdout",
     "output_type": "stream",
     "text": [
      "Dependency constraint for site 5 on sites 8 or 9:\n",
      "<gurobi.Constr Site5_dependency>\n"
     ]
    }
   ],
   "source": [
    "##e\n",
    "print(\"Dependency constraint for site 5 on sites 8 or 9:\")\n",
    "print(model.getConstrByName(\"Site5_dependency\"))"
   ]
  },
  {
   "cell_type": "code",
   "execution_count": 22,
   "metadata": {},
   "outputs": [
    {
     "name": "stdout",
     "output_type": "stream",
     "text": [
      "Optimal Cost: $193,005,688.79\n"
     ]
    }
   ],
   "source": [
    "##F\n",
    "if model.status == GRB.OPTIMAL:\n",
    "    print(f\"Optimal Cost: ${model.ObjVal:,.2f}\")\n",
    "else:\n",
    "    print(\"Optimal solution was not found.\")\n"
   ]
  },
  {
   "cell_type": "code",
   "execution_count": 23,
   "metadata": {},
   "outputs": [
    {
     "name": "stdout",
     "output_type": "stream",
     "text": [
      "Number of power plants established: 11\n"
     ]
    }
   ],
   "source": [
    "##g\n",
    "num_plants_established = sum(1 for i in plants if y[i].X > 0.5)\n",
    "print(f\"Number of power plants established: {num_plants_established}\")"
   ]
  },
  {
   "cell_type": "code",
   "execution_count": null,
   "metadata": {},
   "outputs": [],
   "source": []
  },
  {
   "cell_type": "code",
   "execution_count": 24,
   "metadata": {},
   "outputs": [
    {
     "name": "stdout",
     "output_type": "stream",
     "text": [
      "Highest number of plants for a province: 4\n",
      "Lowest number of plants for a province: 2\n"
     ]
    }
   ],
   "source": [
    "##H\n",
    "# Calculate the number of plants supplying each province\n",
    "plants_per_province = {j: sum(1 for i in plants if x[i, j].X > 0) for j in provinces}\n",
    "\n",
    "# Finding the highest and lowest\n",
    "max_plants = max(plants_per_province.values())\n",
    "min_plants = min(plants_per_province.values())\n",
    "print(f\"Highest number of plants for a province: {max_plants}\")\n",
    "print(f\"Lowest number of plants for a province: {min_plants}\")"
   ]
  },
  {
   "cell_type": "code",
   "execution_count": 25,
   "metadata": {},
   "outputs": [
    {
     "name": "stdout",
     "output_type": "stream",
     "text": [
      "Set parameter MIPGap to value 0.01\n",
      "Gurobi Optimizer version 11.0.0 build v11.0.0rc2 (mac64[arm] - Darwin 23.3.0 23D56)\n",
      "\n",
      "CPU model: Apple M1\n",
      "Thread count: 8 physical cores, 8 logical processors, using up to 8 threads\n",
      "\n",
      "Optimize a model with 236 rows, 220 columns and 850 nonzeros\n",
      "Model fingerprint: 0x0cc4d4af\n",
      "Variable types: 200 continuous, 20 integer (20 binary)\n",
      "Coefficient statistics:\n",
      "  Matrix range     [3e-01, 2e+05]\n",
      "  Objective range  [2e-01, 3e+07]\n",
      "  Bounds range     [1e+00, 1e+00]\n",
      "  RHS range        [1e+00, 2e+05]\n",
      "Presolved: 36 rows, 220 columns, 650 nonzeros\n",
      "\n",
      "Continuing optimization...\n",
      "\n",
      "\n",
      "Explored 1 nodes (95 simplex iterations) in 0.02 seconds (0.00 work units)\n",
      "Thread count was 8 (of 8 available processors)\n",
      "\n",
      "Solution count 6: 1.93006e+08 1.93021e+08 1.97538e+08 ... 2.93822e+08\n",
      "\n",
      "Optimal solution found (tolerance 1.00e-02)\n",
      "Best objective 1.930056887899e+08, best bound 1.929875920156e+08, gap 0.0094%\n",
      "Number of feasible solutions within 1% of the optimal solution: 6\n"
     ]
    }
   ],
   "source": [
    "##J\n",
    "# Set MIP gap to 1%\n",
    "model.Params.MIPGap = 0.01\n",
    "\n",
    "# Optimize the model\n",
    "model.optimize()\n",
    "\n",
    "# Reporting the number of feasible solutions found within 1% of the optimal cost\n",
    "print(\"Number of feasible solutions within 1% of the optimal solution:\", model.SolCount)"
   ]
  },
  {
   "cell_type": "code",
   "execution_count": 26,
   "metadata": {},
   "outputs": [
    {
     "name": "stdout",
     "output_type": "stream",
     "text": [
      "Gurobi Optimizer version 11.0.0 build v11.0.0rc2 (mac64[arm] - Darwin 23.3.0 23D56)\n",
      "\n",
      "CPU model: Apple M1\n",
      "Thread count: 8 physical cores, 8 logical processors, using up to 8 threads\n",
      "\n",
      "Optimize a model with 36 rows, 220 columns and 650 nonzeros\n",
      "Model fingerprint: 0xc01f898d\n",
      "Variable types: 200 continuous, 20 integer (20 binary)\n",
      "Coefficient statistics:\n",
      "  Matrix range     [3e-01, 2e+05]\n",
      "  Objective range  [2e-01, 3e+07]\n",
      "  Bounds range     [1e+00, 1e+00]\n",
      "  RHS range        [1e+00, 2e+05]\n",
      "\n",
      "MIP start from previous solve produced solution with objective 1.92981e+08 (0.04s)\n",
      "Loaded MIP start from previous solve with objective 1.92981e+08\n",
      "\n",
      "Presolve time: 0.00s\n",
      "Presolved: 36 rows, 220 columns, 650 nonzeros\n",
      "Variable types: 200 continuous, 20 integer (20 binary)\n",
      "\n",
      "Root relaxation: objective 1.685643e+08, 61 iterations, 0.00 seconds (0.00 work units)\n",
      "\n",
      "    Nodes    |    Current Node    |     Objective Bounds      |     Work\n",
      " Expl Unexpl |  Obj  Depth IntInf | Incumbent    BestBd   Gap | It/Node Time\n",
      "\n",
      "     0     0 1.6856e+08    0    4 1.9298e+08 1.6856e+08  12.7%     -    0s\n",
      "     0     0 1.9001e+08    0    1 1.9298e+08 1.9001e+08  1.54%     -    0s\n",
      "     0     0 1.9191e+08    0    1 1.9298e+08 1.9191e+08  0.55%     -    0s\n",
      "\n",
      "Cutting planes:\n",
      "  Implied bound: 1\n",
      "  Flow cover: 1\n",
      "\n",
      "Explored 1 nodes (65 simplex iterations) in 0.06 seconds (0.00 work units)\n",
      "Thread count was 8 (of 8 available processors)\n",
      "\n",
      "Solution count 1: 1.92981e+08 \n",
      "\n",
      "Optimal solution found (tolerance 1.00e-02)\n",
      "Best objective 1.929806628948e+08, best bound 1.919142363694e+08, gap 0.5526%\n",
      "Optimal Cost without 50% cap: $192,980,662.89\n",
      "Number of plants established without 50% cap: 11\n"
     ]
    }
   ],
   "source": [
    "##k\n",
    "# Remove constraints limiting plant output to 50% of province needs\n",
    "for i in plants:\n",
    "    for j in provinces:\n",
    "        model.remove(model.getConstrByName(f\"Cap_{i}_{j}\"))\n",
    "\n",
    "model.optimize()\n",
    "\n",
    "if model.status == GRB.OPTIMAL:\n",
    "    print(f\"Optimal Cost without 50% cap: ${model.ObjVal:,.2f}\")\n",
    "    print(f\"Number of plants established without 50% cap: {sum(1 for i in plants if y[i].X > 0.5)}\")\n",
    "else:\n",
    "    print(\"Optimal solution was not found after removing the 50% cap constraints.\")\n"
   ]
  },
  {
   "cell_type": "code",
   "execution_count": null,
   "metadata": {},
   "outputs": [],
   "source": []
  }
 ],
 "metadata": {
  "kernelspec": {
   "display_name": "Python 3",
   "language": "python",
   "name": "python3"
  },
  "language_info": {
   "codemirror_mode": {
    "name": "ipython",
    "version": 3
   },
   "file_extension": ".py",
   "mimetype": "text/x-python",
   "name": "python",
   "nbconvert_exporter": "python",
   "pygments_lexer": "ipython3",
   "version": "3.9.6"
  }
 },
 "nbformat": 4,
 "nbformat_minor": 2
}
