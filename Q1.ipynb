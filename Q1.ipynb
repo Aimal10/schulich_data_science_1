{
 "cells": [
  {
   "cell_type": "code",
   "execution_count": 181,
   "metadata": {},
   "outputs": [],
   "source": [
    "import pandas as pd\n",
    "from gurobipy import Model, GRB\n",
    "from gurobipy import Model, GRB, quicksum\n",
    "\n"
   ]
  },
  {
   "cell_type": "code",
   "execution_count": 182,
   "metadata": {},
   "outputs": [],
   "source": [
    "costs_df = pd.read_csv('/Users/aimaldastagirzada/Downloads/costs.csv')"
   ]
  },
  {
   "cell_type": "code",
   "execution_count": 183,
   "metadata": {},
   "outputs": [],
   "source": [
    "N = len(costs_df)  # Number of potential sites\n",
    "Fixed_costs = costs_df['Fixed'].values"
   ]
  },
  {
   "cell_type": "code",
   "execution_count": 184,
   "metadata": {},
   "outputs": [],
   "source": [
    "m = Model('HealthLink_Supply_Chain_Diversification')\n"
   ]
  },
  {
   "cell_type": "code",
   "execution_count": 185,
   "metadata": {},
   "outputs": [],
   "source": [
    "y = m.addVars(N, vtype=GRB.BINARY, name=\"y\")  # Whether to open a warehouse at site i\n"
   ]
  },
  {
   "cell_type": "code",
   "execution_count": 186,
   "metadata": {},
   "outputs": [],
   "source": [
    "units = m.addVars(N, lb=0, ub=375000, name=\"units\")"
   ]
  },
  {
   "cell_type": "code",
   "execution_count": 187,
   "metadata": {},
   "outputs": [],
   "source": [
    "# Objective Function\n",
    "m.setObjective(quicksum(Fixed_costs[i] * y[i] for i in range(N)), GRB.MINIMIZE)\n"
   ]
  },
  {
   "cell_type": "code",
   "execution_count": 188,
   "metadata": {},
   "outputs": [],
   "source": [
    "for i in range(N):\n",
    "    m.addConstr(units[i] >= 175000 * y[i], f\"Min_units_{i+1}\")\n",
    "    m.addConstr(units[i] <= 375000 * y[i], f\"Max_units_{i+1}\")"
   ]
  },
  {
   "cell_type": "code",
   "execution_count": 189,
   "metadata": {},
   "outputs": [
    {
     "data": {
      "text/plain": [
       "<gurobi.Constr *Awaiting Model Update*>"
      ]
     },
     "execution_count": 189,
     "metadata": {},
     "output_type": "execute_result"
    }
   ],
   "source": [
    "m.addConstr(quicksum(y[i] for i in range(5, 16)) >= 4, \"Min_Locations_6_16\")\n",
    "\n",
    "# Constraint: No more than 6 locations chosen amongst even-numbered sites\n",
    "m.addConstr(quicksum(y[i] for i in range(1, N, 2)) <= 6, \"Max_Even_Sites\")\n",
    "\n",
    "# Constraint: If location 1 or 2 is chosen, then sites 5, 6, and 7 cannot be chosen\n",
    "m.addConstr(y[0] + y[1] <= 1, \"Exclusion1\")\n",
    "m.addConstr(y[4] + y[5] + y[6] <= 2*(1-y[0]), \"Exclusion2_5_6_7_if_1\")\n",
    "m.addConstr(y[4] + y[5] + y[6] <= 2*(1-y[1]), \"Exclusion2_5_6_7_if_2\")\n",
    "\n",
    "# Constraint: If any location from 19-22 is chosen, locations 24, 26, and 27 cannot be chosen\n",
    "for i in range(18, 22):\n",
    "    m.addConstr(y[i] + y[23] + y[25] + y[26] <= 1, f\"Mutual_Exclusion_{i+1}_with_24_26_27\")\n",
    "\n",
    "# Constraint: If any location from 1-5 is chosen, at least one odd site from 21-27 must be chosen\n",
    "m.addConstr(quicksum(y[i] for i in range(5)) <= quicksum(y[j] for j in range(20, 27, 2)), \"Conditional_Selection_1_5_with_21_27\")\n",
    "\n",
    "# Constraint: The number of locations chosen in 1-14 must equal the number of locations chosen in 15-27\n",
    "m.addConstr(quicksum(y[i] for i in range(14)) == quicksum(y[i] for i in range(14, 27)), \"Equal_Selection_1_14_and_15_27\")\n",
    "\n",
    "# Constraint: The sum of all units at sites 1-9 and 19-27 must be equal\n",
    "m.addConstr(quicksum(units[i] for i in range(9)) == quicksum(units[i] for i in range(18, 27)), \"Equal_Units_1_9_19_27\")\n"
   ]
  },
  {
   "cell_type": "code",
   "execution_count": 190,
   "metadata": {},
   "outputs": [
    {
     "name": "stdout",
     "output_type": "stream",
     "text": [
      "Gurobi Optimizer version 11.0.0 build v11.0.0rc2 (mac64[arm] - Darwin 23.3.0 23D56)\n",
      "\n",
      "CPU model: Apple M1\n",
      "Thread count: 8 physical cores, 8 logical processors, using up to 8 threads\n",
      "\n",
      "Optimize a model with 66 rows, 54 columns and 212 nonzeros\n",
      "Model fingerprint: 0x63c82321\n",
      "Variable types: 27 continuous, 27 integer (27 binary)\n",
      "Coefficient statistics:\n",
      "  Matrix range     [1e+00, 4e+05]\n",
      "  Objective range  [1e+06, 3e+06]\n",
      "  Bounds range     [1e+00, 4e+05]\n",
      "  RHS range        [1e+00, 6e+00]\n",
      "Presolve removed 19 rows and 9 columns\n",
      "Presolve time: 0.01s\n",
      "Presolved: 47 rows, 45 columns, 174 nonzeros\n",
      "Variable types: 18 continuous, 27 integer (27 binary)\n",
      "Found heuristic solution: objective 9980000.0000\n",
      "\n",
      "Root relaxation: objective 6.440000e+06, 14 iterations, 0.00 seconds (0.00 work units)\n",
      "\n",
      "    Nodes    |    Current Node    |     Objective Bounds      |     Work\n",
      " Expl Unexpl |  Obj  Depth IntInf | Incumbent    BestBd   Gap | It/Node Time\n",
      "\n",
      "*    0     0               0    6440000.0000 6440000.00  0.00%     -    0s\n",
      "\n",
      "Explored 1 nodes (14 simplex iterations) in 0.03 seconds (0.00 work units)\n",
      "Thread count was 8 (of 8 available processors)\n",
      "\n",
      "Solution count 2: 6.44e+06 9.98e+06 \n",
      "\n",
      "Optimal solution found (tolerance 1.00e-04)\n",
      "Best objective 6.440000000000e+06, best bound 6.440000000000e+06, gap 0.0000%\n"
     ]
    }
   ],
   "source": [
    "# Solve the model\n",
    "m.optimize()"
   ]
  },
  {
   "cell_type": "code",
   "execution_count": 191,
   "metadata": {},
   "outputs": [
    {
     "name": "stdout",
     "output_type": "stream",
     "text": [
      "Optimal total cost: 6440000.0\n",
      "Warehouse at site 11 is selected with 375000.0 units.\n",
      "Warehouse at site 13 is selected with 375000.0 units.\n",
      "Warehouse at site 15 is selected with 375000.0 units.\n",
      "Warehouse at site 16 is selected with 375000.0 units.\n"
     ]
    }
   ],
   "source": [
    "# Output the solution\n",
    "if m.status == GRB.OPTIMAL:\n",
    "    print(f\"Optimal total cost: {m.objVal}\")\n",
    "    for i in range(N):\n",
    "        if y[i].X > 0.5:  # If a warehouse is established at site i\n",
    "            print(f\"Warehouse at site {i+1} is selected with {units[i].X} units.\")"
   ]
  }
 ],
 "metadata": {
  "kernelspec": {
   "display_name": "Python 3",
   "language": "python",
   "name": "python3"
  },
  "language_info": {
   "codemirror_mode": {
    "name": "ipython",
    "version": 3
   },
   "file_extension": ".py",
   "mimetype": "text/x-python",
   "name": "python",
   "nbconvert_exporter": "python",
   "pygments_lexer": "ipython3",
   "version": "3.9.6"
  }
 },
 "nbformat": 4,
 "nbformat_minor": 2
}
