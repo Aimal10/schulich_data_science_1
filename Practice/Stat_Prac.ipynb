{
 "cells": [
  {
   "cell_type": "code",
   "execution_count": 4,
   "metadata": {},
   "outputs": [
    {
     "name": "stdout",
     "output_type": "stream",
     "text": [
      "   sepal_length  sepal_width  petal_length  petal_width species\n",
      "0           5.1          3.5           1.4          0.2  setosa\n",
      "1           4.9          3.0           1.4          0.2  setosa\n",
      "2           4.7          3.2           1.3          0.2  setosa\n",
      "3           4.6          3.1           1.5          0.2  setosa\n",
      "4           5.0          3.6           1.4          0.2  setosa\n"
     ]
    }
   ],
   "source": [
    "import numpy as np\n",
    "import pandas as pd\n",
    "from scipy import stats\n",
    "import seaborn as sns\n",
    "\n",
    "# Load the iris data set\n",
    "iris = sns.load_dataset('iris')\n",
    "\n",
    "print(iris.head())"
   ]
  },
  {
   "cell_type": "code",
   "execution_count": 5,
   "metadata": {},
   "outputs": [],
   "source": [
    "df = pd.read_csv('/Users/aimaldastagirzada/Downloads/8836201-6f9306ad21398ea43cba4f7d537619d0e07d5ae3/iris.csv')"
   ]
  },
  {
   "cell_type": "code",
   "execution_count": 14,
   "metadata": {},
   "outputs": [
    {
     "data": {
      "text/html": [
       "<div>\n",
       "<style scoped>\n",
       "    .dataframe tbody tr th:only-of-type {\n",
       "        vertical-align: middle;\n",
       "    }\n",
       "\n",
       "    .dataframe tbody tr th {\n",
       "        vertical-align: top;\n",
       "    }\n",
       "\n",
       "    .dataframe thead th {\n",
       "        text-align: right;\n",
       "    }\n",
       "</style>\n",
       "<table border=\"1\" class=\"dataframe\">\n",
       "  <thead>\n",
       "    <tr style=\"text-align: right;\">\n",
       "      <th></th>\n",
       "      <th>sepal_length</th>\n",
       "      <th>sepal_width</th>\n",
       "      <th>petal_length</th>\n",
       "      <th>petal_width</th>\n",
       "      <th>species</th>\n",
       "    </tr>\n",
       "  </thead>\n",
       "  <tbody>\n",
       "    <tr>\n",
       "      <th>0</th>\n",
       "      <td>5.1</td>\n",
       "      <td>3.5</td>\n",
       "      <td>1.4</td>\n",
       "      <td>0.2</td>\n",
       "      <td>setosa</td>\n",
       "    </tr>\n",
       "    <tr>\n",
       "      <th>1</th>\n",
       "      <td>4.9</td>\n",
       "      <td>3.0</td>\n",
       "      <td>1.4</td>\n",
       "      <td>0.2</td>\n",
       "      <td>setosa</td>\n",
       "    </tr>\n",
       "    <tr>\n",
       "      <th>2</th>\n",
       "      <td>4.7</td>\n",
       "      <td>3.2</td>\n",
       "      <td>1.3</td>\n",
       "      <td>0.2</td>\n",
       "      <td>setosa</td>\n",
       "    </tr>\n",
       "    <tr>\n",
       "      <th>3</th>\n",
       "      <td>4.6</td>\n",
       "      <td>3.1</td>\n",
       "      <td>1.5</td>\n",
       "      <td>0.2</td>\n",
       "      <td>setosa</td>\n",
       "    </tr>\n",
       "    <tr>\n",
       "      <th>4</th>\n",
       "      <td>5.0</td>\n",
       "      <td>3.6</td>\n",
       "      <td>1.4</td>\n",
       "      <td>0.2</td>\n",
       "      <td>setosa</td>\n",
       "    </tr>\n",
       "    <tr>\n",
       "      <th>...</th>\n",
       "      <td>...</td>\n",
       "      <td>...</td>\n",
       "      <td>...</td>\n",
       "      <td>...</td>\n",
       "      <td>...</td>\n",
       "    </tr>\n",
       "    <tr>\n",
       "      <th>145</th>\n",
       "      <td>6.7</td>\n",
       "      <td>3.0</td>\n",
       "      <td>5.2</td>\n",
       "      <td>2.3</td>\n",
       "      <td>virginica</td>\n",
       "    </tr>\n",
       "    <tr>\n",
       "      <th>146</th>\n",
       "      <td>6.3</td>\n",
       "      <td>2.5</td>\n",
       "      <td>5.0</td>\n",
       "      <td>1.9</td>\n",
       "      <td>virginica</td>\n",
       "    </tr>\n",
       "    <tr>\n",
       "      <th>147</th>\n",
       "      <td>6.5</td>\n",
       "      <td>3.0</td>\n",
       "      <td>5.2</td>\n",
       "      <td>2.0</td>\n",
       "      <td>virginica</td>\n",
       "    </tr>\n",
       "    <tr>\n",
       "      <th>148</th>\n",
       "      <td>6.2</td>\n",
       "      <td>3.4</td>\n",
       "      <td>5.4</td>\n",
       "      <td>2.3</td>\n",
       "      <td>virginica</td>\n",
       "    </tr>\n",
       "    <tr>\n",
       "      <th>149</th>\n",
       "      <td>5.9</td>\n",
       "      <td>3.0</td>\n",
       "      <td>5.1</td>\n",
       "      <td>1.8</td>\n",
       "      <td>virginica</td>\n",
       "    </tr>\n",
       "  </tbody>\n",
       "</table>\n",
       "<p>150 rows × 5 columns</p>\n",
       "</div>"
      ],
      "text/plain": [
       "     sepal_length  sepal_width  petal_length  petal_width    species\n",
       "0             5.1          3.5           1.4          0.2     setosa\n",
       "1             4.9          3.0           1.4          0.2     setosa\n",
       "2             4.7          3.2           1.3          0.2     setosa\n",
       "3             4.6          3.1           1.5          0.2     setosa\n",
       "4             5.0          3.6           1.4          0.2     setosa\n",
       "..            ...          ...           ...          ...        ...\n",
       "145           6.7          3.0           5.2          2.3  virginica\n",
       "146           6.3          2.5           5.0          1.9  virginica\n",
       "147           6.5          3.0           5.2          2.0  virginica\n",
       "148           6.2          3.4           5.4          2.3  virginica\n",
       "149           5.9          3.0           5.1          1.8  virginica\n",
       "\n",
       "[150 rows x 5 columns]"
      ]
     },
     "execution_count": 14,
     "metadata": {},
     "output_type": "execute_result"
    }
   ],
   "source": [
    "iris"
   ]
  },
  {
   "cell_type": "code",
   "execution_count": 29,
   "metadata": {},
   "outputs": [
    {
     "data": {
      "text/html": [
       "<div>\n",
       "<style scoped>\n",
       "    .dataframe tbody tr th:only-of-type {\n",
       "        vertical-align: middle;\n",
       "    }\n",
       "\n",
       "    .dataframe tbody tr th {\n",
       "        vertical-align: top;\n",
       "    }\n",
       "\n",
       "    .dataframe thead th {\n",
       "        text-align: right;\n",
       "    }\n",
       "</style>\n",
       "<table border=\"1\" class=\"dataframe\">\n",
       "  <thead>\n",
       "    <tr style=\"text-align: right;\">\n",
       "      <th></th>\n",
       "      <th>sepal_length</th>\n",
       "      <th>sepal_width</th>\n",
       "      <th>petal_length</th>\n",
       "      <th>petal_width</th>\n",
       "      <th>species</th>\n",
       "    </tr>\n",
       "  </thead>\n",
       "  <tbody>\n",
       "    <tr>\n",
       "      <th>0</th>\n",
       "      <td>5.1</td>\n",
       "      <td>3.5</td>\n",
       "      <td>1.4</td>\n",
       "      <td>0.2</td>\n",
       "      <td>setosa</td>\n",
       "    </tr>\n",
       "    <tr>\n",
       "      <th>1</th>\n",
       "      <td>4.9</td>\n",
       "      <td>3.0</td>\n",
       "      <td>1.4</td>\n",
       "      <td>0.2</td>\n",
       "      <td>setosa</td>\n",
       "    </tr>\n",
       "    <tr>\n",
       "      <th>2</th>\n",
       "      <td>4.7</td>\n",
       "      <td>3.2</td>\n",
       "      <td>1.3</td>\n",
       "      <td>0.2</td>\n",
       "      <td>setosa</td>\n",
       "    </tr>\n",
       "    <tr>\n",
       "      <th>3</th>\n",
       "      <td>4.6</td>\n",
       "      <td>3.1</td>\n",
       "      <td>1.5</td>\n",
       "      <td>0.2</td>\n",
       "      <td>setosa</td>\n",
       "    </tr>\n",
       "    <tr>\n",
       "      <th>4</th>\n",
       "      <td>5.0</td>\n",
       "      <td>3.6</td>\n",
       "      <td>1.4</td>\n",
       "      <td>0.2</td>\n",
       "      <td>setosa</td>\n",
       "    </tr>\n",
       "    <tr>\n",
       "      <th>5</th>\n",
       "      <td>5.4</td>\n",
       "      <td>3.9</td>\n",
       "      <td>1.7</td>\n",
       "      <td>0.4</td>\n",
       "      <td>setosa</td>\n",
       "    </tr>\n",
       "    <tr>\n",
       "      <th>6</th>\n",
       "      <td>4.6</td>\n",
       "      <td>3.4</td>\n",
       "      <td>1.4</td>\n",
       "      <td>0.3</td>\n",
       "      <td>setosa</td>\n",
       "    </tr>\n",
       "    <tr>\n",
       "      <th>7</th>\n",
       "      <td>5.0</td>\n",
       "      <td>3.4</td>\n",
       "      <td>1.5</td>\n",
       "      <td>0.2</td>\n",
       "      <td>setosa</td>\n",
       "    </tr>\n",
       "    <tr>\n",
       "      <th>8</th>\n",
       "      <td>4.4</td>\n",
       "      <td>2.9</td>\n",
       "      <td>1.4</td>\n",
       "      <td>0.2</td>\n",
       "      <td>setosa</td>\n",
       "    </tr>\n",
       "    <tr>\n",
       "      <th>9</th>\n",
       "      <td>4.9</td>\n",
       "      <td>3.1</td>\n",
       "      <td>1.5</td>\n",
       "      <td>0.1</td>\n",
       "      <td>setosa</td>\n",
       "    </tr>\n",
       "    <tr>\n",
       "      <th>10</th>\n",
       "      <td>5.4</td>\n",
       "      <td>3.7</td>\n",
       "      <td>1.5</td>\n",
       "      <td>0.2</td>\n",
       "      <td>setosa</td>\n",
       "    </tr>\n",
       "    <tr>\n",
       "      <th>11</th>\n",
       "      <td>4.8</td>\n",
       "      <td>3.4</td>\n",
       "      <td>1.6</td>\n",
       "      <td>0.2</td>\n",
       "      <td>setosa</td>\n",
       "    </tr>\n",
       "    <tr>\n",
       "      <th>12</th>\n",
       "      <td>4.8</td>\n",
       "      <td>3.0</td>\n",
       "      <td>1.4</td>\n",
       "      <td>0.1</td>\n",
       "      <td>setosa</td>\n",
       "    </tr>\n",
       "    <tr>\n",
       "      <th>13</th>\n",
       "      <td>4.3</td>\n",
       "      <td>3.0</td>\n",
       "      <td>1.1</td>\n",
       "      <td>0.1</td>\n",
       "      <td>setosa</td>\n",
       "    </tr>\n",
       "    <tr>\n",
       "      <th>14</th>\n",
       "      <td>5.8</td>\n",
       "      <td>4.0</td>\n",
       "      <td>1.2</td>\n",
       "      <td>0.2</td>\n",
       "      <td>setosa</td>\n",
       "    </tr>\n",
       "    <tr>\n",
       "      <th>15</th>\n",
       "      <td>5.7</td>\n",
       "      <td>4.4</td>\n",
       "      <td>1.5</td>\n",
       "      <td>0.4</td>\n",
       "      <td>setosa</td>\n",
       "    </tr>\n",
       "    <tr>\n",
       "      <th>16</th>\n",
       "      <td>5.4</td>\n",
       "      <td>3.9</td>\n",
       "      <td>1.3</td>\n",
       "      <td>0.4</td>\n",
       "      <td>setosa</td>\n",
       "    </tr>\n",
       "    <tr>\n",
       "      <th>17</th>\n",
       "      <td>5.1</td>\n",
       "      <td>3.5</td>\n",
       "      <td>1.4</td>\n",
       "      <td>0.3</td>\n",
       "      <td>setosa</td>\n",
       "    </tr>\n",
       "    <tr>\n",
       "      <th>18</th>\n",
       "      <td>5.7</td>\n",
       "      <td>3.8</td>\n",
       "      <td>1.7</td>\n",
       "      <td>0.3</td>\n",
       "      <td>setosa</td>\n",
       "    </tr>\n",
       "    <tr>\n",
       "      <th>19</th>\n",
       "      <td>5.1</td>\n",
       "      <td>3.8</td>\n",
       "      <td>1.5</td>\n",
       "      <td>0.3</td>\n",
       "      <td>setosa</td>\n",
       "    </tr>\n",
       "  </tbody>\n",
       "</table>\n",
       "</div>"
      ],
      "text/plain": [
       "    sepal_length  sepal_width  petal_length  petal_width species\n",
       "0            5.1          3.5           1.4          0.2  setosa\n",
       "1            4.9          3.0           1.4          0.2  setosa\n",
       "2            4.7          3.2           1.3          0.2  setosa\n",
       "3            4.6          3.1           1.5          0.2  setosa\n",
       "4            5.0          3.6           1.4          0.2  setosa\n",
       "5            5.4          3.9           1.7          0.4  setosa\n",
       "6            4.6          3.4           1.4          0.3  setosa\n",
       "7            5.0          3.4           1.5          0.2  setosa\n",
       "8            4.4          2.9           1.4          0.2  setosa\n",
       "9            4.9          3.1           1.5          0.1  setosa\n",
       "10           5.4          3.7           1.5          0.2  setosa\n",
       "11           4.8          3.4           1.6          0.2  setosa\n",
       "12           4.8          3.0           1.4          0.1  setosa\n",
       "13           4.3          3.0           1.1          0.1  setosa\n",
       "14           5.8          4.0           1.2          0.2  setosa\n",
       "15           5.7          4.4           1.5          0.4  setosa\n",
       "16           5.4          3.9           1.3          0.4  setosa\n",
       "17           5.1          3.5           1.4          0.3  setosa\n",
       "18           5.7          3.8           1.7          0.3  setosa\n",
       "19           5.1          3.8           1.5          0.3  setosa"
      ]
     },
     "execution_count": 29,
     "metadata": {},
     "output_type": "execute_result"
    }
   ],
   "source": [
    "iris[iris['species'] != 'versicolor']"
   ]
  },
  {
   "cell_type": "code",
   "execution_count": 62,
   "metadata": {},
   "outputs": [
    {
     "name": "stdout",
     "output_type": "stream",
     "text": [
      "T-statistics: 9.454975848128596\n",
      "P-value: 1.8452599454769255e-15\n"
     ]
    }
   ],
   "source": [
    "setosa = iris[iris['species'] == 'setosa']['sepal_width']\n",
    "versicolor = iris[iris['species']=='versicolor']['sepal_width']\n",
    "\n",
    "t_stat,p_val = stats.ttest_ind(setosa,versicolor)\n",
    "print(f\"T-statistics: {t_stat}\")\n",
    "print(f\"P-value: {p_val}\")\n"
   ]
  },
  {
   "cell_type": "code",
   "execution_count": 23,
   "metadata": {},
   "outputs": [
    {
     "name": "stdout",
     "output_type": "stream",
     "text": [
      "T-statistic: 9.454975848128596\n",
      "P-value: 1.8452599454769255e-15\n"
     ]
    }
   ],
   "source": [
    "\n",
    "setosa = iris[iris['species'] == 'setosa']['sepal_width']\n",
    "versicolor = iris[iris['species'] == 'versicolor']['sepal_width']\n",
    "\n",
    "t_stat, p_val = stats.ttest_ind(setosa, versicolor)\n",
    "\n",
    "print(f\"T-statistic: {t_stat}\")\n",
    "print(f\"P-value: {p_val}\")"
   ]
  },
  {
   "cell_type": "code",
   "execution_count": 30,
   "metadata": {},
   "outputs": [
    {
     "name": "stdout",
     "output_type": "stream",
     "text": [
      "T-stats: 3.2057607502218186\n",
      "p_value: 0.0018191004238894803\n"
     ]
    }
   ],
   "source": [
    "virginica = iris[iris['species'] == 'virginica']['sepal_width']\n",
    "versicolor= iris[iris['species']== 'versicolor']['sepal_width']\n",
    "\n",
    "t_stat,p_val= stats.ttest_ind(virginica,versicolor)\n",
    "\n",
    "print(f\"T-stats: {t_stat}\")\n",
    "print(f\"p_value: {p_val}\")"
   ]
  },
  {
   "cell_type": "code",
   "execution_count": 32,
   "metadata": {},
   "outputs": [
    {
     "name": "stdout",
     "output_type": "stream",
     "text": [
      "T-Stats: 3.2057607502218186\n",
      "P_Val: 0.0018191004238894803\n"
     ]
    }
   ],
   "source": [
    "virginica = iris[iris['species']=='virginica']['sepal_width']\n",
    "versicolor= iris[iris['species']=='versicolor']['sepal_width']\n",
    "\n",
    "t_stat,p_val= stats.ttest_ind(virginica,versicolor)\n",
    "\n",
    "print(f\"T-Stats: {t_stat}\")\n",
    "print(f\"P_Val: {p_val}\")\n"
   ]
  },
  {
   "cell_type": "code",
   "execution_count": 33,
   "metadata": {},
   "outputs": [
    {
     "data": {
      "text/plain": [
       "<seaborn.axisgrid.FacetGrid at 0x116fb9460>"
      ]
     },
     "execution_count": 33,
     "metadata": {},
     "output_type": "execute_result"
    },
    {
     "data": {
      "image/png": "[encoded data removed]",
      "text/plain": [
       "<Figure size 617.75x500 with 1 Axes>"
      ]
     },
     "metadata": {},
     "output_type": "display_data"
    }
   ],
   "source": [
    "sns.lmplot(data=iris, x='sepal_length', y='sepal_width', hue='species')"
   ]
  },
  {
   "cell_type": "markdown",
   "metadata": {},
   "source": []
  },
  {
   "cell_type": "code",
   "execution_count": 38,
   "metadata": {},
   "outputs": [
    {
     "name": "stdout",
     "output_type": "stream",
     "text": [
      "T-Stats: 14.625367047410148\n",
      "P_Val: 2.2304090710248333e-26\n"
     ]
    }
   ],
   "source": [
    "virginica = iris[iris['species']=='virginica']['petal_width']\n",
    "versicolor= iris[iris['species']=='versicolor']['petal_width']\n",
    "\n",
    "t_stat,p_val= stats.ttest_ind(virginica,versicolor)\n",
    "\n",
    "print(f\"T-Stats: {t_stat}\")\n",
    "print(f\"P_Val: {p_val}\")\n"
   ]
  },
  {
   "cell_type": "code",
   "execution_count": 57,
   "metadata": {},
   "outputs": [
    {
     "data": {
      "text/plain": [
       "count       4\n",
       "unique      4\n",
       "top       150\n",
       "freq        1\n",
       "Name: species, dtype: int64"
      ]
     },
     "execution_count": 57,
     "metadata": {},
     "output_type": "execute_result"
    }
   ],
   "source": []
  },
  {
   "cell_type": "code",
   "execution_count": 63,
   "metadata": {},
   "outputs": [
    {
     "name": "stdout",
     "output_type": "stream",
     "text": [
      "T-Stats: 9.454975848128596\n",
      "P-Val: 1.8452599454769255e-15\n"
     ]
    }
   ],
   "source": [
    "setosa = iris[iris['species']=='setosa']['sepal_width']\n",
    "versicolor=iris[iris['species']=='versicolor']['sepal_width']\n",
    "\n",
    "t_stat,p_val = stats.ttest_ind(setosa,versicolor)\n",
    "\n",
    "print(f\"T-Stats: {t_stat}\")\n",
    "print(f\"P-Val: {p_val}\")\n"
   ]
  },
  {
   "cell_type": "code",
   "execution_count": 66,
   "metadata": {},
   "outputs": [
    {
     "name": "stdout",
     "output_type": "stream",
     "text": [
      "T-Stats 3.2057607502218186\n",
      "P_val 0.0018191004238894803\n"
     ]
    }
   ],
   "source": [
    "virginica= iris[iris['species'] =='virginica']['sepal_width']\n",
    "versicolor =iris[iris['species']== 'versicolor']['sepal_width']\n",
    "\n",
    "t_stat,p_val = stats.ttest_ind(virginica, versicolor)\n",
    "\n",
    "print(f\"T-Stats {t_stat}\")\n",
    "\n",
    "print(f\"P_val {p_val}\")\n"
   ]
  },
  {
   "cell_type": "code",
   "execution_count": 10,
   "metadata": {},
   "outputs": [
    {
     "name": "stdout",
     "output_type": "stream",
     "text": [
      "Chi-Sqaured: 51.132288195334525\n",
      "P_val: 2.0945619933052866e-10\n"
     ]
    }
   ],
   "source": [
    "iris['sepal_width_cat'] = pd.cut(iris['sepal_width'], bins=[0, 3, 3.5, 4])\n",
    "contingency_table= pd.crosstab(iris['species'], iris['sepal_width_cat'])\n",
    "\n",
    "chi2, p_val, dof, expected = stats.chi2_contingency(contingency_table)\n",
    "\n",
    "print(f\"Chi-Sqaured: {chi2}\" )\n",
    "print(f\"P_val: {p_val}\")\n"
   ]
  },
  {
   "cell_type": "code",
   "execution_count": 18,
   "metadata": {},
   "outputs": [
    {
     "name": "stdout",
     "output_type": "stream",
     "text": [
      "Chi-Test: 51.132288195334525\n",
      "P_Val: 2.0945619933052866e-10\n"
     ]
    }
   ],
   "source": [
    "iris['sepal_width_cat']= pd.cut(iris['sepal_width'], bins=[0,3,3.5,4])\n",
    "contingency_table = pd.crosstab(iris['species'],iris['sepal_width_cat'])\n",
    "\n",
    "chi2,p_val,dof,expected = stats.chi2_contingency(contingency_table)\n",
    "\n",
    "print(f\"Chi-Test: {chi2}\")\n",
    "print(f\"P_Val: {p_val}\")\n"
   ]
  },
  {
   "cell_type": "code",
   "execution_count": 19,
   "metadata": {},
   "outputs": [
    {
     "name": "stdout",
     "output_type": "stream",
     "text": [
      "F-Stats: 49.160040089612075\n",
      "P_val 4.492017133309115e-17\n"
     ]
    }
   ],
   "source": [
    "setosa = iris[iris['species'] == 'setosa']['sepal_width']\n",
    "versicolor = iris[iris['species'] == 'versicolor']['sepal_width']\n",
    "virginica = iris[iris['species'] == 'virginica']['sepal_width']\n",
    "\n",
    "f_stat , p_val =stats.f_oneway(setosa,versicolor,virginica)\n",
    "print(F\"F-Stats: {f_stat}\")\n",
    "print(F\"P_val {p_val}\")\n"
   ]
  },
  {
   "cell_type": "code",
   "execution_count": 21,
   "metadata": {},
   "outputs": [
    {
     "name": "stdout",
     "output_type": "stream",
     "text": [
      "Pearson Correlation: -0.11756978413300195\n",
      "P-Val:0.15189826071144857\n"
     ]
    }
   ],
   "source": [
    "pearson_corr, p_val =stats.pearsonr(iris['sepal_length'], iris['sepal_width'])\n",
    "\n",
    "print(f\"Pearson Correlation: {pearson_corr}\")\n",
    "print(F\"P-Val:{p_val}\")"
   ]
  },
  {
   "cell_type": "code",
   "execution_count": 32,
   "metadata": {},
   "outputs": [
    {
     "name": "stdout",
     "output_type": "stream",
     "text": [
      "Pearson Correlation: 0.7425466856651598\n",
      "P_val: 6.709843017660548e-10\n"
     ]
    }
   ],
   "source": [
    "pearson_corr,p_val = stats.pearsonr(iris[iris['species']=='setosa']['sepal_length'],iris[iris['species']=='setosa']['sepal_width'])\n",
    "print(F\"Pearson Correlation: {pearson_corr}\")\n",
    "print(F\"P_val: {p_val}\")\n"
   ]
  },
  {
   "cell_type": "code",
   "execution_count": 36,
   "metadata": {},
   "outputs": [
    {
     "name": "stdout",
     "output_type": "stream",
     "text": [
      "t-stats: 9.454975848128596\n",
      "t-stats: 1.8452599454769255e-15\n"
     ]
    }
   ],
   "source": [
    "setosa_1 =iris[iris['species'] == 'setosa']['sepal_width']\n",
    "versicolor_1=iris[iris['species']== 'versicolor']['sepal_width']\n",
    "\n",
    "t_stat, p_val = stats.ttest_ind(setosa_1, versicolor_1)\n",
    "\n",
    "print(f\"t-stats: {t_stat}\")\n",
    "print(f\"t-stats: {p_val}\")\n",
    "\n"
   ]
  },
  {
   "cell_type": "code",
   "execution_count": 39,
   "metadata": {},
   "outputs": [
    {
     "name": "stdout",
     "output_type": "stream",
     "text": [
      "T-statistic: 3.2057607502218186\n",
      "P-value: 0.0018191004238894803\n"
     ]
    }
   ],
   "source": [
    "virginica_1 = iris[iris['species']=='virginica']['sepal_width']\n",
    "versicolor_1= versicolor_1\n",
    "\n",
    "t_stat,p_val= stats.ttest_ind(virginica_1,versicolor_1)\n",
    "print(f\"T-statistic: {t_stat}\")\n",
    "print(f\"P-value: {p_val}\")"
   ]
  },
  {
   "cell_type": "code",
   "execution_count": 40,
   "metadata": {},
   "outputs": [
    {
     "data": {
      "text/plain": [
       "<seaborn.axisgrid.FacetGrid at 0x164de3c40>"
      ]
     },
     "execution_count": 40,
     "metadata": {},
     "output_type": "execute_result"
    },
    {
     "data": {
      "image/png": "[encoded data removed]",
      "text/plain": [
       "<Figure size 617.75x500 with 1 Axes>"
      ]
     },
     "metadata": {},
     "output_type": "display_data"
    }
   ],
   "source": [
    "sns.lmplot(data = iris, x='sepal_length', y='sepal_width' , hue='species')\n"
   ]
  },
  {
   "cell_type": "code",
   "execution_count": 44,
   "metadata": {},
   "outputs": [
    {
     "name": "stdout",
     "output_type": "stream",
     "text": [
      "Chi-Sqaured: 51.132288195334525\n",
      "p_val 2.0945619933052866e-10\n"
     ]
    }
   ],
   "source": [
    "iris['sepal_width_cat_1']= pd.cut(iris['sepal_width'], bins= [0,3,3.5,4])\n",
    "\n",
    "contingency_table_1 = pd.crosstab(iris['species'], iris['sepal_width_cat_1'])\n",
    "\n",
    "chi2, p_val, dof, expected = stats.chi2_contingency(contingency_table_1)\n",
    "print(f\"Chi-Sqaured: {chi2}\")\n",
    "print(f\"p_val {p_val}\")"
   ]
  },
  {
   "cell_type": "code",
   "execution_count": 46,
   "metadata": {},
   "outputs": [
    {
     "name": "stdout",
     "output_type": "stream",
     "text": [
      "F-stats: 49.160040089612075\n",
      "P_val: 4.492017133309115e-17\n"
     ]
    }
   ],
   "source": [
    "setosa = iris[iris['species'] == 'setosa']['sepal_width']\n",
    "versicolor = iris[iris['species'] == 'versicolor']['sepal_width']\n",
    "virginica = iris[iris['species'] == 'virginica']['sepal_width']\n",
    "\n",
    "f_stat, p_val = stats.f_oneway(setosa,versicolor,virginica)\n",
    "\n",
    "print(f\"F-stats: {f_stat}\")\n",
    "\n",
    "print(f\"P_val: {p_val}\")"
   ]
  },
  {
   "cell_type": "code",
   "execution_count": 48,
   "metadata": {},
   "outputs": [
    {
     "name": "stdout",
     "output_type": "stream",
     "text": [
      "Pearson_corr: -0.11756978413300195\n",
      "P_val: 0.15189826071144857\n"
     ]
    }
   ],
   "source": [
    "pearson_corr, p_val = stats.pearsonr(iris['sepal_length'], iris['sepal_width'])\n",
    "print(f\"Pearson_corr: {pearson_corr}\")\n",
    "print(f\"P_val: {p_val}\")"
   ]
  },
  {
   "cell_type": "code",
   "execution_count": 50,
   "metadata": {},
   "outputs": [
    {
     "name": "stdout",
     "output_type": "stream",
     "text": [
      "Person-Test: 0.7425466856651598\n",
      "p_val: 6.709843017660548e-10\n"
     ]
    }
   ],
   "source": [
    "pearson_corr, p_val =stats.pearsonr(iris[iris['species'] =='setosa']['sepal_length'], iris[iris['species'] == 'setosa']['sepal_width'])\n",
    "print(f\"Person-Test: {pearson_corr}\")\n",
    "print(f\"p_val: {p_val}\")"
   ]
  },
  {
   "cell_type": "code",
   "execution_count": 52,
   "metadata": {},
   "outputs": [
    {
     "name": "stdout",
     "output_type": "stream",
     "text": [
      "Kris: 2312.0\n",
      "P_val: 2.1433797280775203e-13\n"
     ]
    }
   ],
   "source": [
    "setosa = iris[iris['species'] == 'setosa']['sepal_width']\n",
    "versicolor = iris[iris['species'] == 'versicolor']['sepal_width']\n",
    "\n",
    "\n",
    "U_stat, p_val = stats.mannwhitneyu(setosa, versicolor)\n",
    "\n",
    "print(f\"Kris: {U_stat}\")\n",
    "print(f\"P_val: {p_val}\")"
   ]
  },
  {
   "cell_type": "code",
   "execution_count": 54,
   "metadata": {},
   "outputs": [
    {
     "name": "stdout",
     "output_type": "stream",
     "text": [
      "The test statistic: 63.571146104163795\n",
      "The p-value of the test: 1.5692820940316782e-14\n"
     ]
    }
   ],
   "source": [
    "setosa = iris[iris['species'] == 'setosa']['sepal_width']\n",
    "versicolor = iris[iris['species'] == 'versicolor']['sepal_width']\n",
    "virginica = iris[iris['species'] == 'virginica']['sepal_width']\n",
    "\n",
    "H, p_val= stats.kruskal(setosa,versicolor,virginica)\n",
    "\n",
    "print('The test statistic:', H)\n",
    "print('The p-value of the test:', p_val)"
   ]
  },
  {
   "cell_type": "code",
   "execution_count": null,
   "metadata": {},
   "outputs": [],
   "source": []
  }
 ],
 "metadata": {
  "kernelspec": {
   "display_name": "Python 3",
   "language": "python",
   "name": "python3"
  },
  "language_info": {
   "codemirror_mode": {
    "name": "ipython",
    "version": 3
   },
   "file_extension": ".py",
   "mimetype": "text/x-python",
   "name": "python",
   "nbconvert_exporter": "python",
   "pygments_lexer": "ipython3",
   "version": "3.9.6"
  },
  "orig_nbformat": 4
 },
 "nbformat": 4,
 "nbformat_minor": 2
}
