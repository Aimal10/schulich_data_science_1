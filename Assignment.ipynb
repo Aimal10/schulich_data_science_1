{
 "cells": [
  {
   "cell_type": "code",
   "execution_count": 12,
   "metadata": {},
   "outputs": [],
   "source": [
    "from gurobipy import Model, GRB, quicksum\n",
    "import pandas as df\n"
   ]
  },
  {
   "cell_type": "code",
   "execution_count": 2,
   "metadata": {},
   "outputs": [
    {
     "name": "stdout",
     "output_type": "stream",
     "text": [
      "Set parameter Username\n",
      "Academic license - for non-commercial use only - expires 2025-01-15\n"
     ]
    }
   ],
   "source": [
    "m = Model(\"Optimization\")\n"
   ]
  },
  {
   "cell_type": "code",
   "execution_count": 13,
   "metadata": {},
   "outputs": [],
   "source": [
    "data = df.read_csv('/Users/aimaldastagirzada/Downloads/price_response (1).csv')"
   ]
  },
  {
   "cell_type": "code",
   "execution_count": 22,
   "metadata": {},
   "outputs": [
    {
     "name": "stdout",
     "output_type": "stream",
     "text": [
      "Gurobi Optimizer version 11.0.0 build v11.0.0rc2 (mac64[arm] - Darwin 23.3.0 23D56)\n",
      "\n",
      "CPU model: Apple M1\n",
      "Thread count: 8 physical cores, 8 logical processors, using up to 8 threads\n",
      "\n",
      "Optimize a model with 18 rows, 18 columns and 45 nonzeros\n",
      "Model fingerprint: 0x7edd169a\n",
      "Model has 9 quadratic objective terms\n",
      "Coefficient statistics:\n",
      "  Matrix range     [1e-01, 5e+01]\n",
      "  Objective range  [0e+00, 0e+00]\n",
      "  QObjective range [2e+00, 2e+00]\n",
      "  Bounds range     [0e+00, 0e+00]\n",
      "  RHS range        [4e+04, 9e+04]\n",
      "Presolve removed 9 rows and 0 columns\n",
      "\n",
      "Continuous model is non-convex -- solving as a MIP\n",
      "\n",
      "Presolve removed 15 rows and 12 columns\n",
      "Presolve time: 0.12s\n",
      "Presolved: 10 rows, 11 columns, 28 nonzeros\n",
      "Presolved model has 3 bilinear constraint(s)\n",
      "Warning: Model contains variables with very large bounds participating\n",
      "         in product terms.\n",
      "         Presolve was not able to compute smaller bounds for these variables.\n",
      "         Consider bounding these variables or reformulating the model.\n",
      "\n",
      "Variable types: 11 continuous, 0 integer (0 binary)\n",
      "Found heuristic solution: objective 7.317150e+08\n",
      "Warning: Markowitz tolerance tightened to 0.03125\n",
      "\n",
      "Root relaxation: objective 3.984798e+09, 9 iterations, 0.00 seconds (0.00 work units)\n",
      "\n",
      "    Nodes    |    Current Node    |     Objective Bounds      |     Work\n",
      " Expl Unexpl |  Obj  Depth IntInf | Incumbent    BestBd   Gap | It/Node Time\n",
      "\n",
      "     0     0 3.9848e+09    0    3 7.3172e+08 3.9848e+09   445%     -    0s\n",
      "     0     0 3.9752e+09    0    3 7.3172e+08 3.9752e+09   443%     -    0s\n",
      "     0     2 3.9752e+09    0    3 7.3172e+08 3.9752e+09   443%     -    0s\n",
      "\n",
      "Explored 317 nodes (515 simplex iterations) in 0.17 seconds (0.01 work units)\n",
      "Thread count was 8 (of 8 available processors)\n",
      "\n",
      "Solution count 1: 7.31715e+08 \n",
      "\n",
      "Optimal solution found (tolerance 1.00e-04)\n",
      "Best objective 7.317150169140e+08, best bound 7.317166801425e+08, gap 0.0002%\n",
      "Optimal Total Revenue: $731715016.91\n",
      "Optimal Prices and Expected Demands:\n",
      "Line 1 Product 1: Price = $392.16, Demand = 17617\n",
      "Line 1 Product 2: Price = $2274.25, Demand = 18895\n",
      "Line 1 Product 3: Price = $2325.71, Demand = 17838\n",
      "Line 2 Product 1: Price = $2122.02, Demand = 18521\n",
      "Line 2 Product 2: Price = $4168.38, Demand = 18423\n",
      "Line 2 Product 3: Price = $6554.32, Demand = 17914\n",
      "Line 3 Product 1: Price = $8015.59, Demand = 19707\n",
      "Line 3 Product 2: Price = $4674.60, Demand = 17996\n",
      "Line 3 Product 3: Price = $8381.59, Demand = 19657\n"
     ]
    }
   ],
   "source": [
    "from gurobipy import Model, GRB\n",
    "import gurobipy as gb\n",
    "\n",
    "# Assume the dataset is loaded into a variable named 'data'\n",
    "# Cross-elasticity factor\n",
    "cross_elasticity = 0.1\n",
    "\n",
    "# Create a new model\n",
    "model = Model(\"TechEssentials Pricing Optimization with Capacity\")\n",
    "\n",
    "# Decision variables: Price for each of the 9 products\n",
    "prices = model.addVars(len(data), lb=0, vtype=GRB.CONTINUOUS, name=\"Price\")\n",
    "\n",
    "# Demand variables for each product, adjusted for cross-elasticity and data-driven\n",
    "demands = model.addVars(len(data), lb=0, vtype=GRB.CONTINUOUS, name=\"Demand\")\n",
    "\n",
    "# Update demand calculations to include data-driven parameters and cross-elasticity\n",
    "for i in range(len(data)):\n",
    "    intercept, sensitivity = data.loc[i, ['Intercept', 'Sensitivity']]\n",
    "    # Base demand from price, adjusted for intercept and sensitivity from the dataset\n",
    "    demand_expr = intercept + sensitivity * prices[i]\n",
    "    \n",
    "    # Add cross-elasticity effects from other products within the same line\n",
    "    for j in range((i // 3) * 3, (i // 3) * 3 + 3):\n",
    "        if i != j:\n",
    "            demand_expr += cross_elasticity * (prices[j] - prices[i])\n",
    "    \n",
    "    model.addConstr(demands[i] == demand_expr, name=f\"DemandCalc_{i}\")\n",
    "\n",
    "# Capacity constraints\n",
    "for i in range(len(data)):\n",
    "    capacity = data.loc[i, 'Capacity']\n",
    "    model.addConstr(demands[i] <= capacity, name=f\"Capacity_{i}\")\n",
    "\n",
    "# Objective: Maximize total revenue\n",
    "model.setObjective(gb.quicksum(prices[i] * demands[i] for i in range(len(data))), GRB.MAXIMIZE)\n",
    "\n",
    "# Optimize the model\n",
    "model.optimize()\n",
    "\n",
    "# Display results (Pseudo-code; replace with actual Gurobi syntax if running in a compatible environment)\n",
    "if model.status == GRB.OPTIMAL:\n",
    "    print(\"Optimal Total Revenue: ${:.2f}\".format(model.ObjVal))\n",
    "    print(\"Optimal Prices and Expected Demands:\")\n",
    "    for i in range(len(data)):\n",
    "        print(f\"{data.loc[i, 'Product']}: Price = ${prices[i].X:.2f}, Demand = {demands[i].X:.0f}\")\n",
    "else:\n",
    "    print(\"Optimal solution was not found.\")"
   ]
  },
  {
   "cell_type": "code",
   "execution_count": 15,
   "metadata": {},
   "outputs": [
    {
     "name": "stdout",
     "output_type": "stream",
     "text": [
      "<gurobi.Model MIP instance TechEssentials Pricing Optimization with Capacity: 18 constrs, 18 vars, Parameter changes: Username=(user-defined)>\n"
     ]
    }
   ],
   "source": [
    "print(model)"
   ]
  },
  {
   "cell_type": "code",
   "execution_count": 24,
   "metadata": {},
   "outputs": [
    {
     "name": "stdout",
     "output_type": "stream",
     "text": [
      "Gurobi Optimizer version 11.0.0 build v11.0.0rc2 (mac64[arm] - Darwin 23.3.0 23D56)\n",
      "\n",
      "CPU model: Apple M1\n",
      "Thread count: 8 physical cores, 8 logical processors, using up to 8 threads\n",
      "\n",
      "Optimize a model with 1 rows, 2 columns and 2 nonzeros\n",
      "Model fingerprint: 0x882e4b4d\n",
      "Model has 2 quadratic objective terms\n",
      "Coefficient statistics:\n",
      "  Matrix range     [1e+00, 1e+00]\n",
      "  Objective range  [1e+00, 1e+00]\n",
      "  QObjective range [2e+00, 2e+00]\n",
      "  Bounds range     [0e+00, 0e+00]\n",
      "  RHS range        [0e+00, 0e+00]\n",
      "Presolve time: 0.05s\n",
      "Presolved: 1 rows, 2 columns, 2 nonzeros\n",
      "Presolved model has 2 quadratic objective terms\n",
      "Ordering time: 0.00s\n",
      "\n",
      "Barrier statistics:\n",
      " AA' NZ     : 0.000e+00\n",
      " Factor NZ  : 1.000e+00\n",
      " Factor Ops : 1.000e+00 (less than 1 second per iteration)\n",
      " Threads    : 1\n",
      "\n",
      "                  Objective                Residual\n",
      "Iter       Primal          Dual         Primal    Dual     Compl     Time\n",
      "   0  -4.99000000e+05  5.00000000e+05  0.00e+00 0.00e+00  1.00e+06     0s\n",
      "   1  -1.95652945e+05  1.96229725e+05  0.00e+00 0.00e+00  1.31e+05     0s\n",
      "   2  -2.85969829e+04  2.88179646e+04  0.00e+00 0.00e+00  1.91e+04     0s\n",
      "   3  -4.16348655e+03  4.24832517e+03  0.00e+00 2.49e-14  2.80e+03     0s\n",
      "   4  -5.99801316e+02  6.32546625e+02  0.00e+00 0.00e+00  4.11e+02     0s\n",
      "   5  -8.38329973e+01  9.66481023e+01  0.00e+00 2.66e-15  6.02e+01     0s\n",
      "   6  -1.05865992e+01  1.57841232e+01  0.00e+00 2.22e-16  8.79e+00     0s\n",
      "   7  -7.42574700e-01  3.04875202e+00  0.00e+00 2.22e-16  1.26e+00     0s\n",
      "   8   3.88295826e-01  8.75026192e-01  0.00e+00 0.00e+00  1.62e-01     0s\n",
      "   9   4.88580888e-01  5.20317433e-01  0.00e+00 1.11e-16  1.06e-02     0s\n",
      "  10   4.98460260e-01  5.02009589e-01  0.00e+00 5.55e-17  1.18e-03     0s\n",
      "  11   4.99781203e-01  5.00250133e-01  0.00e+00 0.00e+00  1.56e-04     0s\n",
      "  12   4.99968833e-01  5.00035440e-01  0.00e+00 0.00e+00  2.22e-05     0s\n",
      "  13   4.99995562e-01  5.00005022e-01  0.00e+00 0.00e+00  3.15e-06     0s\n",
      "  14   4.99999368e-01  5.00000714e-01  0.00e+00 5.55e-17  4.49e-07     0s\n",
      "  15   4.99999910e-01  5.00000102e-01  0.00e+00 0.00e+00  6.38e-08     0s\n",
      "  16   4.99999987e-01  5.00000014e-01  0.00e+00 0.00e+00  9.09e-09     0s\n",
      "  17   4.99999998e-01  5.00000002e-01  0.00e+00 0.00e+00  1.29e-09     0s\n",
      "\n",
      "Barrier solved model in 17 iterations and 0.14 seconds (0.00 work units)\n",
      "Optimal objective 4.99999998e-01\n",
      "\n",
      "Optimal Price of Basic Version (p1): 0.49996981147290337\n",
      "Optimal Price of Advanced Version (p2): 0.5000301887625681\n"
     ]
    }
   ],
   "source": [
    "import gurobipy as gp\n",
    "from gurobipy import GRB\n",
    "\n",
    "try:\n",
    "    # Create a new model\n",
    "    m = gp.Model(\"TechEssentials_Optimization\")\n",
    "\n",
    "    # Create variables\n",
    "    p1 = m.addVar(name=\"p1\", lb=0)  # Price of Basic version\n",
    "    p2 = m.addVar(name=\"p2\", lb=0)  # Price of Advanced version\n",
    "\n",
    "    # Coefficients for the linear price response function\n",
    "    # Replace these values with the actual coefficients\n",
    "    a1, a2, b1, b2 = 1, 1, 1, 1  # Example coefficients\n",
    "\n",
    "    # Set the objective: Maximize revenue\n",
    "    m.setObjective(p1 * (a1 - b1 * p1) + p2 * (a2 - b2 * p2), GRB.MAXIMIZE)\n",
    "\n",
    "    # Add constraint: Advanced version should have a higher price than the Basic one\n",
    "    m.addConstr(p2 >= p1, \"Price_Ordering\")\n",
    "\n",
    "    # Optimize model\n",
    "    m.optimize()\n",
    "\n",
    "    # Print optimal values\n",
    "    if m.status == GRB.OPTIMAL:\n",
    "        print(f\"Optimal Price of Basic Version (p1): {p1.X}\")\n",
    "        print(f\"Optimal Price of Advanced Version (p2): {p2.X}\")\n",
    "    else:\n",
    "        print(\"Optimal solution was not found.\")\n",
    "\n",
    "except gp.GurobiError as e:\n",
    "    print(f\"Error code {e.errno}: {e}\")\n",
    "\n",
    "except AttributeError:\n",
    "    print(\"Encountered an attribute error.\")\n"
   ]
  },
  {
   "cell_type": "code",
   "execution_count": null,
   "metadata": {},
   "outputs": [],
   "source": []
  }
 ],
 "metadata": {
  "kernelspec": {
   "display_name": "Python 3",
   "language": "python",
   "name": "python3"
  },
  "language_info": {
   "codemirror_mode": {
    "name": "ipython",
    "version": 3
   },
   "file_extension": ".py",
   "mimetype": "text/x-python",
   "name": "python",
   "nbconvert_exporter": "python",
   "pygments_lexer": "ipython3",
   "version": "3.9.6"
  }
 },
 "nbformat": 4,
 "nbformat_minor": 2
}
