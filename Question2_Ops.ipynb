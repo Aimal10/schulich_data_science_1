{
 "cells": [
  {
   "cell_type": "code",
   "execution_count": 215,
   "metadata": {},
   "outputs": [],
   "source": [
    "from gurobipy import Model, GRB"
   ]
  },
  {
   "cell_type": "code",
   "execution_count": 216,
   "metadata": {},
   "outputs": [],
   "source": [
    "# Initialize the model\n",
    "model = gp.Model(\"Optimal_Coffee_Ordering\")\n"
   ]
  },
  {
   "cell_type": "code",
   "execution_count": 217,
   "metadata": {},
   "outputs": [],
   "source": [
    "# Problem data\n",
    "scenarios = [\n",
    "    {'n': 1, 'p': 0.09, 'd': 90},\n",
    "    {'n': 2, 'p': 0.12, 'd': 95},\n",
    "    {'n': 3, 'p': 0.10, 'd': 100},\n",
    "    {'n': 4, 'p': 0.05, 'd': 105},\n",
    "    {'n': 5, 'p': 0.16, 'd': 110},\n",
    "    {'n': 6, 'p': 0.14, 'd': 115},\n",
    "    {'n': 7, 'p': 0.03, 'd': 120},\n",
    "    {'n': 8, 'p': 0.08, 'd': 125},\n",
    "    {'n': 9, 'p': 0.05, 'd': 130},\n",
    "    {'n': 10, 'p': 0.05, 'd': 135},\n",
    "    {'n': 11, 'p': 0.04, 'd': 140},\n",
    "    {'n': 12, 'p': 0.03, 'd': 145},\n",
    "    {'n': 13, 'p': 0.02, 'd': 150},\n",
    "    {'n': 14, 'p': 0.01, 'd': 155},\n",
    "    {'n': 15, 'p': 0.02, 'd': 160},\n",
    "    {'n': 16, 'p': 0.01, 'd': 165}\n",
    "]"
   ]
  },
  {
   "cell_type": "code",
   "execution_count": 218,
   "metadata": {},
   "outputs": [],
   "source": [
    "# Define the decision variables\n",
    "initial_order = model.addVar(name=\"InitialOrder\", vtype=GRB.INTEGER)\n",
    "phil_sebastian_order = {s['n']: model.addVar(name=f\"PhilSebastian_{s['n']}\", vtype=GRB.INTEGER) for s in scenarios}\n",
    "rosso_order = {s['n']: model.addVar(name=f\"Rosso_{s['n']}\", vtype=GRB.INTEGER) for s in scenarios}\n",
    "monogram_order = {s['n']: model.addVar(name=f\"Monogram_{s['n']}\", vtype=GRB.INTEGER) for s in scenarios}\n",
    "\n"
   ]
  },
  {
   "cell_type": "code",
   "execution_count": 219,
   "metadata": {},
   "outputs": [],
   "source": [
    "# Set the objective to minimize the total expected cost\n",
    "model.setObjective(95 * initial_order + sum(s['p'] * (120 * phil_sebastian_order[s['n']] + 105 * rosso_order[s['n']] + 110 * monogram_order[s['n']]) for s in scenarios), GRB.MINIMIZE)\n"
   ]
  },
  {
   "cell_type": "code",
   "execution_count": 220,
   "metadata": {},
   "outputs": [],
   "source": [
    "for s in scenarios:\n",
    "    model.addConstr(initial_order + phil_sebastian_order[s['n']] + rosso_order[s['n']] + monogram_order[s['n']] >= s['d'], name=f\"SupplyRequirement_{s['n']}\")\n",
    "\n",
    "    # Add binary variables and constraints for minimum orders from Rosso and Monogram\n",
    "    rosso_indicator = model.addVar(vtype=GRB.BINARY, name=f\"RossoIndicator_{s['n']}\")\n",
    "    model.addGenConstrIndicator(rosso_indicator, True, rosso_order[s['n']] >= 70, name=f\"RossoMinOrder_{s['n']}\")\n",
    "    model.addGenConstrIndicator(rosso_indicator, False, rosso_order[s['n']] == 0, name=f\"NoRossoOrder_{s['n']}\")\n",
    "\n",
    "    monogram_indicator = model.addVar(vtype=GRB.BINARY, name=f\"MonogramIndicator_{s['n']}\")\n",
    "    model.addGenConstrIndicator(monogram_indicator, True, monogram_order[s['n']] >= 40, name=f\"MonogramMinOrder_{s['n']}\")\n",
    "    model.addGenConstrIndicator(monogram_indicator, False, monogram_order[s['n']] == 0, name=f\"NoMonogramOrder_{s['n']}\")\n"
   ]
  },
  {
   "cell_type": "code",
   "execution_count": 221,
   "metadata": {},
   "outputs": [
    {
     "name": "stdout",
     "output_type": "stream",
     "text": [
      "Gurobi Optimizer version 11.0.0 build v11.0.0rc2 (mac64[arm] - Darwin 23.3.0 23D56)\n",
      "\n",
      "CPU model: Apple M1\n",
      "Thread count: 8 physical cores, 8 logical processors, using up to 8 threads\n",
      "\n",
      "Optimize a model with 16 rows, 81 columns and 64 nonzeros\n",
      "Model fingerprint: 0xdc6a3717\n",
      "Model has 64 general constraints\n",
      "Variable types: 0 continuous, 81 integer (32 binary)\n",
      "Coefficient statistics:\n",
      "  Matrix range     [1e+00, 1e+00]\n",
      "  Objective range  [1e+00, 1e+02]\n",
      "  Bounds range     [1e+00, 1e+00]\n",
      "  RHS range        [9e+01, 2e+02]\n",
      "  GenCon rhs range [4e+01, 7e+01]\n",
      "  GenCon coe range [1e+00, 1e+00]\n",
      "Found heuristic solution: objective 8.600000e+11\n",
      "Presolve added 64 rows and 0 columns\n",
      "Presolve time: 0.00s\n",
      "Presolved: 80 rows, 81 columns, 192 nonzeros\n",
      "Found heuristic solution: objective 11690.250000\n",
      "Variable types: 0 continuous, 81 integer (32 binary)\n",
      "\n",
      "Root relaxation: objective 1.113550e+04, 38 iterations, 0.00 seconds (0.00 work units)\n",
      "\n",
      "    Nodes    |    Current Node    |     Objective Bounds      |     Work\n",
      " Expl Unexpl |  Obj  Depth IntInf | Incumbent    BestBd   Gap | It/Node Time\n",
      "\n",
      "     0     0 11135.5000    0   13 11690.2500 11135.5000  4.75%     -    0s\n",
      "H    0     0                    11611.800000 11135.5000  4.10%     -    0s\n",
      "H    0     0                    11587.600000 11135.5000  3.90%     -    0s\n",
      "H    0     0                    11501.500000 11135.5000  3.18%     -    0s\n",
      "     0     0 11207.3476    0   45 11501.5000 11207.3476  2.56%     -    0s\n",
      "     0     0 11208.6420    0   44 11501.5000 11208.6420  2.55%     -    0s\n",
      "H    0     0                    11492.500000 11222.3278  2.35%     -    0s\n",
      "     0     0 11238.0965    0   45 11492.5000 11238.0965  2.21%     -    0s\n",
      "     0     0 11239.3106    0   36 11492.5000 11239.3106  2.20%     -    0s\n",
      "H    0     0                    11440.250000 11298.1578  1.24%     -    0s\n",
      "     0     0 11298.1578    0   21 11440.2500 11298.1578  1.24%     -    0s\n",
      "H    0     0                    11349.400000 11314.6325  0.31%     -    0s\n",
      "H    0     0                    11347.500000 11314.6325  0.29%     -    0s\n",
      "     0     0 11314.6325    0   34 11347.5000 11314.6325  0.29%     -    0s\n",
      "     0     0 11314.6325    0   30 11347.5000 11314.6325  0.29%     -    0s\n",
      "     0     0 11328.0867    0   26 11347.5000 11328.0867  0.17%     -    0s\n",
      "H    0     0                    11343.500000 11328.0867  0.14%     -    0s\n",
      "     0     0 11339.1923    0    4 11343.5000 11339.1923  0.04%     -    0s\n",
      "     0     0 11339.1923    0    6 11343.5000 11339.1923  0.04%     -    0s\n",
      "     0     0 11339.1923    0    6 11343.5000 11339.1923  0.04%     -    0s\n",
      "     0     0 11343.5000    0    6 11343.5000 11343.5000  0.00%     -    0s\n",
      "\n",
      "Cutting planes:\n",
      "  Gomory: 8\n",
      "  Implied bound: 5\n",
      "  MIR: 5\n",
      "  Flow cover: 1\n",
      "  RLT: 1\n",
      "\n",
      "Explored 1 nodes (247 simplex iterations) in 0.10 seconds (0.01 work units)\n",
      "Thread count was 8 (of 8 available processors)\n",
      "\n",
      "Solution count 10: 11343.5 11347.5 11349.4 ... 8.6e+11\n",
      "\n",
      "Optimal solution found (tolerance 1.00e-04)\n",
      "Best objective 1.134350000000e+04, best bound 1.134350000000e+04, gap 0.0000%\n"
     ]
    }
   ],
   "source": [
    "# Execute the model optimization\n",
    "model.optimize()"
   ]
  },
  {
   "cell_type": "code",
   "execution_count": 236,
   "metadata": {},
   "outputs": [
    {
     "name": "stdout",
     "output_type": "stream",
     "text": [
      "Optimal initial order quantity: 95.0, Total Initial Cost: $9025.00\n",
      "Scenario 1: Local Costs: Phil & Sebastian = $0.00, Rosso = $0.00, Monogram = $0.00, Total Local = $0.00\n",
      "Scenario 2: Local Costs: Phil & Sebastian = $0.00, Rosso = $0.00, Monogram = $0.00, Total Local = $0.00\n",
      "Scenario 3: Local Costs: Phil & Sebastian = $600.00, Rosso = $0.00, Monogram = $0.00, Total Local = $600.00\n",
      "Scenario 4: Local Costs: Phil & Sebastian = $1200.00, Rosso = $0.00, Monogram = $0.00, Total Local = $1200.00\n",
      "Scenario 5: Local Costs: Phil & Sebastian = $1800.00, Rosso = $0.00, Monogram = $0.00, Total Local = $1800.00\n",
      "Scenario 6: Local Costs: Phil & Sebastian = $2400.00, Rosso = $0.00, Monogram = $0.00, Total Local = $2400.00\n",
      "Scenario 7: Local Costs: Phil & Sebastian = $3000.00, Rosso = $0.00, Monogram = $0.00, Total Local = $3000.00\n",
      "Scenario 8: Local Costs: Phil & Sebastian = $3600.00, Rosso = $0.00, Monogram = $0.00, Total Local = $3600.00\n",
      "Scenario 9: Local Costs: Phil & Sebastian = $4200.00, Rosso = $0.00, Monogram = $0.00, Total Local = $4200.00\n",
      "Scenario 10: Local Costs: Phil & Sebastian = $0.00, Rosso = $0.00, Monogram = $4400.00, Total Local = $4400.00\n",
      "Scenario 11: Local Costs: Phil & Sebastian = $0.00, Rosso = $0.00, Monogram = $4950.00, Total Local = $4950.00\n",
      "Scenario 12: Local Costs: Phil & Sebastian = $0.00, Rosso = $0.00, Monogram = $5500.00, Total Local = $5500.00\n",
      "Scenario 13: Local Costs: Phil & Sebastian = $0.00, Rosso = $0.00, Monogram = $6050.00, Total Local = $6050.00\n",
      "Scenario 14: Local Costs: Phil & Sebastian = $0.00, Rosso = $0.00, Monogram = $6600.00, Total Local = $6600.00\n",
      "Scenario 15: Local Costs: Phil & Sebastian = $0.00, Rosso = $0.00, Monogram = $7150.00, Total Local = $7150.00\n",
      "Scenario 16: Local Costs: Phil & Sebastian = $0.00, Rosso = $7350.00, Monogram = $0.00, Total Local = $7350.00\n"
     ]
    }
   ],
   "source": [
    "# Output the optimized results\n",
    "total_initial_cost = 95 * initial_order.X\n",
    "print(f\"Optimal initial order quantity: {initial_order.X}, Total Initial Cost: ${total_initial_cost:.2f}\")\n",
    "for s in scenarios:\n",
    "    cost_phil = 120 * phil_sebastian_order[s['n']].X\n",
    "    cost_rosso = 105 * rosso_order[s['n']].X\n",
    "    cost_monogram = 110 * monogram_order[s['n']].X\n",
    "    total_cost_local = cost_phil + cost_rosso + cost_monogram\n",
    "    print(f\"Scenario {s['n']}: Local Costs: Phil & Sebastian = ${cost_phil:.2f}, Rosso = ${cost_rosso:.2f}, Monogram = ${cost_monogram:.2f}, Total Local = ${total_cost_local:.2f}\")"
   ]
  },
  {
   "cell_type": "code",
   "execution_count": 237,
   "metadata": {},
   "outputs": [],
   "source": [
    "#E\n",
    "for s in scenarios:\n",
    "    # Add binary variables and constraints for minimum orders from Rosso\n",
    "    rosso_indicator = model.addVar(vtype=GRB.BINARY, name=f\"RossoIndicator_{s['n']}\")\n",
    "    model.addGenConstrIndicator(rosso_indicator, True, rosso_order[s['n']] >= 70, name=f\"RossoMinOrder_{s['n']}\")\n",
    "    model.addGenConstrIndicator(rosso_indicator, False, rosso_order[s['n']] == 0, name=f\"NoRossoOrder_{s['n']}\")\n"
   ]
  },
  {
   "cell_type": "code",
   "execution_count": 225,
   "metadata": {},
   "outputs": [
    {
     "name": "stdout",
     "output_type": "stream",
     "text": [
      "Gurobi Optimizer version 11.0.0 build v11.0.0rc2 (mac64[arm] - Darwin 23.3.0 23D56)\n",
      "\n",
      "CPU model: Apple M1\n",
      "Thread count: 8 physical cores, 8 logical processors, using up to 8 threads\n",
      "\n",
      "Optimize a model with 16 rows, 113 columns and 64 nonzeros\n",
      "Model fingerprint: 0xddff030f\n",
      "Model has 128 general constraints\n",
      "Variable types: 0 continuous, 113 integer (64 binary)\n",
      "Coefficient statistics:\n",
      "  Matrix range     [1e+00, 1e+00]\n",
      "  Objective range  [1e+00, 1e+02]\n",
      "  Bounds range     [1e+00, 1e+00]\n",
      "  RHS range        [9e+01, 2e+02]\n",
      "  GenCon rhs range [4e+01, 7e+01]\n",
      "  GenCon coe range [1e+00, 1e+00]\n",
      "\n",
      "MIP start from previous solve produced solution with objective 11343.5 (0.00s)\n",
      "Loaded MIP start from previous solve with objective 11343.5\n",
      "\n",
      "Presolve added 64 rows and 0 columns\n",
      "Presolve removed 0 rows and 32 columns\n",
      "Presolve time: 0.00s\n",
      "Presolved: 80 rows, 81 columns, 192 nonzeros\n",
      "Variable types: 0 continuous, 81 integer (32 binary)\n",
      "\n",
      "Root relaxation: objective 1.113550e+04, 38 iterations, 0.00 seconds (0.00 work units)\n",
      "\n",
      "    Nodes    |    Current Node    |     Objective Bounds      |     Work\n",
      " Expl Unexpl |  Obj  Depth IntInf | Incumbent    BestBd   Gap | It/Node Time\n",
      "\n",
      "     0     0 11135.5000    0   13 11343.5000 11135.5000  1.83%     -    0s\n",
      "     0     0 11164.0000    0   13 11343.5000 11164.0000  1.58%     -    0s\n",
      "     0     0 11166.5000    0   13 11343.5000 11166.5000  1.56%     -    0s\n",
      "     0     0 11284.4369    0   18 11343.5000 11284.4369  0.52%     -    0s\n",
      "     0     0 11284.4369    0    8 11343.5000 11284.4369  0.52%     -    0s\n",
      "     0     0 11284.4369    0    7 11343.5000 11284.4369  0.52%     -    0s\n",
      "     0     0 11337.6667    0    4 11343.5000 11337.6667  0.05%     -    0s\n",
      "     0     0     cutoff    0      11343.5000 11343.5000  0.00%     -    0s\n",
      "\n",
      "Cutting planes:\n",
      "  Gomory: 4\n",
      "  Implied bound: 4\n",
      "  MIR: 6\n",
      "  Flow cover: 2\n",
      "  Relax-and-lift: 4\n",
      "\n",
      "Explored 1 nodes (144 simplex iterations) in 0.06 seconds (0.00 work units)\n",
      "Thread count was 8 (of 8 available processors)\n",
      "\n",
      "Solution count 1: 11343.5 \n",
      "\n",
      "Optimal solution found (tolerance 1.00e-04)\n",
      "Best objective 1.134350000000e+04, best bound 1.134350000000e+04, gap 0.0000%\n",
      "Optimal gallons to order in advance: 95.0\n",
      "Total Initial Cost: $9025.00\n",
      "Optimal Total Expected Cost: $11343.50\n"
     ]
    }
   ],
   "source": [
    "##F\n",
    "# After optimization\n",
    "model.optimize()\n",
    "\n",
    "# Retrieve the optimal number of gallons to order initially\n",
    "optimal_gallons = initial_order.X\n",
    "\n",
    "# Calculate the total initial cost based on the optimal initial order quantity\n",
    "total_initial_cost = 95 * optimal_gallons\n",
    "\n",
    "# Retrieve the optimal objective function value (total expected cost including scenarios)\n",
    "optimal_total_cost = model.ObjVal\n",
    "\n",
    "print(f\"Optimal gallons to order in advance: {optimal_gallons}\")\n",
    "print(f\"Total Initial Cost: ${total_initial_cost:.2f}\")\n",
    "print(f\"Optimal Total Expected Cost: ${optimal_total_cost:.2f}\")\n"
   ]
  },
  {
   "cell_type": "code",
   "execution_count": 238,
   "metadata": {},
   "outputs": [
    {
     "name": "stdout",
     "output_type": "stream",
     "text": [
      "Threshold price for no initial order: $105.0 per gallon\n"
     ]
    }
   ],
   "source": [
    "#G\n",
    "# Calculate the total expected cost of supplying all demand from local suppliers\n",
    "expected_cost_without_initial_order = sum(s['p'] * min(120 * s['d'], 105 * max(s['d'] - 70, 0) + 70 * 105, 110 * max(s['d'] - 40, 0) + 40 * 110) for s in scenarios)\n",
    "# Calculate total expected demand\n",
    "total_demand = sum(s['p'] * s['d'] for s in scenarios)\n",
    "# Calculate the threshold price\n",
    "threshold_price_no_order = expected_cost_without_initial_order / total_demand\n",
    "print(f\"Threshold price for no initial order: ${round(threshold_price_no_order, 1)} per gallon\")\n"
   ]
  },
  {
   "cell_type": "code",
   "execution_count": 233,
   "metadata": {},
   "outputs": [
    {
     "name": "stdout",
     "output_type": "stream",
     "text": [
      "Threshold price for maximum order: $136.7 per gallon\n"
     ]
    }
   ],
   "source": [
    "##H\n",
    "max_demand = max(s['d'] for s in scenarios)  # The maximum demand from the scenarios\n",
    "cost_if_max_ordered = 95 * max_demand\n",
    "threshold_price_max_order = cost_if_max_ordered / total_demand\n",
    "print(f\"Threshold price for maximum order: ${round(threshold_price_max_order, 1)} per gallon\")\n"
   ]
  },
  {
   "cell_type": "code",
   "execution_count": 239,
   "metadata": {},
   "outputs": [
    {
     "name": "stdout",
     "output_type": "stream",
     "text": [
      "Expected Value of Perfect Information (EVPI): $451.75\n"
     ]
    }
   ],
   "source": [
    "# I \n",
    "# Assume perfect_info_costs are calculated by simulating the minimum cost for each scenario\n",
    "perfect_info_costs = [min(95 * s['d'], 120 * s['d'], 105 * max(s['d'] - 70, 0) + 70 * 105, 110 * max(s['d'] - 40, 0) + 40 * 110) for s in scenarios]\n",
    "perfect_information_cost = sum(s['p'] * cost for s, cost in zip(scenarios, perfect_info_costs))\n",
    "\n",
    "# EVPI\n",
    "evpi = model.ObjVal - perfect_information_cost\n",
    "print(f\"Expected Value of Perfect Information (EVPI): ${evpi:.2f}\")"
   ]
  },
  {
   "cell_type": "code",
   "execution_count": null,
   "metadata": {},
   "outputs": [],
   "source": []
  }
 ],
 "metadata": {
  "kernelspec": {
   "display_name": "Python 3",
   "language": "python",
   "name": "python3"
  },
  "language_info": {
   "codemirror_mode": {
    "name": "ipython",
    "version": 3
   },
   "file_extension": ".py",
   "mimetype": "text/x-python",
   "name": "python",
   "nbconvert_exporter": "python",
   "pygments_lexer": "ipython3",
   "version": "3.9.6"
  }
 },
 "nbformat": 4,
 "nbformat_minor": 2
}
