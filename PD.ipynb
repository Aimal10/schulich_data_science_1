{
 "cells": [
  {
   "cell_type": "code",
   "execution_count": 2,
   "metadata": {},
   "outputs": [],
   "source": [
    "\n",
    "import pandas as pd\n",
    "import numpy as np\n",
    "from datetime import datetime, timedelta\n",
    "from sklearn.model_selection import train_test_split\n",
    "from sklearn.linear_model import LogisticRegression\n",
    "from sklearn.metrics import accuracy_score, confusion_matrix, classification_report\n",
    "\n",
    "# Settings for synthetic data\n",
    "num_rows = 2421\n",
    "start_date = datetime(2009, 1, 1)\n",
    "end_date = datetime(2011, 12, 31)\n",
    "num_countries = 10\n",
    "num_products = 15\n",
    "num_routes = 5\n",
    "\n",
    "# Generate synthetic data\n",
    "np.random.seed(0)  # For reproducibility\n",
    "dates = pd.date_range(start_date, end_date).to_series()\n",
    "df = pd.DataFrame({\n",
    "    'Order Date': np.random.choice(dates, num_rows),\n",
    "    'Customer Country Code': np.random.choice(range(1, num_countries + 1), num_rows),\n",
    "    'Product Code': np.random.choice(['A', 'B', 'C'], num_rows),\n",
    "    'Description': ['Parka' for _ in range(num_rows)],\n",
    "    'Order Type': ['VO' for _ in range(num_rows)],\n",
    "    'Customer Order Code': np.random.randint(1000, 9999, num_rows),\n",
    "    'Value': np.random.uniform(50, 500, num_rows),\n",
    "    'Currency': ['EUR' for _ in range(num_rows)],\n",
    "    'Items': np.random.randint(1, 10, num_rows),\n",
    "    'Route': np.random.choice(range(1, num_routes + 1), num_rows)\n",
    "})\n"
   ]
  },
  {
   "cell_type": "code",
   "execution_count": null,
   "metadata": {},
   "outputs": [],
   "source": []
  }
 ],
 "metadata": {
  "kernelspec": {
   "display_name": "Python 3",
   "language": "python",
   "name": "python3"
  },
  "language_info": {
   "codemirror_mode": {
    "name": "ipython",
    "version": 3
   },
   "file_extension": ".py",
   "mimetype": "text/x-python",
   "name": "python",
   "nbconvert_exporter": "python",
   "pygments_lexer": "ipython3",
   "version": "3.9.6"
  }
 },
 "nbformat": 4,
 "nbformat_minor": 2
}
