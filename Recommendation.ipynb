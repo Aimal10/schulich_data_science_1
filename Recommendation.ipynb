{
 "cells": [
  {
   "cell_type": "markdown",
   "metadata": {},
   "source": [
    "# incoporating cost\n",
    "# NLP\n"
   ]
  },
  {
   "cell_type": "code",
   "execution_count": 41,
   "metadata": {},
   "outputs": [],
   "source": [
    "import speech_recognition as sr\n",
    "from gtts import gTTS\n",
    "import os\n",
    "import random  # Import the random module"
   ]
  },
  {
   "cell_type": "code",
   "execution_count": 42,
   "metadata": {},
   "outputs": [],
   "source": [
    "def speak_message(message):\n",
    "    \"\"\"Converts the given message to speech and plays it.\"\"\"\n",
    "    tts = gTTS(text=message, lang='en')\n",
    "    save_path = f'/Users/aimaldastagirzada/voice_orders/temp_message.mp3'\n",
    "    tts.save(save_path)\n",
    "    os.system(f\"mpg123 '{save_path}'\")\n"
   ]
  },
  {
   "cell_type": "code",
   "execution_count": 43,
   "metadata": {},
   "outputs": [],
   "source": [
    "def listen_for_speech(prompt=None):\n",
    "    \"\"\"Listens for a single speech input and returns the recognized text.\"\"\"\n",
    "    recognizer = sr.Recognizer()\n",
    "    with sr.Microphone() as source:\n",
    "        if prompt:\n",
    "            speak_message(prompt)\n",
    "        print(\"Listening...\")\n",
    "        recognizer.adjust_for_ambient_noise(source, duration=1)\n",
    "        audio = recognizer.listen(source)\n",
    "    try:\n",
    "        speech_text = recognizer.recognize_google(audio)\n",
    "        print(\"Recognized:\", speech_text)\n",
    "        return speech_text.lower()\n",
    "    except sr.UnknownValueError:\n",
    "        print(\"Could not understand audio\")\n",
    "        speak_message(\"Sorry, I couldn't understand what you said. Let's try that again.\")\n",
    "        return \"retry\"\n",
    "    except sr.RequestError as e:\n",
    "        print(\"Request failed; {0}\".format(e))\n",
    "        speak_message(\"I'm having trouble connecting. Please try again later.\")\n",
    "        return \"error\""
   ]
  },
  {
   "cell_type": "code",
   "execution_count": 44,
   "metadata": {},
   "outputs": [],
   "source": [
    "def confirm_order():\n",
    "    \"\"\"Asks for user's order, confirms it, and handles the confirmation response.\"\"\"\n",
    "    order = listen_for_speech(\"Please say your order.\")\n",
    "    if order in [\"retry\", \"error\"]:\n",
    "        return False\n",
    "    confirm_message = f\"You said {order}. Is that correct? Please say 'yes' or 'no'.\"\n",
    "    speak_message(confirm_message)\n",
    "\n",
    "    confirmation = listen_for_speech()\n",
    "    if \"yes\" in confirmation:\n",
    "        speak_message(\"Thank you, your order has been confirmed.\")\n",
    "        return order\n",
    "    elif \"no\" in confirmation:\n",
    "        speak_message(\"Sorry, let's try that again.\")\n",
    "        return False\n",
    "    else:\n",
    "        return False"
   ]
  },
  {
   "cell_type": "code",
   "execution_count": 45,
   "metadata": {},
   "outputs": [],
   "source": [
    "def handle_next_step():\n",
    "    \"\"\"Asks the user if they want to add another item or proceed to checkout.\"\"\"\n",
    "    while True:\n",
    "        next_step = listen_for_speech(\"If you would like to add another item, please say 'add another item'. If you are ready to proceed to checkout, please say 'proceed'.\")\n",
    "        if next_step == \"retry\":\n",
    "            continue\n",
    "        elif \"add another item\" in next_step:\n",
    "            return \"add\"\n",
    "        elif \"proceed\" in next_step:\n",
    "            return \"checkout\"\n",
    "        else:\n",
    "            speak_message(\"Sorry, I didn't catch that. For adding another item, please say 'add another item', or say 'proceed' to complete your purchase.\")\n"
   ]
  },
  {
   "cell_type": "code",
   "execution_count": 46,
   "metadata": {},
   "outputs": [],
   "source": [
    "def generate_item_cost():\n",
    "    \"\"\"Generates a random cost for an item between $4 and $10.\"\"\"\n",
    "    return random.uniform(4, 10)  # Generates a random float number\n"
   ]
  },
  {
   "cell_type": "code",
   "execution_count": 47,
   "metadata": {},
   "outputs": [
    {
     "name": "stderr",
     "output_type": "stream",
     "text": [
      "High Performance MPEG 1.0/2.0/2.5 Audio Player for Layers 1, 2 and 3\n",
      "\tversion 1.32.5; written and copyright by Michael Hipp and others\n",
      "\tfree software (LGPL) without any warranty but with best wishes\n",
      "\n",
      "Directory: /Users/aimaldastagirzada/voice_orders/\n",
      "Playing MPEG stream 1 of 1: temp_message.mp3 ...\n",
      "\n",
      "MPEG 2.0 L III cbr32 24000 mono\n",
      "\n",
      "[0:04] Decoding of temp_message.mp3 finished.\n",
      "High Performance MPEG 1.0/2.0/2.5 Audio Player for Layers 1, 2 and 3\n",
      "\tversion 1.32.5; written and copyright by Michael Hipp and others\n",
      "\tfree software (LGPL) without any warranty but with best wishes\n",
      "\n",
      "Directory: /Users/aimaldastagirzada/voice_orders/\n",
      "Playing MPEG stream 1 of 1: temp_message.mp3 ...\n",
      "\n",
      "MPEG 2.0 L III cbr32 24000 mono\n",
      "\n",
      "[0:01] Decoding of temp_message.mp3 finished.\n"
     ]
    },
    {
     "name": "stdout",
     "output_type": "stream",
     "text": [
      "Listening...\n",
      "Recognized: I want a bag of potatoes\n"
     ]
    },
    {
     "name": "stderr",
     "output_type": "stream",
     "text": [
      "High Performance MPEG 1.0/2.0/2.5 Audio Player for Layers 1, 2 and 3\n",
      "\tversion 1.32.5; written and copyright by Michael Hipp and others\n",
      "\tfree software (LGPL) without any warranty but with best wishes\n",
      "\n",
      "Directory: /Users/aimaldastagirzada/voice_orders/\n",
      "Playing MPEG stream 1 of 1: temp_message.mp3 ...\n",
      "\n",
      "MPEG 2.0 L III cbr32 24000 mono\n",
      "\n",
      "[0:06] Decoding of temp_message.mp3 finished.\n"
     ]
    },
    {
     "name": "stdout",
     "output_type": "stream",
     "text": [
      "Listening...\n",
      "Could not understand audio\n"
     ]
    },
    {
     "name": "stderr",
     "output_type": "stream",
     "text": [
      "High Performance MPEG 1.0/2.0/2.5 Audio Player for Layers 1, 2 and 3\n",
      "\tversion 1.32.5; written and copyright by Michael Hipp and others\n",
      "\tfree software (LGPL) without any warranty but with best wishes\n",
      "\n",
      "Directory: /Users/aimaldastagirzada/voice_orders/\n",
      "Playing MPEG stream 1 of 1: temp_message.mp3 ...\n",
      "\n",
      "MPEG 2.0 L III cbr32 24000 mono\n",
      "\n",
      "[0:04] Decoding of temp_message.mp3 finished.\n",
      "High Performance MPEG 1.0/2.0/2.5 Audio Player for Layers 1, 2 and 3\n",
      "\tversion 1.32.5; written and copyright by Michael Hipp and others\n",
      "\tfree software (LGPL) without any warranty but with best wishes\n",
      "\n",
      "Directory: /Users/aimaldastagirzada/voice_orders/\n",
      "Playing MPEG stream 1 of 1: temp_message.mp3 ...\n",
      "\n",
      "MPEG 2.0 L III cbr32 24000 mono\n",
      "\n",
      "[0:01] Decoding of temp_message.mp3 finished.\n"
     ]
    },
    {
     "name": "stdout",
     "output_type": "stream",
     "text": [
      "Listening...\n",
      "Recognized: a bag of potatoes please\n"
     ]
    },
    {
     "name": "stderr",
     "output_type": "stream",
     "text": [
      "High Performance MPEG 1.0/2.0/2.5 Audio Player for Layers 1, 2 and 3\n",
      "\tversion 1.32.5; written and copyright by Michael Hipp and others\n",
      "\tfree software (LGPL) without any warranty but with best wishes\n",
      "\n",
      "Directory: /Users/aimaldastagirzada/voice_orders/\n",
      "Playing MPEG stream 1 of 1: temp_message.mp3 ...\n",
      "\n",
      "MPEG 2.0 L III cbr32 24000 mono\n",
      "\n",
      "[0:06] Decoding of temp_message.mp3 finished.\n"
     ]
    },
    {
     "name": "stdout",
     "output_type": "stream",
     "text": [
      "Listening...\n",
      "Recognized: yes\n"
     ]
    },
    {
     "name": "stderr",
     "output_type": "stream",
     "text": [
      "High Performance MPEG 1.0/2.0/2.5 Audio Player for Layers 1, 2 and 3\n",
      "\tversion 1.32.5; written and copyright by Michael Hipp and others\n",
      "\tfree software (LGPL) without any warranty but with best wishes\n",
      "\n",
      "Directory: /Users/aimaldastagirzada/voice_orders/\n",
      "Playing MPEG stream 1 of 1: temp_message.mp3 ...\n",
      "\n",
      "MPEG 2.0 L III cbr32 24000 mono\n",
      "\n",
      "[0:02] Decoding of temp_message.mp3 finished.\n",
      "High Performance MPEG 1.0/2.0/2.5 Audio Player for Layers 1, 2 and 3\n",
      "\tversion 1.32.5; written and copyright by Michael Hipp and others\n",
      "\tfree software (LGPL) without any warranty but with best wishes\n",
      "\n",
      "Directory: /Users/aimaldastagirzada/voice_orders/\n",
      "Playing MPEG stream 1 of 1: temp_message.mp3 ...\n",
      "\n",
      "MPEG 2.0 L III cbr32 24000 mono\n",
      "\n",
      "[0:08] Decoding of temp_message.mp3 finished.\n"
     ]
    },
    {
     "name": "stdout",
     "output_type": "stream",
     "text": [
      "Listening...\n",
      "Recognized: proceed\n"
     ]
    },
    {
     "name": "stderr",
     "output_type": "stream",
     "text": [
      "High Performance MPEG 1.0/2.0/2.5 Audio Player for Layers 1, 2 and 3\n",
      "\tversion 1.32.5; written and copyright by Michael Hipp and others\n",
      "\tfree software (LGPL) without any warranty but with best wishes\n",
      "\n",
      "Directory: /Users/aimaldastagirzada/voice_orders/\n",
      "Playing MPEG stream 1 of 1: temp_message.mp3 ...\n",
      "\n",
      "MPEG 2.0 L III cbr32 24000 mono\n",
      "\n",
      "[0:08] Decoding of temp_message.mp3 finished.\n"
     ]
    }
   ],
   "source": [
    "def main_process():\n",
    "    \"\"\"Main process to handle orders and checkout, including item costs.\"\"\"\n",
    "    speak_message(\"Welcome to Walmart. How can I assist you in what you're looking for today?\")\n",
    "    \n",
    "    orders = []\n",
    "    item_costs = []\n",
    "\n",
    "    while True:\n",
    "        order = confirm_order()\n",
    "        if order:\n",
    "            orders.append(order)\n",
    "            item_costs.append(generate_item_cost())  # Store the cost for each item\n",
    "            \n",
    "            next_step = handle_next_step()\n",
    "            if next_step == \"add\":\n",
    "                continue\n",
    "            elif next_step == \"checkout\":\n",
    "                # Create a summary of orders with their costs\n",
    "                orders_summary = \", \".join([f\"{order} at ${cost:.2f}\" for order, cost in zip(orders, item_costs)])\n",
    "                total_cost = sum(item_costs)\n",
    "                speak_message(f\"Thank you for shopping at Walmart: Your total cost is ${total_cost:.2f}. Proceeding to checkout.\")\n",
    "                break\n",
    "        else:\n",
    "            continue\n",
    "\n",
    "if __name__ == \"__main__\":\n",
    "    main_process()"
   ]
  },
  {
   "cell_type": "code",
   "execution_count": null,
   "metadata": {},
   "outputs": [],
   "source": []
  }
 ],
 "metadata": {
  "kernelspec": {
   "display_name": "Python 3",
   "language": "python",
   "name": "python3"
  },
  "language_info": {
   "codemirror_mode": {
    "name": "ipython",
    "version": 3
   },
   "file_extension": ".py",
   "mimetype": "text/x-python",
   "name": "python",
   "nbconvert_exporter": "python",
   "pygments_lexer": "ipython3",
   "version": "3.9.6"
  }
 },
 "nbformat": 4,
 "nbformat_minor": 2
}
