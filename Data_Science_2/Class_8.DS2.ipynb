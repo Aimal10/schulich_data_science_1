{
 "cells": [
  {
   "cell_type": "code",
   "execution_count": 3,
   "metadata": {},
   "outputs": [],
   "source": [
    "import pandas as pd\n",
    "import tensorflow as ts\n",
    "import numpy as np\n",
    "import matplotlib.pyplot as plt"
   ]
  },
  {
   "cell_type": "code",
   "execution_count": 4,
   "metadata": {},
   "outputs": [
    {
     "name": "stdout",
     "output_type": "stream",
     "text": [
      "Defaulting to user installation because normal site-packages is not writeable\n",
      "Collecting tensorflow_datasets\n",
      "  Obtaining dependency information for tensorflow_datasets from https://files.pythonhosted.org/packages/a1/73/7a9ed7935f6833d73b32f1e2a1210082f5ccb95445440b4e2b0f66ab7792/tensorflow_datasets-4.9.3-py3-none-any.whl.metadata\n",
      "  Downloading tensorflow_datasets-4.9.3-py3-none-any.whl.metadata (9.3 kB)\n",
      "Requirement already satisfied: absl-py in /Users/aimaldastagirzada/Library/Python/3.9/lib/python/site-packages (from tensorflow_datasets) (2.0.0)\n",
      "Collecting array-record (from tensorflow_datasets)\n",
      "  Obtaining dependency information for array-record from https://files.pythonhosted.org/packages/64/5c/bc2130553b344c91e5cd36946e9996b0f1bdaca1c2e046bef76ec1e0e3cc/array_record-0.4.1-py39-none-any.whl.metadata\n",
      "  Downloading array_record-0.4.1-py39-none-any.whl.metadata (503 bytes)\n",
      "Requirement already satisfied: click in /Users/aimaldastagirzada/Library/Python/3.9/lib/python/site-packages (from tensorflow_datasets) (8.1.7)\n",
      "Collecting dm-tree (from tensorflow_datasets)\n",
      "  Downloading dm_tree-0.1.8-cp39-cp39-macosx_11_0_arm64.whl (110 kB)\n",
      "\u001b[2K     \u001b[90m━━━━━━━━━━━━━━━━━━━━━━━━━━━━━━━━━━━━━━━\u001b[0m \u001b[32m110.8/110.8 kB\u001b[0m \u001b[31m2.3 MB/s\u001b[0m eta \u001b[36m0:00:00\u001b[0ma \u001b[36m0:00:01\u001b[0m\n",
      "\u001b[?25hCollecting etils[enp,epath,etree]>=0.9.0 (from tensorflow_datasets)\n",
      "  Obtaining dependency information for etils[enp,epath,etree]>=0.9.0 from https://files.pythonhosted.org/packages/0f/6a/d2aaebacf73d5da7126c632ec0d9dc2df99cc4bbd259bad48904a034fc1b/etils-1.5.2-py3-none-any.whl.metadata\n",
      "  Downloading etils-1.5.2-py3-none-any.whl.metadata (6.3 kB)\n",
      "Requirement already satisfied: numpy in /Users/aimaldastagirzada/Library/Python/3.9/lib/python/site-packages (from tensorflow_datasets) (1.24.3)\n",
      "Collecting promise (from tensorflow_datasets)\n",
      "  Downloading promise-2.3.tar.gz (19 kB)\n",
      "  Preparing metadata (setup.py) ... \u001b[?25ldone\n",
      "\u001b[?25hRequirement already satisfied: protobuf>=3.20 in /Users/aimaldastagirzada/Library/Python/3.9/lib/python/site-packages (from tensorflow_datasets) (4.25.0)\n",
      "Requirement already satisfied: psutil in /Users/aimaldastagirzada/Library/Python/3.9/lib/python/site-packages (from tensorflow_datasets) (5.9.5)\n",
      "Requirement already satisfied: requests>=2.19.0 in /Users/aimaldastagirzada/Library/Python/3.9/lib/python/site-packages (from tensorflow_datasets) (2.30.0)\n",
      "Collecting tensorflow-metadata (from tensorflow_datasets)\n",
      "  Obtaining dependency information for tensorflow-metadata from https://files.pythonhosted.org/packages/41/23/3705c7139886c079ef4c0e3be56a5a1fb90e9ee413a4b7caaee0ee0ea6fe/tensorflow_metadata-1.14.0-py3-none-any.whl.metadata\n",
      "  Downloading tensorflow_metadata-1.14.0-py3-none-any.whl.metadata (2.1 kB)\n",
      "Requirement already satisfied: termcolor in /Users/aimaldastagirzada/Library/Python/3.9/lib/python/site-packages (from tensorflow_datasets) (2.3.0)\n",
      "Collecting toml (from tensorflow_datasets)\n",
      "  Downloading toml-0.10.2-py2.py3-none-any.whl (16 kB)\n",
      "Requirement already satisfied: tqdm in /Users/aimaldastagirzada/Library/Python/3.9/lib/python/site-packages (from tensorflow_datasets) (4.66.1)\n",
      "Requirement already satisfied: wrapt in /Users/aimaldastagirzada/Library/Python/3.9/lib/python/site-packages (from tensorflow_datasets) (1.14.1)\n",
      "Collecting fsspec (from etils[enp,epath,etree]>=0.9.0->tensorflow_datasets)\n",
      "  Obtaining dependency information for fsspec from https://files.pythonhosted.org/packages/e8/f6/3eccfb530aac90ad1301c582da228e4763f19e719ac8200752a4841b0b2d/fsspec-2023.10.0-py3-none-any.whl.metadata\n",
      "  Downloading fsspec-2023.10.0-py3-none-any.whl.metadata (6.8 kB)\n",
      "Requirement already satisfied: importlib_resources in /Users/aimaldastagirzada/Library/Python/3.9/lib/python/site-packages (from etils[enp,epath,etree]>=0.9.0->tensorflow_datasets) (5.12.0)\n",
      "Requirement already satisfied: typing_extensions in /Users/aimaldastagirzada/Library/Python/3.9/lib/python/site-packages (from etils[enp,epath,etree]>=0.9.0->tensorflow_datasets) (4.5.0)\n",
      "Requirement already satisfied: zipp in /Users/aimaldastagirzada/Library/Python/3.9/lib/python/site-packages (from etils[enp,epath,etree]>=0.9.0->tensorflow_datasets) (3.15.0)\n",
      "Requirement already satisfied: charset-normalizer<4,>=2 in /Users/aimaldastagirzada/Library/Python/3.9/lib/python/site-packages (from requests>=2.19.0->tensorflow_datasets) (3.1.0)\n",
      "Requirement already satisfied: idna<4,>=2.5 in /Users/aimaldastagirzada/Library/Python/3.9/lib/python/site-packages (from requests>=2.19.0->tensorflow_datasets) (3.4)\n",
      "Requirement already satisfied: urllib3<3,>=1.21.1 in /Users/aimaldastagirzada/Library/Python/3.9/lib/python/site-packages (from requests>=2.19.0->tensorflow_datasets) (1.26.6)\n",
      "Requirement already satisfied: certifi>=2017.4.17 in /Users/aimaldastagirzada/Library/Python/3.9/lib/python/site-packages (from requests>=2.19.0->tensorflow_datasets) (2023.5.7)\n",
      "Requirement already satisfied: six in /Library/Developer/CommandLineTools/Library/Frameworks/Python3.framework/Versions/3.9/lib/python3.9/site-packages (from promise->tensorflow_datasets) (1.15.0)\n",
      "Collecting absl-py (from tensorflow_datasets)\n",
      "  Downloading absl_py-1.4.0-py3-none-any.whl (126 kB)\n",
      "\u001b[2K     \u001b[90m━━━━━━━━━━━━━━━━━━━━━━━━━━━━━━━━━━━━━━━\u001b[0m \u001b[32m126.5/126.5 kB\u001b[0m \u001b[31m7.4 MB/s\u001b[0m eta \u001b[36m0:00:00\u001b[0m\n",
      "\u001b[?25hCollecting googleapis-common-protos<2,>=1.52.0 (from tensorflow-metadata->tensorflow_datasets)\n",
      "  Obtaining dependency information for googleapis-common-protos<2,>=1.52.0 from https://files.pythonhosted.org/packages/21/49/12996dc0238e017504dceea1d121a48bd49fb3f4416f40d59fc3e924b4f3/googleapis_common_protos-1.61.0-py2.py3-none-any.whl.metadata\n",
      "  Downloading googleapis_common_protos-1.61.0-py2.py3-none-any.whl.metadata (1.5 kB)\n",
      "Collecting protobuf>=3.20 (from tensorflow_datasets)\n",
      "  Downloading protobuf-3.20.3-py2.py3-none-any.whl (162 kB)\n",
      "\u001b[2K     \u001b[90m━━━━━━━━━━━━━━━━━━━━━━━━━━━━━━━━━━━━━━━\u001b[0m \u001b[32m162.1/162.1 kB\u001b[0m \u001b[31m1.3 MB/s\u001b[0m eta \u001b[36m0:00:00\u001b[0ma \u001b[36m0:00:01\u001b[0m\n",
      "\u001b[?25hDownloading tensorflow_datasets-4.9.3-py3-none-any.whl (5.0 MB)\n",
      "\u001b[2K   \u001b[90m━━━━━━━━━━━━━━━━━━━━━━━━━━━━━━━━━━━━━━━━\u001b[0m \u001b[32m5.0/5.0 MB\u001b[0m \u001b[31m1.9 MB/s\u001b[0m eta \u001b[36m0:00:00\u001b[0m00:01\u001b[0m00:01\u001b[0m\n",
      "\u001b[?25hDownloading array_record-0.4.1-py39-none-any.whl (3.0 MB)\n",
      "\u001b[2K   \u001b[90m━━━━━━━━━━━━━━━━━━━━━━━━━━━━━━━━━━━━━━━━\u001b[0m \u001b[32m3.0/3.0 MB\u001b[0m \u001b[31m1.8 MB/s\u001b[0m eta \u001b[36m0:00:00\u001b[0m00:01\u001b[0m00:01\u001b[0m0m\n",
      "\u001b[?25hDownloading tensorflow_metadata-1.14.0-py3-none-any.whl (28 kB)\n",
      "Downloading googleapis_common_protos-1.61.0-py2.py3-none-any.whl (230 kB)\n",
      "\u001b[2K   \u001b[90m━━━━━━━━━━━━━━━━━━━━━━━━━━━━━━━━━━━━━━━━\u001b[0m \u001b[32m230.9/230.9 kB\u001b[0m \u001b[31m3.2 MB/s\u001b[0m eta \u001b[36m0:00:00\u001b[0ma \u001b[36m0:00:01\u001b[0m\n",
      "\u001b[?25hDownloading etils-1.5.2-py3-none-any.whl (140 kB)\n",
      "\u001b[2K   \u001b[90m━━━━━━━━━━━━━━━━━━━━━━━━━━━━━━━━━━━━━━━━\u001b[0m \u001b[32m140.6/140.6 kB\u001b[0m \u001b[31m4.4 MB/s\u001b[0m eta \u001b[36m0:00:00\u001b[0m \u001b[36m0:00:01\u001b[0m\n",
      "\u001b[?25hDownloading fsspec-2023.10.0-py3-none-any.whl (166 kB)\n",
      "\u001b[2K   \u001b[90m━━━━━━━━━━━━━━━━━━━━━━━━━━━━━━━━━━━━━━━━\u001b[0m \u001b[32m166.4/166.4 kB\u001b[0m \u001b[31m2.4 MB/s\u001b[0m eta \u001b[36m0:00:00\u001b[0m \u001b[36m0:00:01\u001b[0m\n",
      "\u001b[?25hBuilding wheels for collected packages: promise\n",
      "  Building wheel for promise (setup.py) ... \u001b[?25ldone\n",
      "\u001b[?25h  Created wheel for promise: filename=promise-2.3-py3-none-any.whl size=21502 sha256=04b1cadb9ac626f555edde54594b71daa6aa2f32527d7eb729d1341df5aedb19\n",
      "  Stored in directory: /Users/aimaldastagirzada/Library/Caches/pip/wheels/e1/e8/83/ddea66100678d139b14bc87692ece57c6a2a937956d2532608\n",
      "Successfully built promise\n",
      "Installing collected packages: dm-tree, toml, protobuf, promise, fsspec, etils, absl-py, googleapis-common-protos, tensorflow-metadata, array-record, tensorflow_datasets\n",
      "  Attempting uninstall: protobuf\n",
      "    Found existing installation: protobuf 4.25.0\n",
      "    Uninstalling protobuf-4.25.0:\n",
      "      Successfully uninstalled protobuf-4.25.0\n",
      "  Attempting uninstall: absl-py\n",
      "    Found existing installation: absl-py 2.0.0\n",
      "    Uninstalling absl-py-2.0.0:\n",
      "      Successfully uninstalled absl-py-2.0.0\n",
      "Successfully installed absl-py-1.4.0 array-record-0.4.1 dm-tree-0.1.8 etils-1.5.2 fsspec-2023.10.0 googleapis-common-protos-1.61.0 promise-2.3 protobuf-3.20.3 tensorflow-metadata-1.14.0 tensorflow_datasets-4.9.3 toml-0.10.2\n",
      "\n",
      "\u001b[1m[\u001b[0m\u001b[34;49mnotice\u001b[0m\u001b[1;39;49m]\u001b[0m\u001b[39;49m A new release of pip is available: \u001b[0m\u001b[31;49m23.2.1\u001b[0m\u001b[39;49m -> \u001b[0m\u001b[32;49m23.3.1\u001b[0m\n",
      "\u001b[1m[\u001b[0m\u001b[34;49mnotice\u001b[0m\u001b[1;39;49m]\u001b[0m\u001b[39;49m To update, run: \u001b[0m\u001b[32;49m/Library/Developer/CommandLineTools/usr/bin/python3 -m pip install --upgrade pip\u001b[0m\n",
      "Note: you may need to restart the kernel to use updated packages.\n"
     ]
    }
   ],
   "source": [
    "pip install tensorflow_datasets"
   ]
  },
  {
   "cell_type": "code",
   "execution_count": 5,
   "metadata": {},
   "outputs": [
    {
     "name": "stderr",
     "output_type": "stream",
     "text": [
      "/Users/aimaldastagirzada/Library/Python/3.9/lib/python/site-packages/tqdm/auto.py:21: TqdmWarning: IProgress not found. Please update jupyter and ipywidgets. See https://ipywidgets.readthedocs.io/en/stable/user_install.html\n",
      "  from .autonotebook import tqdm as notebook_tqdm\n"
     ]
    }
   ],
   "source": [
    "import tensorflow_datasets as tfds"
   ]
  },
  {
   "cell_type": "code",
   "execution_count": 7,
   "metadata": {},
   "outputs": [],
   "source": [
    "(train,test) = tfds.load('mnist',\n",
    "                               split=['train', 'test'])"
   ]
  },
  {
   "cell_type": "code",
   "execution_count": 8,
   "metadata": {},
   "outputs": [
    {
     "data": {
      "text/plain": [
       "<_PrefetchDataset element_spec={'image': TensorSpec(shape=(28, 28, 1), dtype=tf.uint8, name=None), 'label': TensorSpec(shape=(), dtype=tf.int64, name=None)}>"
      ]
     },
     "execution_count": 8,
     "metadata": {},
     "output_type": "execute_result"
    }
   ],
   "source": [
    "train"
   ]
  },
  {
   "cell_type": "code",
   "execution_count": 9,
   "metadata": {},
   "outputs": [
    {
     "data": {
      "text/plain": [
       "<_PrefetchDataset element_spec={'image': TensorSpec(shape=(28, 28, 1), dtype=tf.uint8, name=None), 'label': TensorSpec(shape=(), dtype=tf.int64, name=None)}>"
      ]
     },
     "execution_count": 9,
     "metadata": {},
     "output_type": "execute_result"
    }
   ],
   "source": [
    "test"
   ]
  },
  {
   "cell_type": "code",
   "execution_count": 30,
   "metadata": {},
   "outputs": [],
   "source": [
    "from sklearn.preprocessing import StandardScaler\n",
    "from sklearn.preprocessing import OneHotEncoder\n",
    "from tensorflow.keras import layers\n"
   ]
  },
  {
   "cell_type": "code",
   "execution_count": 19,
   "metadata": {},
   "outputs": [],
   "source": [
    "def load_dataset(train_size, test_size):\n",
    "    train, test = ts.keras.datasets.mnist.load_data()\n",
    "\n",
    "    # take a sample\n",
    "    train_idx = np.random.randint(low=0, high=train[0].shape[0], size=train_size)\n",
    "    test_idx = np.random.randint(low=0, high=test[0].shape[0], size=test_size)\n",
    "    X_train = train[0][train_idx].reshape(-1,28*28)\n",
    "    y_train = train[1][train_idx].reshape(-1,1)\n",
    "    X_test = test[0][test_idx].reshape(-1,28*28)\n",
    "    y_test = test[1][test_idx].reshape(-1,1)\n",
    "    scale = StandardScaler()\n",
    "    X_train = scale.fit_transform(X_train)\n",
    "    X_test = scale.transform(X_test)\n",
    "\n",
    "    OH = OneHotEncoder(categories='auto', sparse=False)\n",
    "    y_train = OH.fit_transform(y_train)\n",
    "    y_test = OH.transform(y_test)\n",
    "    \n",
    "    print('X_train:',X_train.shape)\n",
    "    print('y_train:',y_train.shape)\n",
    "    print('X_test:',X_test.shape)\n",
    "    print('y_test:',y_test.shape)\n",
    "    print('Min:', X_train.min())\n",
    "    print('Max:', X_train.max())\n",
    "\n",
    "    return X_train, X_test, y_train, y_test\n",
    "\n",
    "\n",
    "    \n",
    "    "
   ]
  },
  {
   "cell_type": "code",
   "execution_count": 50,
   "metadata": {},
   "outputs": [
    {
     "name": "stderr",
     "output_type": "stream",
     "text": [
      "/Users/aimaldastagirzada/Library/Python/3.9/lib/python/site-packages/sklearn/preprocessing/_encoders.py:868: FutureWarning: `sparse` was renamed to `sparse_output` in version 1.2 and will be removed in 1.4. `sparse_output` is ignored unless you leave `sparse` to its default value.\n",
      "  warnings.warn(\n"
     ]
    },
    {
     "name": "stdout",
     "output_type": "stream",
     "text": [
      "X_train: (60000, 784)\n",
      "y_train: (60000, 10)\n",
      "X_test: (10000, 784)\n",
      "y_test: (10000, 10)\n",
      "Min: -1.2668250487292176\n",
      "Max: 244.94693302847483\n"
     ]
    }
   ],
   "source": [
    "X_train,X_test, y_train, y_test =load_dataset(60000,10000)"
   ]
  },
  {
   "cell_type": "code",
   "execution_count": 51,
   "metadata": {},
   "outputs": [
    {
     "name": "stderr",
     "output_type": "stream",
     "text": [
      "WARNING:absl:At this time, the v2.11+ optimizer `tf.keras.optimizers.SGD` runs slowly on M1/M2 Macs, please use the legacy Keras optimizer instead, located at `tf.keras.optimizers.legacy.SGD`.\n"
     ]
    }
   ],
   "source": [
    "init = ts._initializers.zeros()\n",
    "activate = 'relu'\n",
    "optimizer =ts.keras.optimizers.SGD(learning_rate= 0.01)\n"
   ]
  },
  {
   "cell_type": "code",
   "execution_count": 52,
   "metadata": {},
   "outputs": [],
   "source": [
    "def simple_model(initializer, activation='relu'):\n",
    "    return ts.keras.Sequential([layers.Dense(32, activation, input_shape=(784,), kernel_initializer=initializer),\n",
    "                                layers.Dense(32, activation, kernel_initializer=initializer),\n",
    "                                layers.Dense(32, activation, kernel_initializer=initializer),\n",
    "                                layers.Dense(32, activation, kernel_initializer=initializer),\n",
    "                                layers.Dense(10, activation = 'softmax', kernel_initializer=ts.keras.initializers.glorot_normal())\n",
    "\n",
    "\n",
    "\n",
    "    ])"
   ]
  },
  {
   "cell_type": "code",
   "execution_count": 53,
   "metadata": {},
   "outputs": [],
   "source": [
    "from tensorflow.keras import layers"
   ]
  },
  {
   "cell_type": "code",
   "execution_count": 54,
   "metadata": {},
   "outputs": [
    {
     "name": "stderr",
     "output_type": "stream",
     "text": [
      "WARNING:absl:At this time, the v2.11+ optimizer `tf.keras.optimizers.SGD` runs slowly on M1/M2 Macs, please use the legacy Keras optimizer instead, located at `tf.keras.optimizers.legacy.SGD`.\n"
     ]
    }
   ],
   "source": [
    "init = ts._initializers.zeros()\n",
    "activate = 'relu'\n",
    "optimizer =ts.keras.optimizers.SGD(learning_rate= 0.01)"
   ]
  },
  {
   "cell_type": "code",
   "execution_count": 55,
   "metadata": {},
   "outputs": [],
   "source": [
    "model_zeros = simple_model(init, activate)"
   ]
  },
  {
   "cell_type": "code",
   "execution_count": 56,
   "metadata": {},
   "outputs": [
    {
     "name": "stdout",
     "output_type": "stream",
     "text": [
      "Epoch 1/10\n",
      "19/19 [==============================] - 0s 11ms/step - loss: 2.3026 - accuracy: 0.1126 - val_loss: 2.3025 - val_accuracy: 0.1174\n",
      "Epoch 2/10\n",
      "19/19 [==============================] - 0s 6ms/step - loss: 2.3025 - accuracy: 0.1134 - val_loss: 2.3024 - val_accuracy: 0.1174\n",
      "Epoch 3/10\n",
      "19/19 [==============================] - 0s 6ms/step - loss: 2.3024 - accuracy: 0.1134 - val_loss: 2.3024 - val_accuracy: 0.1174\n",
      "Epoch 4/10\n",
      "19/19 [==============================] - 0s 6ms/step - loss: 2.3024 - accuracy: 0.1134 - val_loss: 2.3023 - val_accuracy: 0.1174\n",
      "Epoch 5/10\n",
      "19/19 [==============================] - 0s 6ms/step - loss: 2.3023 - accuracy: 0.1134 - val_loss: 2.3023 - val_accuracy: 0.1174\n",
      "Epoch 6/10\n",
      "19/19 [==============================] - 0s 7ms/step - loss: 2.3023 - accuracy: 0.1134 - val_loss: 2.3022 - val_accuracy: 0.1174\n",
      "Epoch 7/10\n",
      "19/19 [==============================] - 0s 6ms/step - loss: 2.3022 - accuracy: 0.1134 - val_loss: 2.3022 - val_accuracy: 0.1174\n",
      "Epoch 8/10\n",
      "19/19 [==============================] - 0s 6ms/step - loss: 2.3021 - accuracy: 0.1134 - val_loss: 2.3021 - val_accuracy: 0.1174\n",
      "Epoch 9/10\n",
      "19/19 [==============================] - 0s 6ms/step - loss: 2.3021 - accuracy: 0.1134 - val_loss: 2.3020 - val_accuracy: 0.1174\n",
      "Epoch 10/10\n",
      "19/19 [==============================] - 0s 6ms/step - loss: 2.3021 - accuracy: 0.1134 - val_loss: 2.3020 - val_accuracy: 0.1174\n"
     ]
    },
    {
     "data": {
      "text/plain": [
       "<keras.src.callbacks.History at 0x130fa5310>"
      ]
     },
     "execution_count": 56,
     "metadata": {},
     "output_type": "execute_result"
    }
   ],
   "source": [
    "model_zeros.compile(optimizer=optimizer, loss='categorical_crossentropy', metrics=['accuracy'])\n",
    "model_zeros.fit(X_train, y_train, epochs=10, batch_size=3200, validation_data=(X_test, y_test))"
   ]
  },
  {
   "cell_type": "code",
   "execution_count": 57,
   "metadata": {},
   "outputs": [
    {
     "name": "stderr",
     "output_type": "stream",
     "text": [
      "WARNING:absl:At this time, the v2.11+ optimizer `tf.keras.optimizers.SGD` runs slowly on M1/M2 Macs, please use the legacy Keras optimizer instead, located at `tf.keras.optimizers.legacy.SGD`.\n",
      "/Users/aimaldastagirzada/Library/Python/3.9/lib/python/site-packages/keras/src/initializers/initializers.py:120: UserWarning: The initializer RandomNormal is unseeded and being called multiple times, which will return identical values each time (even if the initializer is unseeded). Please update your code to provide a seed to the initializer, or avoid using the same initializer instance more than once.\n",
      "  warnings.warn(\n"
     ]
    },
    {
     "name": "stdout",
     "output_type": "stream",
     "text": [
      "Epoch 1/10\n",
      "19/19 [==============================] - 0s 10ms/step - loss: 2.3028 - accuracy: 0.1190 - val_loss: 2.3028 - val_accuracy: 0.1288\n",
      "Epoch 2/10\n",
      "19/19 [==============================] - 0s 6ms/step - loss: 2.3024 - accuracy: 0.1329 - val_loss: 2.3023 - val_accuracy: 0.1389\n",
      "Epoch 3/10\n",
      "19/19 [==============================] - 0s 7ms/step - loss: 2.3020 - accuracy: 0.1397 - val_loss: 2.3019 - val_accuracy: 0.1415\n",
      "Epoch 4/10\n",
      "19/19 [==============================] - 0s 6ms/step - loss: 2.3017 - accuracy: 0.1440 - val_loss: 2.3016 - val_accuracy: 0.1461\n",
      "Epoch 5/10\n",
      "19/19 [==============================] - 0s 6ms/step - loss: 2.3014 - accuracy: 0.1518 - val_loss: 2.3013 - val_accuracy: 0.1536\n",
      "Epoch 6/10\n",
      "19/19 [==============================] - 0s 7ms/step - loss: 2.3011 - accuracy: 0.1572 - val_loss: 2.3011 - val_accuracy: 0.1616\n",
      "Epoch 7/10\n",
      "19/19 [==============================] - 0s 7ms/step - loss: 2.3009 - accuracy: 0.1642 - val_loss: 2.3008 - val_accuracy: 0.1665\n",
      "Epoch 8/10\n",
      "19/19 [==============================] - 0s 7ms/step - loss: 2.3006 - accuracy: 0.1680 - val_loss: 2.3006 - val_accuracy: 0.1702\n",
      "Epoch 9/10\n",
      "19/19 [==============================] - 0s 7ms/step - loss: 2.3004 - accuracy: 0.1701 - val_loss: 2.3003 - val_accuracy: 0.1717\n",
      "Epoch 10/10\n",
      "19/19 [==============================] - 0s 7ms/step - loss: 2.3002 - accuracy: 0.1703 - val_loss: 2.3001 - val_accuracy: 0.1713\n"
     ]
    },
    {
     "data": {
      "text/plain": [
       "<keras.src.callbacks.History at 0x132406f10>"
      ]
     },
     "execution_count": 57,
     "metadata": {},
     "output_type": "execute_result"
    }
   ],
   "source": [
    "init = ts.initializers.random_normal()\n",
    "activate = 'relu'\n",
    "optimizer = ts.keras.optimizers.SGD(learning_rate=0.01)\n",
    "model_normal = simple_model(init, activate)\n",
    "model_normal.compile(optimizer=optimizer, loss='categorical_crossentropy', metrics=['accuracy'])\n",
    "model_normal.fit(X_train, y_train, epochs=10, batch_size=3200, validation_data=(X_test, y_test))"
   ]
  },
  {
   "cell_type": "code",
   "execution_count": 58,
   "metadata": {},
   "outputs": [
    {
     "name": "stderr",
     "output_type": "stream",
     "text": [
      "WARNING:absl:At this time, the v2.11+ optimizer `tf.keras.optimizers.SGD` runs slowly on M1/M2 Macs, please use the legacy Keras optimizer instead, located at `tf.keras.optimizers.legacy.SGD`.\n",
      "/Users/aimaldastagirzada/Library/Python/3.9/lib/python/site-packages/keras/src/initializers/initializers.py:120: UserWarning: The initializer GlorotUniform is unseeded and being called multiple times, which will return identical values each time (even if the initializer is unseeded). Please update your code to provide a seed to the initializer, or avoid using the same initializer instance more than once.\n",
      "  warnings.warn(\n"
     ]
    },
    {
     "name": "stdout",
     "output_type": "stream",
     "text": [
      "Epoch 1/10\n",
      "19/19 [==============================] - 0s 11ms/step - loss: 2.3495 - accuracy: 0.0742 - val_loss: 2.3344 - val_accuracy: 0.0889\n",
      "Epoch 2/10\n",
      "19/19 [==============================] - 0s 6ms/step - loss: 2.3015 - accuracy: 0.1100 - val_loss: 2.2940 - val_accuracy: 0.1320\n",
      "Epoch 3/10\n",
      "19/19 [==============================] - 0s 6ms/step - loss: 2.2644 - accuracy: 0.1508 - val_loss: 2.2603 - val_accuracy: 0.1695\n",
      "Epoch 4/10\n",
      "19/19 [==============================] - 0s 6ms/step - loss: 2.2298 - accuracy: 0.1902 - val_loss: 2.2281 - val_accuracy: 0.2016\n",
      "Epoch 5/10\n",
      "19/19 [==============================] - 0s 6ms/step - loss: 2.1939 - accuracy: 0.2237 - val_loss: 2.1940 - val_accuracy: 0.2323\n",
      "Epoch 6/10\n",
      "19/19 [==============================] - 0s 6ms/step - loss: 2.1549 - accuracy: 0.2491 - val_loss: 2.1572 - val_accuracy: 0.2485\n",
      "Epoch 7/10\n",
      "19/19 [==============================] - 0s 7ms/step - loss: 2.1127 - accuracy: 0.2691 - val_loss: 2.1173 - val_accuracy: 0.2647\n",
      "Epoch 8/10\n",
      "19/19 [==============================] - 0s 6ms/step - loss: 2.0673 - accuracy: 0.2883 - val_loss: 2.0743 - val_accuracy: 0.2829\n",
      "Epoch 9/10\n",
      "19/19 [==============================] - 0s 6ms/step - loss: 2.0192 - accuracy: 0.3079 - val_loss: 2.0286 - val_accuracy: 0.3029\n",
      "Epoch 10/10\n",
      "19/19 [==============================] - 0s 7ms/step - loss: 1.9690 - accuracy: 0.3320 - val_loss: 1.9807 - val_accuracy: 0.3352\n"
     ]
    },
    {
     "data": {
      "text/plain": [
       "<keras.src.callbacks.History at 0x13295fb20>"
      ]
     },
     "execution_count": 58,
     "metadata": {},
     "output_type": "execute_result"
    }
   ],
   "source": [
    "init = ts.initializers.glorot_uniform()\n",
    "activate = 'relu'\n",
    "optimizer = ts.keras.optimizers.SGD(learning_rate=0.01)\n",
    "model_glorotu = simple_model(init, activate)\n",
    "model_glorotu.compile(optimizer=optimizer, loss='categorical_crossentropy', metrics=['accuracy'])\n",
    "model_glorotu.fit(X_train, y_train, epochs=10, batch_size=3200, validation_data=(X_test, y_test))"
   ]
  },
  {
   "cell_type": "code",
   "execution_count": 59,
   "metadata": {},
   "outputs": [
    {
     "name": "stderr",
     "output_type": "stream",
     "text": [
      "WARNING:absl:At this time, the v2.11+ optimizer `tf.keras.optimizers.SGD` runs slowly on M1/M2 Macs, please use the legacy Keras optimizer instead, located at `tf.keras.optimizers.legacy.SGD`.\n",
      "/Users/aimaldastagirzada/Library/Python/3.9/lib/python/site-packages/keras/src/initializers/initializers.py:120: UserWarning: The initializer HeUniform is unseeded and being called multiple times, which will return identical values each time (even if the initializer is unseeded). Please update your code to provide a seed to the initializer, or avoid using the same initializer instance more than once.\n",
      "  warnings.warn(\n"
     ]
    },
    {
     "name": "stdout",
     "output_type": "stream",
     "text": [
      "Epoch 1/10\n",
      "19/19 [==============================] - 1s 21ms/step - loss: 2.5216 - accuracy: 0.1308 - val_loss: 2.3900 - val_accuracy: 0.1601\n",
      "Epoch 2/10\n",
      "19/19 [==============================] - 0s 7ms/step - loss: 2.2228 - accuracy: 0.1940 - val_loss: 2.1662 - val_accuracy: 0.2359\n",
      "Epoch 3/10\n",
      "19/19 [==============================] - 0s 7ms/step - loss: 2.0192 - accuracy: 0.2806 - val_loss: 1.9691 - val_accuracy: 0.3345\n",
      "Epoch 4/10\n",
      "19/19 [==============================] - 0s 6ms/step - loss: 1.8232 - accuracy: 0.3859 - val_loss: 1.7734 - val_accuracy: 0.4517\n",
      "Epoch 5/10\n",
      "19/19 [==============================] - 0s 8ms/step - loss: 1.6231 - accuracy: 0.5046 - val_loss: 1.5772 - val_accuracy: 0.5599\n",
      "Epoch 6/10\n",
      "19/19 [==============================] - 0s 7ms/step - loss: 1.4272 - accuracy: 0.5959 - val_loss: 1.3967 - val_accuracy: 0.6243\n",
      "Epoch 7/10\n",
      "19/19 [==============================] - 0s 7ms/step - loss: 1.2533 - accuracy: 0.6535 - val_loss: 1.2454 - val_accuracy: 0.6717\n",
      "Epoch 8/10\n",
      "19/19 [==============================] - 0s 7ms/step - loss: 1.1106 - accuracy: 0.6957 - val_loss: 1.1267 - val_accuracy: 0.7065\n",
      "Epoch 9/10\n",
      "19/19 [==============================] - 0s 7ms/step - loss: 0.9970 - accuracy: 0.7278 - val_loss: 1.0319 - val_accuracy: 0.7348\n",
      "Epoch 10/10\n",
      "19/19 [==============================] - 0s 7ms/step - loss: 0.9063 - accuracy: 0.7510 - val_loss: 0.9560 - val_accuracy: 0.7574\n"
     ]
    },
    {
     "data": {
      "text/plain": [
       "<keras.src.callbacks.History at 0x132bc6850>"
      ]
     },
     "execution_count": 59,
     "metadata": {},
     "output_type": "execute_result"
    }
   ],
   "source": [
    "init = ts.initializers.he_uniform()\n",
    "activate = 'relu'\n",
    "optimizer = ts.keras.optimizers.SGD(learning_rate=0.01)\n",
    "model_heu = simple_model(init, activate)\n",
    "model_heu.compile(optimizer=optimizer, loss='categorical_crossentropy', metrics=['accuracy'])\n",
    "model_heu.fit(X_train, y_train, epochs=10, batch_size=3200, validation_data=(X_test, y_test))"
   ]
  },
  {
   "cell_type": "code",
   "execution_count": 60,
   "metadata": {},
   "outputs": [
    {
     "data": {
      "text/plain": [
       "Text(0, 0.5, 'Validation Accuracy')"
      ]
     },
     "execution_count": 60,
     "metadata": {},
     "output_type": "execute_result"
    },
    {
     "data": {
      "image/png": "[encoded data removed]",
      "text/plain": [
       "<Figure size 640x480 with 1 Axes>"
      ]
     },
     "metadata": {},
     "output_type": "display_data"
    }
   ],
   "source": [
    "for i in [model_heu, model_normal, model_glorotu, model_zeros]:\n",
    "    plt.plot(i.history.history['val_accuracy'], label=i.get_config()['layers'][1]['config']['kernel_initializer']['class_name'])\n",
    "\n",
    "plt.legend()\n",
    "plt.xlabel('Epoch')\n",
    "plt.ylabel('Validation Accuracy')"
   ]
  },
  {
   "cell_type": "code",
   "execution_count": 61,
   "metadata": {},
   "outputs": [
    {
     "ename": "SyntaxError",
     "evalue": "invalid syntax (1933500712.py, line 4)",
     "output_type": "error",
     "traceback": [
      "\u001b[0;36m  Cell \u001b[0;32mIn[61], line 4\u001b[0;36m\u001b[0m\n\u001b[0;31m    layers.Dense(32, activation, kernel_initializer=initializer),\u001b[0m\n\u001b[0m    ^\u001b[0m\n\u001b[0;31mSyntaxError\u001b[0m\u001b[0;31m:\u001b[0m invalid syntax\n"
     ]
    }
   ],
   "source": [
    "def simple_model_bn(initializer = 'he_uniform', activation='relu'):\n",
    "    return ts.keras.Sequential([layers.Dense(32, activation, input_shape=(784,), kernel_initializer=initializer),\n",
    "                                layer.batchNormalization(trainable= True, scale=True, center =True)\n",
    "                                layers.Dense(32, activation, kernel_initializer=initializer),\n",
    "                                layers.Dense(32, activation, kernel_initializer=initializer),\n",
    "                                layers.Dense(32, activation, kernel_initializer=initializer),\n",
    "                                layers.Dense(10, activation = 'softmax', kernel_initializer=ts.keras.initializers.glorot_normal())\n",
    "\n",
    "\n",
    "\n",
    "    ])"
   ]
  },
  {
   "cell_type": "code",
   "execution_count": 62,
   "metadata": {},
   "outputs": [],
   "source": [
    "def simple_model_bn(initializer = 'he_uniform', activation='relu'):\n",
    "    return ts.keras.Sequential([layers.Dense(32, activation, input_shape=(784,), kernel_initializer=initializer),\n",
    "                                layers.BatchNormalization(trainable=True, scale=True, center=True),\n",
    "                                layers.Dense(32, activation, kernel_initializer=initializer),\n",
    "                                layers.BatchNormalization(trainable=True, scale=True, center=True),\n",
    "                                layers.Dense(32, activation, kernel_initializer=initializer),\n",
    "                                layers.BatchNormalization(trainable=True, scale=True, center=True),\n",
    "                                layers.Dense(32, activation, kernel_initializer=initializer),\n",
    "                                layers.BatchNormalization(trainable=True, scale=True, center=True),\n",
    "                                layers.Dense(10, activation = 'softmax', kernel_initializer=ts.keras.initializers.glorot_normal())\n",
    "\n",
    "\n",
    "\n",
    "    ])"
   ]
  },
  {
   "cell_type": "code",
   "execution_count": 63,
   "metadata": {},
   "outputs": [
    {
     "name": "stdout",
     "output_type": "stream",
     "text": [
      "Model: \"sequential_11\"\n",
      "_________________________________________________________________\n",
      " Layer (type)                Output Shape              Param #   \n",
      "=================================================================\n",
      " dense_59 (Dense)            (None, 32)                25120     \n",
      "                                                                 \n",
      " batch_normalization (Batch  (None, 32)                128       \n",
      " Normalization)                                                  \n",
      "                                                                 \n",
      " dense_60 (Dense)            (None, 32)                1056      \n",
      "                                                                 \n",
      " batch_normalization_1 (Bat  (None, 32)                128       \n",
      " chNormalization)                                                \n",
      "                                                                 \n",
      " dense_61 (Dense)            (None, 32)                1056      \n",
      "                                                                 \n",
      " batch_normalization_2 (Bat  (None, 32)                128       \n",
      " chNormalization)                                                \n",
      "                                                                 \n",
      " dense_62 (Dense)            (None, 32)                1056      \n",
      "                                                                 \n",
      " batch_normalization_3 (Bat  (None, 32)                128       \n",
      " chNormalization)                                                \n",
      "                                                                 \n",
      " dense_63 (Dense)            (None, 10)                330       \n",
      "                                                                 \n",
      "=================================================================\n",
      "Total params: 29130 (113.79 KB)\n",
      "Trainable params: 28874 (112.79 KB)\n",
      "Non-trainable params: 256 (1.00 KB)\n",
      "_________________________________________________________________\n"
     ]
    }
   ],
   "source": [
    "simple_model_bn().summary()"
   ]
  },
  {
   "cell_type": "code",
   "execution_count": 64,
   "metadata": {},
   "outputs": [
    {
     "name": "stderr",
     "output_type": "stream",
     "text": [
      "WARNING:absl:At this time, the v2.11+ optimizer `tf.keras.optimizers.SGD` runs slowly on M1/M2 Macs, please use the legacy Keras optimizer instead, located at `tf.keras.optimizers.legacy.SGD`.\n",
      "/Users/aimaldastagirzada/Library/Python/3.9/lib/python/site-packages/keras/src/initializers/initializers.py:120: UserWarning: The initializer RandomNormal is unseeded and being called multiple times, which will return identical values each time (even if the initializer is unseeded). Please update your code to provide a seed to the initializer, or avoid using the same initializer instance more than once.\n",
      "  warnings.warn(\n"
     ]
    },
    {
     "name": "stdout",
     "output_type": "stream",
     "text": [
      "Epoch 1/10\n",
      "19/19 [==============================] - 1s 36ms/step - loss: 1.9828 - accuracy: 0.3593 - val_loss: 2.2953 - val_accuracy: 0.2825\n",
      "Epoch 2/10\n",
      "19/19 [==============================] - 0s 12ms/step - loss: 1.2976 - accuracy: 0.5920 - val_loss: 2.2856 - val_accuracy: 0.3143\n",
      "Epoch 3/10\n",
      "19/19 [==============================] - 0s 11ms/step - loss: 1.0142 - accuracy: 0.6909 - val_loss: 2.2713 - val_accuracy: 0.3265\n",
      "Epoch 4/10\n",
      "19/19 [==============================] - 0s 11ms/step - loss: 0.8474 - accuracy: 0.7482 - val_loss: 2.2516 - val_accuracy: 0.3455\n",
      "Epoch 5/10\n",
      "19/19 [==============================] - 0s 14ms/step - loss: 0.7378 - accuracy: 0.7853 - val_loss: 2.2251 - val_accuracy: 0.3816\n",
      "Epoch 6/10\n",
      "19/19 [==============================] - 0s 14ms/step - loss: 0.6596 - accuracy: 0.8099 - val_loss: 2.1902 - val_accuracy: 0.4416\n",
      "Epoch 7/10\n",
      "19/19 [==============================] - 0s 12ms/step - loss: 0.5994 - accuracy: 0.8269 - val_loss: 2.1455 - val_accuracy: 0.5132\n",
      "Epoch 8/10\n",
      "19/19 [==============================] - 0s 16ms/step - loss: 0.5516 - accuracy: 0.8413 - val_loss: 2.0891 - val_accuracy: 0.5874\n",
      "Epoch 9/10\n",
      "19/19 [==============================] - 0s 17ms/step - loss: 0.5136 - accuracy: 0.8525 - val_loss: 2.0182 - val_accuracy: 0.6616\n",
      "Epoch 10/10\n",
      "19/19 [==============================] - 0s 22ms/step - loss: 0.4822 - accuracy: 0.8630 - val_loss: 1.9331 - val_accuracy: 0.7421\n"
     ]
    },
    {
     "data": {
      "text/plain": [
       "<keras.src.callbacks.History at 0x1306a1d60>"
      ]
     },
     "execution_count": 64,
     "metadata": {},
     "output_type": "execute_result"
    }
   ],
   "source": [
    "init = ts.keras.initializers.random_normal()\n",
    "activate = 'relu'\n",
    "\n",
    "optimizer = ts.keras.optimizers.SGD(0.01)\n",
    "model_bn = simple_model_bn(init, activate)\n",
    "model_bn.compile(optimizer=optimizer, loss='categorical_crossentropy', metrics=['accuracy'])\n",
    "model_bn.fit(X_train, y_train, epochs=10, batch_size=3200, validation_data = (X_test, y_test))"
   ]
  },
  {
   "cell_type": "code",
   "execution_count": 65,
   "metadata": {},
   "outputs": [
    {
     "name": "stderr",
     "output_type": "stream",
     "text": [
      "WARNING:absl:At this time, the v2.11+ optimizer `tf.keras.optimizers.SGD` runs slowly on M1/M2 Macs, please use the legacy Keras optimizer instead, located at `tf.keras.optimizers.legacy.SGD`.\n",
      "/Users/aimaldastagirzada/Library/Python/3.9/lib/python/site-packages/keras/src/initializers/initializers.py:120: UserWarning: The initializer HeUniform is unseeded and being called multiple times, which will return identical values each time (even if the initializer is unseeded). Please update your code to provide a seed to the initializer, or avoid using the same initializer instance more than once.\n",
      "  warnings.warn(\n"
     ]
    },
    {
     "name": "stdout",
     "output_type": "stream",
     "text": [
      "Epoch 1/10\n",
      "19/19 [==============================] - 1s 27ms/step - loss: 2.3781 - accuracy: 0.1866 - val_loss: 2.4928 - val_accuracy: 0.1392\n",
      "Epoch 2/10\n",
      "19/19 [==============================] - 0s 10ms/step - loss: 1.9988 - accuracy: 0.3302 - val_loss: 2.2550 - val_accuracy: 0.2454\n",
      "Epoch 3/10\n",
      "19/19 [==============================] - 0s 14ms/step - loss: 1.7729 - accuracy: 0.4253 - val_loss: 2.0490 - val_accuracy: 0.3623\n",
      "Epoch 4/10\n",
      "19/19 [==============================] - 1s 55ms/step - loss: 1.5990 - accuracy: 0.5013 - val_loss: 1.8621 - val_accuracy: 0.4643\n",
      "Epoch 5/10\n",
      "19/19 [==============================] - 1s 37ms/step - loss: 1.4586 - accuracy: 0.5627 - val_loss: 1.6951 - val_accuracy: 0.5447\n",
      "Epoch 6/10\n",
      "19/19 [==============================] - 1s 30ms/step - loss: 1.3429 - accuracy: 0.6101 - val_loss: 1.5471 - val_accuracy: 0.5991\n",
      "Epoch 7/10\n",
      "19/19 [==============================] - 1s 33ms/step - loss: 1.2460 - accuracy: 0.6451 - val_loss: 1.4197 - val_accuracy: 0.6415\n",
      "Epoch 8/10\n",
      "19/19 [==============================] - 0s 16ms/step - loss: 1.1625 - accuracy: 0.6750 - val_loss: 1.3102 - val_accuracy: 0.6716\n",
      "Epoch 9/10\n",
      "19/19 [==============================] - 0s 20ms/step - loss: 1.0911 - accuracy: 0.6973 - val_loss: 1.2177 - val_accuracy: 0.6974\n",
      "Epoch 10/10\n",
      "19/19 [==============================] - 0s 12ms/step - loss: 1.0290 - accuracy: 0.7175 - val_loss: 1.1387 - val_accuracy: 0.7175\n"
     ]
    },
    {
     "data": {
      "text/plain": [
       "<keras.src.callbacks.History at 0x131a14a60>"
      ]
     },
     "execution_count": 65,
     "metadata": {},
     "output_type": "execute_result"
    }
   ],
   "source": [
    "init = ts.keras.initializers.he_uniform()\n",
    "activate = 'relu'\n",
    "\n",
    "optimizer = ts.keras.optimizers.SGD(0.01)\n",
    "model_bn = simple_model_bn(init, activate)\n",
    "model_bn.compile(optimizer=optimizer, loss='categorical_crossentropy', metrics=['accuracy'])\n",
    "model_bn.fit(X_train, y_train, epochs=10, batch_size=3200, validation_data = (X_test, y_test))"
   ]
  },
  {
   "cell_type": "code",
   "execution_count": 66,
   "metadata": {},
   "outputs": [
    {
     "name": "stderr",
     "output_type": "stream",
     "text": [
      "WARNING:absl:At this time, the v2.11+ optimizer `tf.keras.optimizers.Adagrad` runs slowly on M1/M2 Macs, please use the legacy Keras optimizer instead, located at `tf.keras.optimizers.legacy.Adagrad`.\n",
      "/Users/aimaldastagirzada/Library/Python/3.9/lib/python/site-packages/keras/src/initializers/initializers.py:120: UserWarning: The initializer HeUniform is unseeded and being called multiple times, which will return identical values each time (even if the initializer is unseeded). Please update your code to provide a seed to the initializer, or avoid using the same initializer instance more than once.\n",
      "  warnings.warn(\n"
     ]
    },
    {
     "name": "stdout",
     "output_type": "stream",
     "text": [
      "Epoch 1/10\n",
      "19/19 [==============================] - 1s 27ms/step - loss: 2.1081 - accuracy: 0.3019 - val_loss: 2.2232 - val_accuracy: 0.2389\n",
      "Epoch 2/10\n",
      "19/19 [==============================] - 0s 10ms/step - loss: 1.4740 - accuracy: 0.5574 - val_loss: 1.8680 - val_accuracy: 0.3919\n",
      "Epoch 3/10\n",
      "19/19 [==============================] - 0s 16ms/step - loss: 1.1937 - accuracy: 0.6669 - val_loss: 1.5759 - val_accuracy: 0.5459\n",
      "Epoch 4/10\n",
      "19/19 [==============================] - 0s 14ms/step - loss: 0.9985 - accuracy: 0.7361 - val_loss: 1.3238 - val_accuracy: 0.6622\n",
      "Epoch 5/10\n",
      "19/19 [==============================] - 0s 14ms/step - loss: 0.8544 - accuracy: 0.7814 - val_loss: 1.1128 - val_accuracy: 0.7341\n",
      "Epoch 6/10\n",
      "19/19 [==============================] - 0s 14ms/step - loss: 0.7463 - accuracy: 0.8119 - val_loss: 0.9458 - val_accuracy: 0.7806\n",
      "Epoch 7/10\n",
      "19/19 [==============================] - 0s 11ms/step - loss: 0.6636 - accuracy: 0.8332 - val_loss: 0.8156 - val_accuracy: 0.8137\n",
      "Epoch 8/10\n",
      "19/19 [==============================] - 0s 13ms/step - loss: 0.5991 - accuracy: 0.8504 - val_loss: 0.7176 - val_accuracy: 0.8361\n",
      "Epoch 9/10\n",
      "19/19 [==============================] - 0s 13ms/step - loss: 0.5489 - accuracy: 0.8622 - val_loss: 0.6425 - val_accuracy: 0.8525\n",
      "Epoch 10/10\n",
      "19/19 [==============================] - 0s 16ms/step - loss: 0.5078 - accuracy: 0.8716 - val_loss: 0.5830 - val_accuracy: 0.8660\n"
     ]
    },
    {
     "data": {
      "text/plain": [
       "<keras.src.callbacks.History at 0x2904a55b0>"
      ]
     },
     "execution_count": 66,
     "metadata": {},
     "output_type": "execute_result"
    }
   ],
   "source": [
    "init = ts.keras.initializers.he_uniform()\n",
    "activate = 'relu'\n",
    "\n",
    "optimizer = ts.keras.optimizers.Adagrad(learning_rate=0.01)\n",
    "model_bn_ad = simple_model_bn(init, activate)\n",
    "model_bn_ad.compile(optimizer=optimizer, loss='categorical_crossentropy', metrics=['accuracy'])\n",
    "model_bn_ad.fit(X_train, y_train, epochs=10, batch_size=3200, validation_data = (X_test, y_test))"
   ]
  },
  {
   "cell_type": "code",
   "execution_count": 67,
   "metadata": {},
   "outputs": [
    {
     "name": "stderr",
     "output_type": "stream",
     "text": [
      "WARNING:absl:At this time, the v2.11+ optimizer `tf.keras.optimizers.Adam` runs slowly on M1/M2 Macs, please use the legacy Keras optimizer instead, located at `tf.keras.optimizers.legacy.Adam`.\n",
      "/Users/aimaldastagirzada/Library/Python/3.9/lib/python/site-packages/keras/src/initializers/initializers.py:120: UserWarning: The initializer HeUniform is unseeded and being called multiple times, which will return identical values each time (even if the initializer is unseeded). Please update your code to provide a seed to the initializer, or avoid using the same initializer instance more than once.\n",
      "  warnings.warn(\n"
     ]
    },
    {
     "name": "stdout",
     "output_type": "stream",
     "text": [
      "Epoch 1/10\n",
      "19/19 [==============================] - 2s 29ms/step - loss: 0.8787 - accuracy: 0.7481 - val_loss: 2.1995 - val_accuracy: 0.4637\n",
      "Epoch 2/10\n",
      "19/19 [==============================] - 0s 12ms/step - loss: 0.2599 - accuracy: 0.9214 - val_loss: 1.0497 - val_accuracy: 0.7406\n",
      "Epoch 3/10\n",
      "19/19 [==============================] - 0s 12ms/step - loss: 0.1741 - accuracy: 0.9484 - val_loss: 0.6718 - val_accuracy: 0.8296\n",
      "Epoch 4/10\n",
      "19/19 [==============================] - 0s 13ms/step - loss: 0.1299 - accuracy: 0.9623 - val_loss: 0.4365 - val_accuracy: 0.8869\n",
      "Epoch 5/10\n",
      "19/19 [==============================] - 0s 13ms/step - loss: 0.1014 - accuracy: 0.9710 - val_loss: 0.3583 - val_accuracy: 0.9067\n",
      "Epoch 6/10\n",
      "19/19 [==============================] - 0s 16ms/step - loss: 0.0817 - accuracy: 0.9770 - val_loss: 0.3225 - val_accuracy: 0.9134\n",
      "Epoch 7/10\n",
      "19/19 [==============================] - 0s 17ms/step - loss: 0.0669 - accuracy: 0.9806 - val_loss: 0.2570 - val_accuracy: 0.9311\n",
      "Epoch 8/10\n",
      "19/19 [==============================] - 0s 12ms/step - loss: 0.0548 - accuracy: 0.9855 - val_loss: 0.2183 - val_accuracy: 0.9415\n",
      "Epoch 9/10\n",
      "19/19 [==============================] - 0s 11ms/step - loss: 0.0469 - accuracy: 0.9873 - val_loss: 0.2100 - val_accuracy: 0.9441\n",
      "Epoch 10/10\n",
      "19/19 [==============================] - 0s 10ms/step - loss: 0.0387 - accuracy: 0.9898 - val_loss: 0.2363 - val_accuracy: 0.9375\n"
     ]
    },
    {
     "data": {
      "text/plain": [
       "<keras.src.callbacks.History at 0x290b0b7f0>"
      ]
     },
     "execution_count": 67,
     "metadata": {},
     "output_type": "execute_result"
    }
   ],
   "source": [
    "init = ts.keras.initializers.he_uniform()\n",
    "activate = 'relu'\n",
    "\n",
    "optimizer = ts.keras.optimizers.Adam(learning_rate=0.01)\n",
    "model_bn_Adam = simple_model_bn(init, activate)\n",
    "model_bn_Adam.compile(optimizer=optimizer, loss='categorical_crossentropy', metrics=['accuracy'])\n",
    "model_bn_Adam.fit(X_train, y_train, epochs=10, batch_size=3200, validation_data = (X_test, y_test))"
   ]
  },
  {
   "cell_type": "code",
   "execution_count": 68,
   "metadata": {},
   "outputs": [],
   "source": [
    "from tensorflow.keras.callbacks import EarlyStopping"
   ]
  },
  {
   "cell_type": "code",
   "execution_count": 69,
   "metadata": {},
   "outputs": [
    {
     "name": "stderr",
     "output_type": "stream",
     "text": [
      "WARNING:absl:At this time, the v2.11+ optimizer `tf.keras.optimizers.Adam` runs slowly on M1/M2 Macs, please use the legacy Keras optimizer instead, located at `tf.keras.optimizers.legacy.Adam`.\n",
      "/Users/aimaldastagirzada/Library/Python/3.9/lib/python/site-packages/keras/src/initializers/initializers.py:120: UserWarning: The initializer RandomUniform is unseeded and being called multiple times, which will return identical values each time (even if the initializer is unseeded). Please update your code to provide a seed to the initializer, or avoid using the same initializer instance more than once.\n",
      "  warnings.warn(\n"
     ]
    },
    {
     "name": "stdout",
     "output_type": "stream",
     "text": [
      "Restoring model weights from the end of the best epoch: 13.\n",
      "Epoch 23: early stopping\n",
      "Train Acc: 0.9921000003814697 Test Acc: 0.9642000198364258\n"
     ]
    }
   ],
   "source": [
    "init = ts.keras.initializers.random_uniform()\n",
    "activate = 'relu'\n",
    "\n",
    "optimizer = ts.keras.optimizers.Adam(learning_rate=0.01)\n",
    "model_bn_adam = simple_model_bn(init, activate)\n",
    "model_bn_adam.compile(optimizer=optimizer, loss='categorical_crossentropy', metrics=['accuracy'])\n",
    "\n",
    "es = EarlyStopping(monitor='val_loss', mode='min', patience=10, restore_best_weights=True, verbose=1)\n",
    "\n",
    "history = model_bn_adam.fit(X_train, y_train, epochs=2000, callbacks=[es], validation_data = (X_test, y_test), verbose=0)\n",
    "\n",
    "_, train_acc = model_bn_adam.evaluate(X_train, y_train, verbose=0)\n",
    "_, test_acc = model_bn_adam.evaluate(X_test, y_test, verbose=0)\n",
    "print('Train Acc:', train_acc, 'Test Acc:', test_acc)"
   ]
  },
  {
   "cell_type": "code",
   "execution_count": null,
   "metadata": {},
   "outputs": [],
   "source": []
  }
 ],
 "metadata": {
  "kernelspec": {
   "display_name": "Python 3",
   "language": "python",
   "name": "python3"
  },
  "language_info": {
   "codemirror_mode": {
    "name": "ipython",
    "version": 3
   },
   "file_extension": ".py",
   "mimetype": "text/x-python",
   "name": "python",
   "nbconvert_exporter": "python",
   "pygments_lexer": "ipython3",
   "version": "3.9.6"
  },
  "orig_nbformat": 4
 },
 "nbformat": 4,
 "nbformat_minor": 2
}
