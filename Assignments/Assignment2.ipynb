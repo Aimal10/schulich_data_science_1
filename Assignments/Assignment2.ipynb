{
 "cells": [
  {
   "cell_type": "code",
   "execution_count": 57,
   "metadata": {},
   "outputs": [],
   "source": [
    "import pandas as pd\n",
    "from scipy import stats"
   ]
  },
  {
   "cell_type": "code",
   "execution_count": 9,
   "metadata": {},
   "outputs": [],
   "source": [
    "df = pd.read_csv('/Users/aimaldastagirzada/Downloads/experiment_dataset.csv')"
   ]
  },
  {
   "cell_type": "code",
   "execution_count": 10,
   "metadata": {},
   "outputs": [
    {
     "data": {
      "text/html": [
       "<div>\n",
       "<style scoped>\n",
       "    .dataframe tbody tr th:only-of-type {\n",
       "        vertical-align: middle;\n",
       "    }\n",
       "\n",
       "    .dataframe tbody tr th {\n",
       "        vertical-align: top;\n",
       "    }\n",
       "\n",
       "    .dataframe thead th {\n",
       "        text-align: right;\n",
       "    }\n",
       "</style>\n",
       "<table border=\"1\" class=\"dataframe\">\n",
       "  <thead>\n",
       "    <tr style=\"text-align: right;\">\n",
       "      <th></th>\n",
       "      <th>Unnamed: 0</th>\n",
       "      <th>Age</th>\n",
       "      <th>Location</th>\n",
       "      <th>Device</th>\n",
       "      <th>Variant</th>\n",
       "      <th>Time Spent</th>\n",
       "      <th>CTR</th>\n",
       "    </tr>\n",
       "  </thead>\n",
       "  <tbody>\n",
       "    <tr>\n",
       "      <th>0</th>\n",
       "      <td>0</td>\n",
       "      <td>62</td>\n",
       "      <td>Location2</td>\n",
       "      <td>Device2</td>\n",
       "      <td>Control</td>\n",
       "      <td>13.928669</td>\n",
       "      <td>0.084776</td>\n",
       "    </tr>\n",
       "    <tr>\n",
       "      <th>1</th>\n",
       "      <td>1</td>\n",
       "      <td>18</td>\n",
       "      <td>Location1</td>\n",
       "      <td>Device1</td>\n",
       "      <td>Variant B</td>\n",
       "      <td>11.310518</td>\n",
       "      <td>0.096859</td>\n",
       "    </tr>\n",
       "    <tr>\n",
       "      <th>2</th>\n",
       "      <td>2</td>\n",
       "      <td>21</td>\n",
       "      <td>Location2</td>\n",
       "      <td>Device1</td>\n",
       "      <td>Variant B</td>\n",
       "      <td>24.842100</td>\n",
       "      <td>0.097630</td>\n",
       "    </tr>\n",
       "    <tr>\n",
       "      <th>3</th>\n",
       "      <td>3</td>\n",
       "      <td>21</td>\n",
       "      <td>Location1</td>\n",
       "      <td>Device3</td>\n",
       "      <td>Variant B</td>\n",
       "      <td>20.061300</td>\n",
       "      <td>0.109783</td>\n",
       "    </tr>\n",
       "    <tr>\n",
       "      <th>4</th>\n",
       "      <td>4</td>\n",
       "      <td>57</td>\n",
       "      <td>Location1</td>\n",
       "      <td>Device2</td>\n",
       "      <td>Variant B</td>\n",
       "      <td>34.495503</td>\n",
       "      <td>0.068579</td>\n",
       "    </tr>\n",
       "    <tr>\n",
       "      <th>...</th>\n",
       "      <td>...</td>\n",
       "      <td>...</td>\n",
       "      <td>...</td>\n",
       "      <td>...</td>\n",
       "      <td>...</td>\n",
       "      <td>...</td>\n",
       "      <td>...</td>\n",
       "    </tr>\n",
       "    <tr>\n",
       "      <th>995</th>\n",
       "      <td>995</td>\n",
       "      <td>39</td>\n",
       "      <td>Location2</td>\n",
       "      <td>Device2</td>\n",
       "      <td>Variant B</td>\n",
       "      <td>17.252030</td>\n",
       "      <td>0.092211</td>\n",
       "    </tr>\n",
       "    <tr>\n",
       "      <th>996</th>\n",
       "      <td>996</td>\n",
       "      <td>38</td>\n",
       "      <td>Location3</td>\n",
       "      <td>Device2</td>\n",
       "      <td>Control</td>\n",
       "      <td>30.075898</td>\n",
       "      <td>0.078151</td>\n",
       "    </tr>\n",
       "    <tr>\n",
       "      <th>997</th>\n",
       "      <td>997</td>\n",
       "      <td>60</td>\n",
       "      <td>Location2</td>\n",
       "      <td>Device3</td>\n",
       "      <td>Control</td>\n",
       "      <td>31.929223</td>\n",
       "      <td>0.125213</td>\n",
       "    </tr>\n",
       "    <tr>\n",
       "      <th>998</th>\n",
       "      <td>998</td>\n",
       "      <td>35</td>\n",
       "      <td>Location2</td>\n",
       "      <td>Device2</td>\n",
       "      <td>Variant B</td>\n",
       "      <td>14.680299</td>\n",
       "      <td>0.095423</td>\n",
       "    </tr>\n",
       "    <tr>\n",
       "      <th>999</th>\n",
       "      <td>999</td>\n",
       "      <td>55</td>\n",
       "      <td>Location1</td>\n",
       "      <td>Device1</td>\n",
       "      <td>Variant B</td>\n",
       "      <td>25.803169</td>\n",
       "      <td>0.166688</td>\n",
       "    </tr>\n",
       "  </tbody>\n",
       "</table>\n",
       "<p>1000 rows × 7 columns</p>\n",
       "</div>"
      ],
      "text/plain": [
       "     Unnamed: 0  Age   Location   Device    Variant  Time Spent       CTR\n",
       "0             0   62  Location2  Device2    Control   13.928669  0.084776\n",
       "1             1   18  Location1  Device1  Variant B   11.310518  0.096859\n",
       "2             2   21  Location2  Device1  Variant B   24.842100  0.097630\n",
       "3             3   21  Location1  Device3  Variant B   20.061300  0.109783\n",
       "4             4   57  Location1  Device2  Variant B   34.495503  0.068579\n",
       "..          ...  ...        ...      ...        ...         ...       ...\n",
       "995         995   39  Location2  Device2  Variant B   17.252030  0.092211\n",
       "996         996   38  Location3  Device2    Control   30.075898  0.078151\n",
       "997         997   60  Location2  Device3    Control   31.929223  0.125213\n",
       "998         998   35  Location2  Device2  Variant B   14.680299  0.095423\n",
       "999         999   55  Location1  Device1  Variant B   25.803169  0.166688\n",
       "\n",
       "[1000 rows x 7 columns]"
      ]
     },
     "execution_count": 10,
     "metadata": {},
     "output_type": "execute_result"
    }
   ],
   "source": [
    "df"
   ]
  },
  {
   "cell_type": "code",
   "execution_count": 11,
   "metadata": {},
   "outputs": [],
   "source": [
    "df.drop('Unnamed: 0', axis=1, inplace = True)"
   ]
  },
  {
   "cell_type": "code",
   "execution_count": 19,
   "metadata": {},
   "outputs": [],
   "source": [
    "#Assinging variables to the variants\n",
    "var_control = df[df['Variant'] == 'Control']\n",
    "var_a =df[df['Variant'] == 'Variant A']\n",
    "var_b =df[df['Variant'] == 'Variant B']"
   ]
  },
  {
   "cell_type": "code",
   "execution_count": 20,
   "metadata": {},
   "outputs": [],
   "source": [
    "#Taking mean of CTR and grouping by variant \n",
    "CTR_mean= df.groupby('Variant')['CTR'].mean()"
   ]
  },
  {
   "cell_type": "code",
   "execution_count": 21,
   "metadata": {},
   "outputs": [
    {
     "data": {
      "text/plain": [
       "Variant\n",
       "Control      0.098554\n",
       "Variant A    0.120269\n",
       "Variant B    0.108933\n",
       "Name: CTR, dtype: float64"
      ]
     },
     "execution_count": 21,
     "metadata": {},
     "output_type": "execute_result"
    }
   ],
   "source": [
    "CTR_mean"
   ]
  },
  {
   "cell_type": "code",
   "execution_count": 22,
   "metadata": {},
   "outputs": [],
   "source": [
    "#Taking mean of Time Spent and grouping by variant \n",
    "Time_spent_mean= df.groupby('Variant')['Time Spent'].mean()"
   ]
  },
  {
   "cell_type": "code",
   "execution_count": 23,
   "metadata": {},
   "outputs": [
    {
     "data": {
      "text/plain": [
       "Variant\n",
       "Control      20.070781\n",
       "Variant A    24.805547\n",
       "Variant B    23.343783\n",
       "Name: Time Spent, dtype: float64"
      ]
     },
     "execution_count": 23,
     "metadata": {},
     "output_type": "execute_result"
    }
   ],
   "source": [
    "Time_spent_mean"
   ]
  },
  {
   "cell_type": "code",
   "execution_count": 90,
   "metadata": {},
   "outputs": [],
   "source": [
    "#Assigning variables to time spent based on iloc location of each variables\n",
    "Avg_tS_control = Time_spent_mean.iloc[0]\n",
    "Avg_ts_varA = Time_spent_mean.iloc[1]\n",
    "Avg_ts_varB = Time_spent_mean.iloc[2]"
   ]
  },
  {
   "cell_type": "code",
   "execution_count": 91,
   "metadata": {},
   "outputs": [],
   "source": [
    "#Calculating the lift time for variant A \n",
    "TimeSpent_Lift_varA = ((Avg_ts_varA - Avg_tS_control)/Avg_tS_control)*100"
   ]
  },
  {
   "cell_type": "code",
   "execution_count": 92,
   "metadata": {},
   "outputs": [
    {
     "data": {
      "text/plain": [
       "Time Spent    23.590344\n",
       "dtype: float64"
      ]
     },
     "execution_count": 92,
     "metadata": {},
     "output_type": "execute_result"
    }
   ],
   "source": [
    "#Lift rrate for variable A\n",
    "TimeSpent_Lift_varA"
   ]
  },
  {
   "cell_type": "code",
   "execution_count": 44,
   "metadata": {},
   "outputs": [],
   "source": [
    "#Calculating the lift time for variant B\n",
    "TimeSpent_Lift_varB = ((Avg_ts_varB - Avg_tS_control)/Avg_tS_control)*100"
   ]
  },
  {
   "cell_type": "code",
   "execution_count": 46,
   "metadata": {},
   "outputs": [
    {
     "data": {
      "text/plain": [
       "Time Spent    16.307297\n",
       "dtype: float64"
      ]
     },
     "execution_count": 46,
     "metadata": {},
     "output_type": "execute_result"
    }
   ],
   "source": [
    "TimeSpent_Lift_varB"
   ]
  },
  {
   "cell_type": "code",
   "execution_count": 50,
   "metadata": {},
   "outputs": [],
   "source": [
    "#Assigning variables to CTR based on iloc location of each variables\n",
    "Avg_ctr_control = CTR_mean.iloc[0]\n",
    "Avg_ctr_varA= CTR_mean.iloc[1]\n",
    "Avg_ctr_varB= CTR_mean.iloc[2]"
   ]
  },
  {
   "cell_type": "code",
   "execution_count": 51,
   "metadata": {},
   "outputs": [],
   "source": [
    "#Calculating the CTR Lift for Varaint A \n",
    "CTR_Lift_varA = ((Avg_ctr_varA - Avg_ctr_control)/Avg_ctr_control)*100"
   ]
  },
  {
   "cell_type": "code",
   "execution_count": 52,
   "metadata": {},
   "outputs": [
    {
     "data": {
      "text/plain": [
       "22.03391689420273"
      ]
     },
     "execution_count": 52,
     "metadata": {},
     "output_type": "execute_result"
    }
   ],
   "source": [
    "CTR_Lift_varA"
   ]
  },
  {
   "cell_type": "code",
   "execution_count": 53,
   "metadata": {},
   "outputs": [],
   "source": [
    "#Calculating the CTR Lift for Varaint B\n",
    "CTR_Lift_varB = ((Avg_ctr_varB - Avg_ctr_control)/Avg_ctr_control)*100"
   ]
  },
  {
   "cell_type": "code",
   "execution_count": 54,
   "metadata": {},
   "outputs": [
    {
     "data": {
      "text/plain": [
       "10.5311514398069"
      ]
     },
     "execution_count": 54,
     "metadata": {},
     "output_type": "execute_result"
    }
   ],
   "source": [
    "CTR_Lift_varB"
   ]
  },
  {
   "cell_type": "code",
   "execution_count": 55,
   "metadata": {},
   "outputs": [
    {
     "data": {
      "text/html": [
       "<div>\n",
       "<style scoped>\n",
       "    .dataframe tbody tr th:only-of-type {\n",
       "        vertical-align: middle;\n",
       "    }\n",
       "\n",
       "    .dataframe tbody tr th {\n",
       "        vertical-align: top;\n",
       "    }\n",
       "\n",
       "    .dataframe thead th {\n",
       "        text-align: right;\n",
       "    }\n",
       "</style>\n",
       "<table border=\"1\" class=\"dataframe\">\n",
       "  <thead>\n",
       "    <tr style=\"text-align: right;\">\n",
       "      <th></th>\n",
       "      <th>Time Spent</th>\n",
       "      <th>CTR</th>\n",
       "    </tr>\n",
       "    <tr>\n",
       "      <th>Location</th>\n",
       "      <th></th>\n",
       "      <th></th>\n",
       "    </tr>\n",
       "  </thead>\n",
       "  <tbody>\n",
       "    <tr>\n",
       "      <th>Location1</th>\n",
       "      <td>22.707286</td>\n",
       "      <td>0.110217</td>\n",
       "    </tr>\n",
       "    <tr>\n",
       "      <th>Location2</th>\n",
       "      <td>22.648998</td>\n",
       "      <td>0.108517</td>\n",
       "    </tr>\n",
       "    <tr>\n",
       "      <th>Location3</th>\n",
       "      <td>22.787691</td>\n",
       "      <td>0.108708</td>\n",
       "    </tr>\n",
       "  </tbody>\n",
       "</table>\n",
       "</div>"
      ],
      "text/plain": [
       "           Time Spent       CTR\n",
       "Location                       \n",
       "Location1   22.707286  0.110217\n",
       "Location2   22.648998  0.108517\n",
       "Location3   22.787691  0.108708"
      ]
     },
     "execution_count": 55,
     "metadata": {},
     "output_type": "execute_result"
    }
   ],
   "source": [
    "df.groupby('Location')[['Time Spent', 'CTR']].mean()"
   ]
  },
  {
   "cell_type": "code",
   "execution_count": 58,
   "metadata": {},
   "outputs": [
    {
     "name": "stdout",
     "output_type": "stream",
     "text": [
      "F_onewayResult(statistic=0.053578839670573676, pvalue=0.9478339402848069)\n"
     ]
    }
   ],
   "source": [
    "# Since the value of time spent mean is very closer to each other we should apply one way anova test \n",
    "# Time spent oneway test based on location\n",
    "loc_1 = df[df['Location'] == 'Location1']['Time Spent']\n",
    "loc_2 = df[df['Location'] == 'Location2']['Time Spent']\n",
    "loc_3 = df[df['Location'] == 'Location3']['Time Spent']\n",
    "\n",
    "p_val = stats.f_oneway(loc_1, loc_2, loc_3)\n",
    "print(p_val)"
   ]
  },
  {
   "cell_type": "code",
   "execution_count": 59,
   "metadata": {},
   "outputs": [
    {
     "name": "stdout",
     "output_type": "stream",
     "text": [
      "F_onewayResult(statistic=0.5792245145655729, pvalue=0.5605211716238133)\n"
     ]
    }
   ],
   "source": [
    "#CTR  Oneway test calulcation based on location \n",
    "loc_1 = df[df['Location'] == 'Location1']['CTR']\n",
    "loc_2 = df[df['Location'] == 'Location2']['CTR']\n",
    "loc_3 = df[df['Location'] == 'Location3']['CTR']\n",
    "\n",
    "p_val = stats.f_oneway(loc_1, loc_2, loc_3)\n",
    "print(p_val)"
   ]
  },
  {
   "cell_type": "code",
   "execution_count": 60,
   "metadata": {},
   "outputs": [
    {
     "data": {
      "text/html": [
       "<div>\n",
       "<style scoped>\n",
       "    .dataframe tbody tr th:only-of-type {\n",
       "        vertical-align: middle;\n",
       "    }\n",
       "\n",
       "    .dataframe tbody tr th {\n",
       "        vertical-align: top;\n",
       "    }\n",
       "\n",
       "    .dataframe thead th {\n",
       "        text-align: right;\n",
       "    }\n",
       "</style>\n",
       "<table border=\"1\" class=\"dataframe\">\n",
       "  <thead>\n",
       "    <tr style=\"text-align: right;\">\n",
       "      <th></th>\n",
       "      <th>Time Spent</th>\n",
       "      <th>CTR</th>\n",
       "    </tr>\n",
       "    <tr>\n",
       "      <th>Device</th>\n",
       "      <th></th>\n",
       "      <th></th>\n",
       "    </tr>\n",
       "  </thead>\n",
       "  <tbody>\n",
       "    <tr>\n",
       "      <th>Device1</th>\n",
       "      <td>22.635032</td>\n",
       "      <td>0.109634</td>\n",
       "    </tr>\n",
       "    <tr>\n",
       "      <th>Device2</th>\n",
       "      <td>22.890021</td>\n",
       "      <td>0.109868</td>\n",
       "    </tr>\n",
       "    <tr>\n",
       "      <th>Device3</th>\n",
       "      <td>22.612276</td>\n",
       "      <td>0.107993</td>\n",
       "    </tr>\n",
       "  </tbody>\n",
       "</table>\n",
       "</div>"
      ],
      "text/plain": [
       "         Time Spent       CTR\n",
       "Device                       \n",
       "Device1   22.635032  0.109634\n",
       "Device2   22.890021  0.109868\n",
       "Device3   22.612276  0.107993"
      ]
     },
     "execution_count": 60,
     "metadata": {},
     "output_type": "execute_result"
    }
   ],
   "source": [
    "#Groupig devive and taking mean of Time Spent & CTR \n",
    "df.groupby('Device')[['Time Spent', 'CTR']].mean()"
   ]
  },
  {
   "cell_type": "code",
   "execution_count": 61,
   "metadata": {},
   "outputs": [
    {
     "name": "stdout",
     "output_type": "stream",
     "text": [
      "F_onewayResult(statistic=0.26645371811833884, pvalue=0.7661459958744103)\n"
     ]
    }
   ],
   "source": [
    "# Time spent oneway test based on Device\n",
    "loc_1 = df[df['Device'] == 'Device1']['Time Spent']\n",
    "loc_2 = df[df['Device'] == 'Device2']['Time Spent']\n",
    "loc_3 = df[df['Device'] == 'Device3']['Time Spent']\n",
    "\n",
    "p_val = stats.f_oneway(loc_1, loc_2, loc_3)\n",
    "print(p_val)"
   ]
  },
  {
   "cell_type": "code",
   "execution_count": 62,
   "metadata": {},
   "outputs": [
    {
     "name": "stdout",
     "output_type": "stream",
     "text": [
      "F_onewayResult(statistic=0.7105872492654717, pvalue=0.4916042399968955)\n"
     ]
    }
   ],
   "source": [
    "# CTR oneway test based on Device \n",
    "loc_1 = df[df['Device'] == 'Device1']['CTR']\n",
    "loc_2 = df[df['Device'] == 'Device2']['CTR']\n",
    "loc_3 = df[df['Device'] == 'Device3']['CTR']\n",
    "\n",
    "p_val = stats.f_oneway(loc_1, loc_2, loc_3)\n",
    "print(p_val)"
   ]
  },
  {
   "cell_type": "code",
   "execution_count": 67,
   "metadata": {},
   "outputs": [
    {
     "name": "stdout",
     "output_type": "stream",
     "text": [
      "F_onewayResult(statistic=75.60840947416146, pvalue=2.676826588910432e-31)\n"
     ]
    }
   ],
   "source": [
    "# Time Spent oneway test based on Variant\n",
    "var1 = df[df['Variant']=='Variant A']['Time Spent']\n",
    "var2 = df[df['Variant']=='Variant B']['Time Spent']\n",
    "control = df[df['Variant']=='Control']['Time Spent']\n",
    "\n",
    "p_val = stats.f_oneway(var1, var2, control)\n",
    "print(p_val)"
   ]
  },
  {
   "cell_type": "code",
   "execution_count": 68,
   "metadata": {},
   "outputs": [
    {
     "name": "stdout",
     "output_type": "stream",
     "text": [
      "F_onewayResult(statistic=93.58891593622702, pvalue=5.638952705781554e-38)\n"
     ]
    }
   ],
   "source": [
    "# CTR oneway test based on Variant\n",
    "var1 = df[df['Variant']=='Variant A']['CTR']\n",
    "var2 = df[df['Variant']=='Variant B']['CTR']\n",
    "control = df[df['Variant']=='Control']['CTR']\n",
    "\n",
    "p_val = stats.f_oneway(var1, var2, control)\n",
    "print(p_val)"
   ]
  },
  {
   "cell_type": "code",
   "execution_count": 69,
   "metadata": {},
   "outputs": [
    {
     "name": "stdout",
     "output_type": "stream",
     "text": [
      "Ttest_indResult(statistic=12.142363487472364, pvalue=8.488565644996449e-31)\n",
      "Ttest_indResult(statistic=8.174237395991806, pvalue=1.496358076285182e-15)\n",
      "Ttest_indResult(statistic=3.6788175394209075, pvalue=0.0002534771014765265)\n"
     ]
    }
   ],
   "source": [
    "#T-test based on anova results since we want to see indepent relation between the variants and Time Spent \n",
    "var1 = df[df['Variant']=='Variant A']['Time Spent']\n",
    "var2 = df[df['Variant']=='Variant B']['Time Spent']\n",
    "control = df[df['Variant']=='Control']['Time Spent']\n",
    "\n",
    "p_val = stats.ttest_ind(var1, control)\n",
    "p_val_2 = stats.ttest_ind(var2, control)\n",
    "p_val_3 = stats.ttest_ind(var1, var2)\n",
    "print(p_val)\n",
    "print(p_val_2)\n",
    "print(p_val_3)"
   ]
  },
  {
   "cell_type": "code",
   "execution_count": 70,
   "metadata": {},
   "outputs": [
    {
     "name": "stdout",
     "output_type": "stream",
     "text": [
      "Ttest_indResult(statistic=13.829424737499187, pvalue=1.9602781373243157e-38)\n",
      "Ttest_indResult(statistic=6.4718143491783255, pvalue=1.8743198199982106e-10)\n",
      "Ttest_indResult(statistic=7.08499696316128, pvalue=3.587180487986577e-12)\n"
     ]
    }
   ],
   "source": [
    "#T-test based on anova results since we want to see indepent relation between the variants and CTR\n",
    "\n",
    "\n",
    "var1 = df[df['Variant']=='Variant A']['CTR']\n",
    "var2 = df[df['Variant']=='Variant B']['CTR']\n",
    "control = df[df['Variant']=='Control']['CTR']\n",
    "\n",
    "p_val = stats.ttest_ind(var1, control)\n",
    "p_val_2 = stats.ttest_ind(var2, control)\n",
    "p_val_3 = stats.ttest_ind(var1, var2)\n",
    "print(p_val)\n",
    "print(p_val_2)\n",
    "print(p_val_3)"
   ]
  },
  {
   "cell_type": "code",
   "execution_count": 71,
   "metadata": {},
   "outputs": [],
   "source": [
    "#Created age group column to place the age disturbution \n",
    "# Age disturbution to Conduct Test on \n",
    "bins =[18, 28, 38, 50, 65] \n",
    "labels = ['18-27' , '28-37', '38-49', '50-64']\n",
    "df ['Age Group'] = pd.cut(df['Age'], bins=bins, labels=labels, right=False)"
   ]
  },
  {
   "cell_type": "code",
   "execution_count": 93,
   "metadata": {},
   "outputs": [
    {
     "data": {
      "text/html": [
       "<div>\n",
       "<style scoped>\n",
       "    .dataframe tbody tr th:only-of-type {\n",
       "        vertical-align: middle;\n",
       "    }\n",
       "\n",
       "    .dataframe tbody tr th {\n",
       "        vertical-align: top;\n",
       "    }\n",
       "\n",
       "    .dataframe thead th {\n",
       "        text-align: right;\n",
       "    }\n",
       "</style>\n",
       "<table border=\"1\" class=\"dataframe\">\n",
       "  <thead>\n",
       "    <tr style=\"text-align: right;\">\n",
       "      <th></th>\n",
       "      <th>Age</th>\n",
       "      <th>Location</th>\n",
       "      <th>Device</th>\n",
       "      <th>Variant</th>\n",
       "      <th>Time Spent</th>\n",
       "      <th>CTR</th>\n",
       "      <th>Age Group</th>\n",
       "    </tr>\n",
       "  </thead>\n",
       "  <tbody>\n",
       "    <tr>\n",
       "      <th>0</th>\n",
       "      <td>62</td>\n",
       "      <td>Location2</td>\n",
       "      <td>Device2</td>\n",
       "      <td>Control</td>\n",
       "      <td>13.928669</td>\n",
       "      <td>0.084776</td>\n",
       "      <td>50-64</td>\n",
       "    </tr>\n",
       "    <tr>\n",
       "      <th>1</th>\n",
       "      <td>18</td>\n",
       "      <td>Location1</td>\n",
       "      <td>Device1</td>\n",
       "      <td>Variant B</td>\n",
       "      <td>11.310518</td>\n",
       "      <td>0.096859</td>\n",
       "      <td>18-27</td>\n",
       "    </tr>\n",
       "    <tr>\n",
       "      <th>2</th>\n",
       "      <td>21</td>\n",
       "      <td>Location2</td>\n",
       "      <td>Device1</td>\n",
       "      <td>Variant B</td>\n",
       "      <td>24.842100</td>\n",
       "      <td>0.097630</td>\n",
       "      <td>18-27</td>\n",
       "    </tr>\n",
       "    <tr>\n",
       "      <th>3</th>\n",
       "      <td>21</td>\n",
       "      <td>Location1</td>\n",
       "      <td>Device3</td>\n",
       "      <td>Variant B</td>\n",
       "      <td>20.061300</td>\n",
       "      <td>0.109783</td>\n",
       "      <td>18-27</td>\n",
       "    </tr>\n",
       "    <tr>\n",
       "      <th>4</th>\n",
       "      <td>57</td>\n",
       "      <td>Location1</td>\n",
       "      <td>Device2</td>\n",
       "      <td>Variant B</td>\n",
       "      <td>34.495503</td>\n",
       "      <td>0.068579</td>\n",
       "      <td>50-64</td>\n",
       "    </tr>\n",
       "    <tr>\n",
       "      <th>...</th>\n",
       "      <td>...</td>\n",
       "      <td>...</td>\n",
       "      <td>...</td>\n",
       "      <td>...</td>\n",
       "      <td>...</td>\n",
       "      <td>...</td>\n",
       "      <td>...</td>\n",
       "    </tr>\n",
       "    <tr>\n",
       "      <th>995</th>\n",
       "      <td>39</td>\n",
       "      <td>Location2</td>\n",
       "      <td>Device2</td>\n",
       "      <td>Variant B</td>\n",
       "      <td>17.252030</td>\n",
       "      <td>0.092211</td>\n",
       "      <td>38-49</td>\n",
       "    </tr>\n",
       "    <tr>\n",
       "      <th>996</th>\n",
       "      <td>38</td>\n",
       "      <td>Location3</td>\n",
       "      <td>Device2</td>\n",
       "      <td>Control</td>\n",
       "      <td>30.075898</td>\n",
       "      <td>0.078151</td>\n",
       "      <td>38-49</td>\n",
       "    </tr>\n",
       "    <tr>\n",
       "      <th>997</th>\n",
       "      <td>60</td>\n",
       "      <td>Location2</td>\n",
       "      <td>Device3</td>\n",
       "      <td>Control</td>\n",
       "      <td>31.929223</td>\n",
       "      <td>0.125213</td>\n",
       "      <td>50-64</td>\n",
       "    </tr>\n",
       "    <tr>\n",
       "      <th>998</th>\n",
       "      <td>35</td>\n",
       "      <td>Location2</td>\n",
       "      <td>Device2</td>\n",
       "      <td>Variant B</td>\n",
       "      <td>14.680299</td>\n",
       "      <td>0.095423</td>\n",
       "      <td>28-37</td>\n",
       "    </tr>\n",
       "    <tr>\n",
       "      <th>999</th>\n",
       "      <td>55</td>\n",
       "      <td>Location1</td>\n",
       "      <td>Device1</td>\n",
       "      <td>Variant B</td>\n",
       "      <td>25.803169</td>\n",
       "      <td>0.166688</td>\n",
       "      <td>50-64</td>\n",
       "    </tr>\n",
       "  </tbody>\n",
       "</table>\n",
       "<p>1000 rows × 7 columns</p>\n",
       "</div>"
      ],
      "text/plain": [
       "     Age   Location   Device    Variant  Time Spent       CTR Age Group\n",
       "0     62  Location2  Device2    Control   13.928669  0.084776     50-64\n",
       "1     18  Location1  Device1  Variant B   11.310518  0.096859     18-27\n",
       "2     21  Location2  Device1  Variant B   24.842100  0.097630     18-27\n",
       "3     21  Location1  Device3  Variant B   20.061300  0.109783     18-27\n",
       "4     57  Location1  Device2  Variant B   34.495503  0.068579     50-64\n",
       "..   ...        ...      ...        ...         ...       ...       ...\n",
       "995   39  Location2  Device2  Variant B   17.252030  0.092211     38-49\n",
       "996   38  Location3  Device2    Control   30.075898  0.078151     38-49\n",
       "997   60  Location2  Device3    Control   31.929223  0.125213     50-64\n",
       "998   35  Location2  Device2  Variant B   14.680299  0.095423     28-37\n",
       "999   55  Location1  Device1  Variant B   25.803169  0.166688     50-64\n",
       "\n",
       "[1000 rows x 7 columns]"
      ]
     },
     "execution_count": 93,
     "metadata": {},
     "output_type": "execute_result"
    }
   ],
   "source": [
    "df"
   ]
  },
  {
   "cell_type": "code",
   "execution_count": 81,
   "metadata": {},
   "outputs": [],
   "source": [
    "#Mean of time spent and grouping it by age group \n",
    "age_group_avg_ts =df.groupby('Age Group')['Time Spent'].mean()"
   ]
  },
  {
   "cell_type": "code",
   "execution_count": 82,
   "metadata": {},
   "outputs": [
    {
     "data": {
      "text/plain": [
       "Age Group\n",
       "18-27    22.524565\n",
       "28-37    22.566818\n",
       "38-49    23.170616\n",
       "50-64    22.583417\n",
       "Name: Time Spent, dtype: float64"
      ]
     },
     "execution_count": 82,
     "metadata": {},
     "output_type": "execute_result"
    }
   ],
   "source": [
    "age_group_avg_ts"
   ]
  },
  {
   "cell_type": "code",
   "execution_count": 83,
   "metadata": {},
   "outputs": [],
   "source": [
    "#Mean of CTR and grouping it by age group \n",
    "age_group_avg_ctr = df.groupby('Age Group')['CTR'].mean()"
   ]
  },
  {
   "cell_type": "code",
   "execution_count": 94,
   "metadata": {},
   "outputs": [
    {
     "data": {
      "text/plain": [
       "Age Group\n",
       "18-27    0.108728\n",
       "28-37    0.109262\n",
       "38-49    0.110976\n",
       "50-64    0.107938\n",
       "Name: CTR, dtype: float64"
      ]
     },
     "execution_count": 94,
     "metadata": {},
     "output_type": "execute_result"
    }
   ],
   "source": [
    "#CTR Mean \n",
    "age_group_avg_ctr"
   ]
  },
  {
   "cell_type": "code",
   "execution_count": 85,
   "metadata": {},
   "outputs": [],
   "source": [
    "age_group_1 = df[df['Age Group']=='18-27'] ['Time Spent']"
   ]
  },
  {
   "cell_type": "code",
   "execution_count": 1,
   "metadata": {},
   "outputs": [
    {
     "ename": "NameError",
     "evalue": "name 'df' is not defined",
     "output_type": "error",
     "traceback": [
      "\u001b[0;31m---------------------------------------------------------------------------\u001b[0m",
      "\u001b[0;31mNameError\u001b[0m                                 Traceback (most recent call last)",
      "Cell \u001b[0;32mIn[1], line 1\u001b[0m\n\u001b[0;32m----> 1\u001b[0m age_group_2 \u001b[39m=\u001b[39m df[df[\u001b[39m'\u001b[39m\u001b[39mAge Group\u001b[39m\u001b[39m'\u001b[39m]\u001b[39m==\u001b[39m  \u001b[39m'\u001b[39m\u001b[39m28-37\u001b[39m\u001b[39m'\u001b[39m] [\u001b[39m'\u001b[39m\u001b[39mTime Spent\u001b[39m\u001b[39m'\u001b[39m]\n\u001b[1;32m      2\u001b[0m age_group_3 \u001b[39m=\u001b[39m df[df[\u001b[39m'\u001b[39m\u001b[39mAge Group\u001b[39m\u001b[39m'\u001b[39m]\u001b[39m==\u001b[39m  \u001b[39m'\u001b[39m\u001b[39m38-49\u001b[39m\u001b[39m'\u001b[39m] [\u001b[39m'\u001b[39m\u001b[39mTime Spent\u001b[39m\u001b[39m'\u001b[39m]\n\u001b[1;32m      3\u001b[0m age_group_4 \u001b[39m=\u001b[39m df[df[\u001b[39m'\u001b[39m\u001b[39mAge Group\u001b[39m\u001b[39m'\u001b[39m]\u001b[39m==\u001b[39m  \u001b[39m'\u001b[39m\u001b[39m50-65\u001b[39m\u001b[39m'\u001b[39m] [\u001b[39m'\u001b[39m\u001b[39mTime Spent\u001b[39m\u001b[39m'\u001b[39m]\n",
      "\u001b[0;31mNameError\u001b[0m: name 'df' is not defined"
     ]
    }
   ],
   "source": [
    "age_group_2 = df[df['Age Group']==  '28-37'] ['Time Spent']\n",
    "age_group_3 = df[df['Age Group']==  '38-49'] ['Time Spent']\n",
    "age_group_4 = df[df['Age Group']==  '50-6'] ['Time Spent']"
   ]
  },
  {
   "cell_type": "code",
   "execution_count": 87,
   "metadata": {},
   "outputs": [
    {
     "name": "stdout",
     "output_type": "stream",
     "text": [
      "F_onewayResult(statistic=0.7785763000636917, pvalue=0.5060074396320704)\n"
     ]
    }
   ],
   "source": [
    "p_val= stats.f_oneway(age_group_1, age_group_2, age_group_3,age_group_4)\n",
    "print(p_val)"
   ]
  },
  {
   "cell_type": "code",
   "execution_count": 89,
   "metadata": {},
   "outputs": [
    {
     "name": "stdout",
     "output_type": "stream",
     "text": [
      "F_onewayResult(statistic=0.8961645098284147, pvalue=0.44257439977002133)\n"
     ]
    }
   ],
   "source": [
    "age_group_1 = df[df['Age Group']==  '18-27'] ['CTR']\n",
    "age_group_2 = df[df['Age Group']==  '28-37'] ['CTR']\n",
    "age_group_3 = df[df['Age Group']==  '38-49'] ['CTR']\n",
    "age_group_4 = df[df['Age Group']==  '50-64'] ['CTR']\n",
    "p_val= stats.f_oneway(age_group_1, age_group_2, age_group_3,age_group_4)\n",
    "print(p_val)"
   ]
  },
  {
   "attachments": {},
   "cell_type": "markdown",
   "metadata": {},
   "source": [
    "Q3- Summarize your results. Make a recommendation to the engineering team about which feature to deploy. \n",
    "\n",
    "We had to analyze which feature should the engineering team roll, and for that, we conducted statistical tests, and the finding of those tests are as follows. \n",
    "\n",
    "- Based on our analysis, which considered demographics such as location, age, and device type, we found no significant impact on the time spent and click-through rate (CTR). This suggests that these demographic factors are not influential on the amount of time users spend on the application. Hence, we divert our focus towards analyzing the differentiation between variants regarding CTR and time spent using different statistical tests such as ANOVA and T-test.\n",
    "\n",
    "- Based on the ANOVA test, we see that both the Time Spent and CTR have significantly different results, which means that the variants and the control group have contrasting behavior. We used the T-test to validate the differentiation between the variants. Remarkably different p-values indicate that one variant performs better.\n",
    "\n",
    "- Finally, to assess the variant that performs better, we calculated the mean CTR and time spent by variant. Through these results, we can claim that variant A performs better in retaining customers due to higher average CTR and time spent values than other variants.\n",
    "\n",
    "_Based on the above analysis, we can recommend to the engineering team to deploy Feature A. This variant has a higher time spent and Click-Through-Rate, which suggests that the feature attracts users' attention and retains their interest and engagement in the application, thus enabling a positive user experience_\n"
   ]
  },
  {
   "attachments": {},
   "cell_type": "markdown",
   "metadata": {},
   "source": [
    "Q4-Roll-Out Plan for Feature A will include the following:\n",
    "\n",
    "Pre-Rollout Stage:\n",
    "\n",
    "- We will have to conduct thorough testing and quality assurance to ensure the feature is stable and functional.\n",
    "- We must identify the target audience for our initial rollout.\n",
    "\n",
    "Initial Launch Stage:\n",
    "\n",
    "- Introduce the feature to a limited subset of the target audience, such as a smaller user base or specific geographic region. This will act as our feedback, and we can make the required changes. And we can gather data and analytics to assess user response and engagement.\n",
    "\n",
    "Expansion Stage:\n",
    "\n",
    "- Based on the feedback and performance data from the soft launch, gradually expand the availability of the feature to a larger audience.\n",
    "- Consistently track consumer feedback and engagement metrics to identify any areas of opportunity.\n",
    "- Address any issues or bugs encountered during the soft launch phase.\n",
    "\n",
    "Communication and Support:\n",
    "\n",
    "- Prove clear and concise communication to our users about the new feature and highlight its benefits so users can use the feature effectively. \n",
    "- Provide support for users, such as tutorials or helplines, which can assist them with any questions or difficulties they may encounter.\n",
    "\n",
    "To conclude, we can launch our feature as it is ready to be launched and has all the approvals from the engineering team. \n",
    "\n"
   ]
  }
 ],
 "metadata": {
  "kernelspec": {
   "display_name": "Python 3",
   "language": "python",
   "name": "python3"
  },
  "language_info": {
   "codemirror_mode": {
    "name": "ipython",
    "version": 3
   },
   "file_extension": ".py",
   "mimetype": "text/x-python",
   "name": "python",
   "nbconvert_exporter": "python",
   "pygments_lexer": "ipython3",
   "version": "3.9.6"
  },
  "orig_nbformat": 4
 },
 "nbformat": 4,
 "nbformat_minor": 2
}
