{
 "cells": [
  {
   "cell_type": "code",
   "execution_count": 199,
   "metadata": {},
   "outputs": [],
   "source": [
    "\n",
    "import pandas as pd\n",
    "import numpy as np\n",
    "import matplotlib.pyplot as plt\n",
    "import seaborn as sns\n",
    "from scipy import stats\n",
    "from sklearn.model_selection import train_test_split, cross_val_score, GridSearchCV, RandomizedSearchCV\n",
    "from sklearn.preprocessing import StandardScaler, OneHotEncoder\n",
    "from sklearn.compose import ColumnTransformer\n",
    "from sklearn.naive_bayes import GaussianNB\n",
    "from sklearn.neighbors import KNeighborsClassifier\n",
    "from sklearn.metrics import confusion_matrix, accuracy_score, precision_score, recall_score, f1_score, roc_curve, auc, precision_recall_curve\n",
    "from sklearn.pipeline import Pipeline\n",
    "from sklearn.linear_model import LogisticRegression\n",
    "from scipy.stats import zscore\n",
    "from scipy.stats import skew, kurtosis\n",
    "from sklearn.svm import SVC\n",
    "from sklearn.tree import DecisionTreeClassifier\n",
    "from sklearn.decomposition import PCA\n",
    "%matplotlib inline\n",
    "from statsmodels.formula.api import ols\n",
    "import statsmodels.api as sm\n",
    "from sklearn.linear_model import LinearRegression\n"
   ]
  },
  {
   "cell_type": "code",
   "execution_count": 200,
   "metadata": {},
   "outputs": [],
   "source": [
    "df = pd.read_csv('/Users/aimaldastagirzada/Downloads/conversion_data.csv')"
   ]
  },
  {
   "cell_type": "code",
   "execution_count": 201,
   "metadata": {},
   "outputs": [
    {
     "data": {
      "text/html": [
       "<div>\n",
       "<style scoped>\n",
       "    .dataframe tbody tr th:only-of-type {\n",
       "        vertical-align: middle;\n",
       "    }\n",
       "\n",
       "    .dataframe tbody tr th {\n",
       "        vertical-align: top;\n",
       "    }\n",
       "\n",
       "    .dataframe thead th {\n",
       "        text-align: right;\n",
       "    }\n",
       "</style>\n",
       "<table border=\"1\" class=\"dataframe\">\n",
       "  <thead>\n",
       "    <tr style=\"text-align: right;\">\n",
       "      <th></th>\n",
       "      <th>Unnamed: 0</th>\n",
       "      <th>visitor_id</th>\n",
       "      <th>visitor_location</th>\n",
       "      <th>marketing_channel</th>\n",
       "      <th>gender</th>\n",
       "      <th>product_views_Mon</th>\n",
       "      <th>product_views_Tue</th>\n",
       "      <th>product_views_Wed</th>\n",
       "      <th>product_views_Thu</th>\n",
       "      <th>product_views_Fri</th>\n",
       "      <th>...</th>\n",
       "      <th>time_on_site_Tue</th>\n",
       "      <th>time_on_site_Wed</th>\n",
       "      <th>time_on_site_Thu</th>\n",
       "      <th>time_on_site_Fri</th>\n",
       "      <th>pages_visited_Mon</th>\n",
       "      <th>pages_visited_Tue</th>\n",
       "      <th>pages_visited_Wed</th>\n",
       "      <th>pages_visited_Thu</th>\n",
       "      <th>pages_visited_Fri</th>\n",
       "      <th>converted_Fri</th>\n",
       "    </tr>\n",
       "  </thead>\n",
       "  <tbody>\n",
       "    <tr>\n",
       "      <th>0</th>\n",
       "      <td>0</td>\n",
       "      <td>1</td>\n",
       "      <td>North America</td>\n",
       "      <td>youtube</td>\n",
       "      <td>M</td>\n",
       "      <td>4</td>\n",
       "      <td>5</td>\n",
       "      <td>2</td>\n",
       "      <td>1</td>\n",
       "      <td>2</td>\n",
       "      <td>...</td>\n",
       "      <td>33</td>\n",
       "      <td>23</td>\n",
       "      <td>46</td>\n",
       "      <td>57</td>\n",
       "      <td>4</td>\n",
       "      <td>5</td>\n",
       "      <td>5</td>\n",
       "      <td>4</td>\n",
       "      <td>6</td>\n",
       "      <td>1</td>\n",
       "    </tr>\n",
       "    <tr>\n",
       "      <th>1</th>\n",
       "      <td>1</td>\n",
       "      <td>2</td>\n",
       "      <td>South America</td>\n",
       "      <td>organic</td>\n",
       "      <td>F</td>\n",
       "      <td>2</td>\n",
       "      <td>5</td>\n",
       "      <td>0</td>\n",
       "      <td>1</td>\n",
       "      <td>5</td>\n",
       "      <td>...</td>\n",
       "      <td>28</td>\n",
       "      <td>39</td>\n",
       "      <td>24</td>\n",
       "      <td>51</td>\n",
       "      <td>5</td>\n",
       "      <td>6</td>\n",
       "      <td>7</td>\n",
       "      <td>6</td>\n",
       "      <td>2</td>\n",
       "      <td>0</td>\n",
       "    </tr>\n",
       "    <tr>\n",
       "      <th>2</th>\n",
       "      <td>2</td>\n",
       "      <td>3</td>\n",
       "      <td>Australia</td>\n",
       "      <td>instagram</td>\n",
       "      <td>M</td>\n",
       "      <td>3</td>\n",
       "      <td>4</td>\n",
       "      <td>0</td>\n",
       "      <td>-3</td>\n",
       "      <td>5</td>\n",
       "      <td>...</td>\n",
       "      <td>34</td>\n",
       "      <td>22</td>\n",
       "      <td>34</td>\n",
       "      <td>31</td>\n",
       "      <td>1</td>\n",
       "      <td>3</td>\n",
       "      <td>3</td>\n",
       "      <td>2</td>\n",
       "      <td>3</td>\n",
       "      <td>1</td>\n",
       "    </tr>\n",
       "    <tr>\n",
       "      <th>3</th>\n",
       "      <td>3</td>\n",
       "      <td>4</td>\n",
       "      <td>North America</td>\n",
       "      <td>facebook</td>\n",
       "      <td>M</td>\n",
       "      <td>1</td>\n",
       "      <td>0</td>\n",
       "      <td>0</td>\n",
       "      <td>5</td>\n",
       "      <td>0</td>\n",
       "      <td>...</td>\n",
       "      <td>26</td>\n",
       "      <td>43</td>\n",
       "      <td>22</td>\n",
       "      <td>39</td>\n",
       "      <td>3</td>\n",
       "      <td>4</td>\n",
       "      <td>7</td>\n",
       "      <td>7</td>\n",
       "      <td>1</td>\n",
       "      <td>0</td>\n",
       "    </tr>\n",
       "    <tr>\n",
       "      <th>4</th>\n",
       "      <td>4</td>\n",
       "      <td>5</td>\n",
       "      <td>Asia</td>\n",
       "      <td>instagram</td>\n",
       "      <td>F</td>\n",
       "      <td>1</td>\n",
       "      <td>5</td>\n",
       "      <td>2</td>\n",
       "      <td>2</td>\n",
       "      <td>3</td>\n",
       "      <td>...</td>\n",
       "      <td>54</td>\n",
       "      <td>30</td>\n",
       "      <td>47</td>\n",
       "      <td>57</td>\n",
       "      <td>6</td>\n",
       "      <td>6</td>\n",
       "      <td>5</td>\n",
       "      <td>2</td>\n",
       "      <td>4</td>\n",
       "      <td>1</td>\n",
       "    </tr>\n",
       "    <tr>\n",
       "      <th>...</th>\n",
       "      <td>...</td>\n",
       "      <td>...</td>\n",
       "      <td>...</td>\n",
       "      <td>...</td>\n",
       "      <td>...</td>\n",
       "      <td>...</td>\n",
       "      <td>...</td>\n",
       "      <td>...</td>\n",
       "      <td>...</td>\n",
       "      <td>...</td>\n",
       "      <td>...</td>\n",
       "      <td>...</td>\n",
       "      <td>...</td>\n",
       "      <td>...</td>\n",
       "      <td>...</td>\n",
       "      <td>...</td>\n",
       "      <td>...</td>\n",
       "      <td>...</td>\n",
       "      <td>...</td>\n",
       "      <td>...</td>\n",
       "      <td>...</td>\n",
       "    </tr>\n",
       "    <tr>\n",
       "      <th>1995</th>\n",
       "      <td>1995</td>\n",
       "      <td>1996</td>\n",
       "      <td>Europe</td>\n",
       "      <td>organic</td>\n",
       "      <td>F</td>\n",
       "      <td>3</td>\n",
       "      <td>0</td>\n",
       "      <td>0</td>\n",
       "      <td>4</td>\n",
       "      <td>2</td>\n",
       "      <td>...</td>\n",
       "      <td>22</td>\n",
       "      <td>51</td>\n",
       "      <td>44</td>\n",
       "      <td>29</td>\n",
       "      <td>5</td>\n",
       "      <td>1</td>\n",
       "      <td>5</td>\n",
       "      <td>7</td>\n",
       "      <td>7</td>\n",
       "      <td>0</td>\n",
       "    </tr>\n",
       "    <tr>\n",
       "      <th>1996</th>\n",
       "      <td>1996</td>\n",
       "      <td>1997</td>\n",
       "      <td>South America</td>\n",
       "      <td>google</td>\n",
       "      <td>M</td>\n",
       "      <td>1</td>\n",
       "      <td>2</td>\n",
       "      <td>0</td>\n",
       "      <td>4</td>\n",
       "      <td>1</td>\n",
       "      <td>...</td>\n",
       "      <td>54</td>\n",
       "      <td>33</td>\n",
       "      <td>59</td>\n",
       "      <td>38</td>\n",
       "      <td>1</td>\n",
       "      <td>6</td>\n",
       "      <td>6</td>\n",
       "      <td>7</td>\n",
       "      <td>6</td>\n",
       "      <td>0</td>\n",
       "    </tr>\n",
       "    <tr>\n",
       "      <th>1997</th>\n",
       "      <td>1997</td>\n",
       "      <td>1998</td>\n",
       "      <td>Asia</td>\n",
       "      <td>facebook</td>\n",
       "      <td>M</td>\n",
       "      <td>2</td>\n",
       "      <td>3</td>\n",
       "      <td>0</td>\n",
       "      <td>0</td>\n",
       "      <td>8</td>\n",
       "      <td>...</td>\n",
       "      <td>32</td>\n",
       "      <td>30</td>\n",
       "      <td>48</td>\n",
       "      <td>38</td>\n",
       "      <td>2</td>\n",
       "      <td>1</td>\n",
       "      <td>7</td>\n",
       "      <td>6</td>\n",
       "      <td>4</td>\n",
       "      <td>0</td>\n",
       "    </tr>\n",
       "    <tr>\n",
       "      <th>1998</th>\n",
       "      <td>1998</td>\n",
       "      <td>1999</td>\n",
       "      <td>South America</td>\n",
       "      <td>youtube</td>\n",
       "      <td>F</td>\n",
       "      <td>2</td>\n",
       "      <td>2</td>\n",
       "      <td>2</td>\n",
       "      <td>5</td>\n",
       "      <td>5</td>\n",
       "      <td>...</td>\n",
       "      <td>21</td>\n",
       "      <td>51</td>\n",
       "      <td>41</td>\n",
       "      <td>56</td>\n",
       "      <td>6</td>\n",
       "      <td>4</td>\n",
       "      <td>2</td>\n",
       "      <td>2</td>\n",
       "      <td>3</td>\n",
       "      <td>1</td>\n",
       "    </tr>\n",
       "    <tr>\n",
       "      <th>1999</th>\n",
       "      <td>1999</td>\n",
       "      <td>2000</td>\n",
       "      <td>North America</td>\n",
       "      <td>instagram</td>\n",
       "      <td>F</td>\n",
       "      <td>2</td>\n",
       "      <td>1</td>\n",
       "      <td>1</td>\n",
       "      <td>5</td>\n",
       "      <td>1</td>\n",
       "      <td>...</td>\n",
       "      <td>21</td>\n",
       "      <td>45</td>\n",
       "      <td>59</td>\n",
       "      <td>21</td>\n",
       "      <td>4</td>\n",
       "      <td>5</td>\n",
       "      <td>7</td>\n",
       "      <td>3</td>\n",
       "      <td>1</td>\n",
       "      <td>1</td>\n",
       "    </tr>\n",
       "  </tbody>\n",
       "</table>\n",
       "<p>2000 rows × 31 columns</p>\n",
       "</div>"
      ],
      "text/plain": [
       "      Unnamed: 0  visitor_id visitor_location marketing_channel gender   \n",
       "0              0           1    North America           youtube      M  \\\n",
       "1              1           2    South America           organic      F   \n",
       "2              2           3        Australia         instagram      M   \n",
       "3              3           4    North America          facebook      M   \n",
       "4              4           5             Asia         instagram      F   \n",
       "...          ...         ...              ...               ...    ...   \n",
       "1995        1995        1996           Europe           organic      F   \n",
       "1996        1996        1997    South America            google      M   \n",
       "1997        1997        1998             Asia          facebook      M   \n",
       "1998        1998        1999    South America           youtube      F   \n",
       "1999        1999        2000    North America         instagram      F   \n",
       "\n",
       "      product_views_Mon  product_views_Tue  product_views_Wed   \n",
       "0                     4                  5                  2  \\\n",
       "1                     2                  5                  0   \n",
       "2                     3                  4                  0   \n",
       "3                     1                  0                  0   \n",
       "4                     1                  5                  2   \n",
       "...                 ...                ...                ...   \n",
       "1995                  3                  0                  0   \n",
       "1996                  1                  2                  0   \n",
       "1997                  2                  3                  0   \n",
       "1998                  2                  2                  2   \n",
       "1999                  2                  1                  1   \n",
       "\n",
       "      product_views_Thu  product_views_Fri  ...  time_on_site_Tue   \n",
       "0                     1                  2  ...                33  \\\n",
       "1                     1                  5  ...                28   \n",
       "2                    -3                  5  ...                34   \n",
       "3                     5                  0  ...                26   \n",
       "4                     2                  3  ...                54   \n",
       "...                 ...                ...  ...               ...   \n",
       "1995                  4                  2  ...                22   \n",
       "1996                  4                  1  ...                54   \n",
       "1997                  0                  8  ...                32   \n",
       "1998                  5                  5  ...                21   \n",
       "1999                  5                  1  ...                21   \n",
       "\n",
       "      time_on_site_Wed  time_on_site_Thu  time_on_site_Fri  pages_visited_Mon   \n",
       "0                   23                46                57                  4  \\\n",
       "1                   39                24                51                  5   \n",
       "2                   22                34                31                  1   \n",
       "3                   43                22                39                  3   \n",
       "4                   30                47                57                  6   \n",
       "...                ...               ...               ...                ...   \n",
       "1995                51                44                29                  5   \n",
       "1996                33                59                38                  1   \n",
       "1997                30                48                38                  2   \n",
       "1998                51                41                56                  6   \n",
       "1999                45                59                21                  4   \n",
       "\n",
       "      pages_visited_Tue  pages_visited_Wed  pages_visited_Thu   \n",
       "0                     5                  5                  4  \\\n",
       "1                     6                  7                  6   \n",
       "2                     3                  3                  2   \n",
       "3                     4                  7                  7   \n",
       "4                     6                  5                  2   \n",
       "...                 ...                ...                ...   \n",
       "1995                  1                  5                  7   \n",
       "1996                  6                  6                  7   \n",
       "1997                  1                  7                  6   \n",
       "1998                  4                  2                  2   \n",
       "1999                  5                  7                  3   \n",
       "\n",
       "      pages_visited_Fri  converted_Fri  \n",
       "0                     6              1  \n",
       "1                     2              0  \n",
       "2                     3              1  \n",
       "3                     1              0  \n",
       "4                     4              1  \n",
       "...                 ...            ...  \n",
       "1995                  7              0  \n",
       "1996                  6              0  \n",
       "1997                  4              0  \n",
       "1998                  3              1  \n",
       "1999                  1              1  \n",
       "\n",
       "[2000 rows x 31 columns]"
      ]
     },
     "execution_count": 201,
     "metadata": {},
     "output_type": "execute_result"
    }
   ],
   "source": [
    "df"
   ]
  },
  {
   "cell_type": "code",
   "execution_count": null,
   "metadata": {},
   "outputs": [],
   "source": [
    "df.drop(columns= 'Unnamed: 0' , axis=1, inplace=True)"
   ]
  },
  {
   "cell_type": "code",
   "execution_count": null,
   "metadata": {},
   "outputs": [],
   "source": [
    "df"
   ]
  },
  {
   "cell_type": "code",
   "execution_count": null,
   "metadata": {},
   "outputs": [],
   "source": [
    "df.info()"
   ]
  },
  {
   "cell_type": "code",
   "execution_count": null,
   "metadata": {},
   "outputs": [],
   "source": [
    "df.columns"
   ]
  },
  {
   "cell_type": "code",
   "execution_count": null,
   "metadata": {},
   "outputs": [],
   "source": [
    "df['avg_product_view'] = df[['product_views_Mon','product_views_Tue','product_views_Wed','product_views_Thu', 'product_views_Fri']].mean(axis=1)\n",
    "df['avg_rating']= df[['avg_rating_Mon','avg_rating_Tue', 'avg_rating_Wed', 'avg_rating_Thu', 'avg_rating_Fri',]].mean(axis=1)\n",
    "df['avg_price']=df[['avg_price_Mon', 'avg_price_Tue', 'avg_price_Wed', 'avg_price_Thu','avg_price_Fri']].mean(axis=1)\n",
    "df['avg_time_spent']= (df['time_on_site_Mon']+df['time_on_site_Tue']+df['time_on_site_Wed']+df['time_on_site_Thu']+df['time_on_site_Fri'])/5\n",
    "df['avg_pages_visted'] = (df['pages_visited_Mon']+df['pages_visited_Tue']+df['pages_visited_Wed']+df['pages_visited_Thu']+df['pages_visited_Fri'])/5"
   ]
  },
  {
   "cell_type": "code",
   "execution_count": null,
   "metadata": {},
   "outputs": [],
   "source": [
    "df"
   ]
  },
  {
   "cell_type": "code",
   "execution_count": null,
   "metadata": {},
   "outputs": [],
   "source": [
    "fig, axs=plt.subplots(2,3, figsize=(15,10))\n",
    "plt1= sns.boxplot(df['avg_product_view'], ax=axs[0][0])\n",
    "plt2= sns.boxplot(df['avg_rating'], ax=axs[0][1])\n",
    "plt3= sns.boxplot(df['avg_price'], ax=axs[0][2])\n",
    "plt4= sns.boxplot(df['avg_time_spent'], ax=axs[1][0])\n",
    "plt5= sns.boxplot(df['avg_pages_visted'], ax=axs[1][1])"
   ]
  },
  {
   "cell_type": "code",
   "execution_count": null,
   "metadata": {},
   "outputs": [],
   "source": [
    "df.columns"
   ]
  },
  {
   "cell_type": "code",
   "execution_count": null,
   "metadata": {},
   "outputs": [],
   "source": [
    "numerical_column= ['avg_product_view','avg_rating', 'avg_price', 'avg_time_spent','avg_pages_visted']\n",
    "categorical_column= ['visitor_location', 'marketing_channel','gender','converted_Fri']\n"
   ]
  },
  {
   "cell_type": "code",
   "execution_count": null,
   "metadata": {},
   "outputs": [],
   "source": [
    "for column in numerical_column:\n",
    "    skewness_values = []\n",
    "    s = skew(df[column])\n",
    "    k = kurtosis(df[column])\n",
    "    print(f'{column}: skewness = {s}, kurtosis = {k}')"
   ]
  },
  {
   "cell_type": "code",
   "execution_count": null,
   "metadata": {},
   "outputs": [],
   "source": [
    "df2=df.copy()"
   ]
  },
  {
   "cell_type": "code",
   "execution_count": null,
   "metadata": {},
   "outputs": [],
   "source": [
    "if abs(s) > 1:\n",
    "    df2[column] = df2[column].apply(lambda x: np.log(x + 1))\n",
    "z_scores = zscore(df2[numerical_column])\n",
    "threshold = 3\n",
    "df2 = df2[(np.abs(z_scores) < threshold).all(axis=1)]"
   ]
  },
  {
   "cell_type": "code",
   "execution_count": null,
   "metadata": {},
   "outputs": [],
   "source": [
    "df.info()"
   ]
  },
  {
   "cell_type": "code",
   "execution_count": null,
   "metadata": {},
   "outputs": [],
   "source": [
    "df2.info()"
   ]
  },
  {
   "cell_type": "code",
   "execution_count": null,
   "metadata": {},
   "outputs": [],
   "source": [
    "if abs(s) > 1:\n",
    "    df[column] = df[column].apply(lambda x: np.log(x + 1))\n",
    "z_scores = zscore(df[numerical_column])\n",
    "threshold = 3\n",
    "df = df[(np.abs(z_scores) < threshold).all(axis=1)]"
   ]
  },
  {
   "cell_type": "code",
   "execution_count": null,
   "metadata": {},
   "outputs": [],
   "source": [
    "fig, axs=plt.subplots(2,3, figsize=(15,10))\n",
    "plt1= sns.boxplot(df['avg_product_view'], ax=axs[0][0])\n",
    "plt2= sns.boxplot(df['avg_rating'], ax=axs[0][1])\n",
    "plt3= sns.boxplot(df['avg_price'], ax=axs[0][2])\n",
    "plt4= sns.boxplot(df['avg_time_spent'], ax=axs[1][0])\n",
    "plt5= sns.boxplot(df['avg_pages_visted'], ax=axs[1][1])"
   ]
  },
  {
   "cell_type": "code",
   "execution_count": null,
   "metadata": {},
   "outputs": [],
   "source": [
    "df.head()"
   ]
  },
  {
   "cell_type": "code",
   "execution_count": null,
   "metadata": {},
   "outputs": [],
   "source": [
    "df.columns"
   ]
  },
  {
   "cell_type": "code",
   "execution_count": null,
   "metadata": {},
   "outputs": [],
   "source": [
    "df.head()"
   ]
  },
  {
   "attachments": {},
   "cell_type": "markdown",
   "metadata": {},
   "source": [
    "\n",
    "**Statistical Testing**\n"
   ]
  },
  {
   "cell_type": "code",
   "execution_count": null,
   "metadata": {},
   "outputs": [],
   "source": [
    "df.groupby('visitor_location')[['avg_product_view', 'avg_rating', 'avg_price', 'avg_time_spent',\n",
    "       'avg_pages_visted']].mean()"
   ]
  },
  {
   "cell_type": "code",
   "execution_count": null,
   "metadata": {},
   "outputs": [],
   "source": [
    "loc1=df[df['visitor_location']=='Asia']['avg_product_view']\n",
    "loc2=df[df['visitor_location']=='Australia']['avg_product_view']\n",
    "loc3=df[df['visitor_location']=='Europe']['avg_product_view']\n",
    "loc4=df[df['visitor_location']=='North America']['avg_product_view']\n",
    "loc5=df[df['visitor_location']=='South America']['avg_product_view']\n",
    "\n",
    "p_val= stats.f_oneway(loc1,loc2,loc3,loc4,loc5)\n",
    "print(p_val)\n",
    "\n"
   ]
  },
  {
   "cell_type": "code",
   "execution_count": null,
   "metadata": {},
   "outputs": [],
   "source": [
    "loc1=df[df['visitor_location']=='Asia']['avg_rating']\n",
    "loc2=df[df['visitor_location']=='Australia']['avg_rating']\n",
    "loc3=df[df['visitor_location']=='Europe']['avg_rating']\n",
    "loc4=df[df['visitor_location']=='North America']['avg_rating']\n",
    "loc5=df[df['visitor_location']=='South America']['avg_rating']\n",
    "\n",
    "p_val=stats.f_oneway(loc1,loc2,loc3,loc4,loc5)\n",
    "print(p_val)"
   ]
  },
  {
   "cell_type": "code",
   "execution_count": null,
   "metadata": {},
   "outputs": [],
   "source": [
    "loc1=df[df['visitor_location']=='Asia']['avg_price']\n",
    "loc2=df[df['visitor_location']=='Australia']['avg_price']\n",
    "loc3=df[df['visitor_location']=='Europe']['avg_price']\n",
    "loc4= df[df['visitor_location']=='North America']['avg_price']\n",
    "loc5=df[df['visitor_location']=='South America']['avg_price']\n",
    "\n",
    "p_val=stats.f_oneway(loc1,loc2,loc3,loc4,loc5)\n",
    "print(p_val)"
   ]
  },
  {
   "cell_type": "code",
   "execution_count": null,
   "metadata": {},
   "outputs": [],
   "source": [
    "loc1=df[df['visitor_location']=='Asia']['avg_time_spent']\n",
    "loc2=df[df['visitor_location']=='Australia']['avg_time_spent']\n",
    "loc3=df[df['visitor_location']=='Europe']['avg_time_spent']\n",
    "loc4= df[df['visitor_location']=='North America']['avg_time_spent']\n",
    "loc5=df[df['visitor_location']=='South America']['avg_time_spent']\n",
    "p_val=stats.f_oneway(loc1,loc2,loc3,loc4,loc5)\n",
    "print(p_val)\n"
   ]
  },
  {
   "cell_type": "code",
   "execution_count": null,
   "metadata": {},
   "outputs": [],
   "source": [
    "loc1=df[df['visitor_location']=='Asia']['avg_pages_visted']\n",
    "loc2=df[df['visitor_location']=='Australia']['avg_pages_visted']\n",
    "loc3=df[df['visitor_location']=='Europe']['avg_pages_visted']\n",
    "loc4= df[df['visitor_location']=='North America']['avg_pages_visted']\n",
    "loc5=df[df['visitor_location']=='South America']['avg_pages_visted']\n",
    "p_val=stats.f_oneway(loc1,loc2,loc3,loc4,loc5)\n",
    "print(p_val)"
   ]
  },
  {
   "attachments": {},
   "cell_type": "markdown",
   "metadata": {},
   "source": [
    "**Avg pages visited has signifcant impact**"
   ]
  },
  {
   "cell_type": "code",
   "execution_count": null,
   "metadata": {},
   "outputs": [],
   "source": [
    "df.groupby('marketing_channel')[['avg_product_view', 'avg_rating', 'avg_price', 'avg_time_spent','avg_pages_visted']].mean()"
   ]
  },
  {
   "cell_type": "code",
   "execution_count": null,
   "metadata": {},
   "outputs": [],
   "source": [
    "m1=df[df['marketing_channel']=='youtube']['avg_product_view']\n",
    "m2=df[df['marketing_channel']=='organic']['avg_product_view']\n",
    "m3=df[df['marketing_channel']=='instagram']['avg_product_view']\n",
    "m4=df[df['marketing_channel']=='facebook']['avg_product_view']\n",
    "m5=df[df['marketing_channel']=='google']['avg_product_view']\n",
    "\n",
    "p_val= stats.f_oneway(m1,m2,m3,m4,m5)\n",
    "print(p_val)"
   ]
  },
  {
   "cell_type": "code",
   "execution_count": null,
   "metadata": {},
   "outputs": [],
   "source": [
    "m1=df[df['marketing_channel']=='youtube']['avg_rating']\n",
    "m2=df[df['marketing_channel']=='organic']['avg_rating']\n",
    "m3=df[df['marketing_channel']=='instagram']['avg_rating']\n",
    "m4=df[df['marketing_channel']=='facebook']['avg_rating']\n",
    "m5=df[df['marketing_channel']=='google']['avg_rating']\n",
    "\n",
    "p_val= stats.f_oneway(m1,m2,m3,m4,m5)\n",
    "print(p_val)"
   ]
  },
  {
   "cell_type": "code",
   "execution_count": null,
   "metadata": {},
   "outputs": [],
   "source": [
    "m1=df[df['marketing_channel']=='youtube']['avg_price']\n",
    "m2=df[df['marketing_channel']=='organic']['avg_price']\n",
    "m3=df[df['marketing_channel']=='instagram']['avg_price']\n",
    "m4=df[df['marketing_channel']=='facebook']['avg_price']\n",
    "m5=df[df['marketing_channel']=='google']['avg_price']\n",
    "\n",
    "p_val= stats.f_oneway(m1,m2,m3,m4,m5)\n",
    "print(p_val)"
   ]
  },
  {
   "cell_type": "code",
   "execution_count": null,
   "metadata": {},
   "outputs": [],
   "source": [
    "m1=df[df['marketing_channel']=='youtube']['avg_time_spent']\n",
    "m2=df[df['marketing_channel']=='organic']['avg_time_spent']\n",
    "m3=df[df['marketing_channel']=='instagram']['avg_time_spent']\n",
    "m4=df[df['marketing_channel']=='facebook']['avg_time_spent']\n",
    "m5=df[df['marketing_channel']=='google']['avg_time_spent']\n",
    "\n",
    "p_val= stats.f_oneway(m1,m2,m3,m4,m5)\n",
    "print(p_val)"
   ]
  },
  {
   "cell_type": "code",
   "execution_count": null,
   "metadata": {},
   "outputs": [],
   "source": [
    "m1=df[df['marketing_channel']=='youtube']['avg_pages_visted']\n",
    "m2=df[df['marketing_channel']=='organic']['avg_pages_visted']\n",
    "m3=df[df['marketing_channel']=='instagram']['avg_pages_visted']\n",
    "m4=df[df['marketing_channel']=='facebook']['avg_pages_visted']\n",
    "m5=df[df['marketing_channel']=='google']['avg_pages_visted']\n",
    "\n",
    "p_val= stats.f_oneway(m1,m2,m3,m4,m5)\n",
    "print(p_val)"
   ]
  },
  {
   "cell_type": "code",
   "execution_count": null,
   "metadata": {},
   "outputs": [],
   "source": [
    "df.groupby('gender')[['avg_product_view', 'avg_rating', 'avg_price', 'avg_time_spent','avg_pages_visted']].mean()"
   ]
  },
  {
   "cell_type": "code",
   "execution_count": null,
   "metadata": {},
   "outputs": [],
   "source": [
    "g1= df[df['gender']=='F']['avg_product_view']\n",
    "g2= df[df['gender']=='M']['avg_product_view']\n",
    "\n",
    "p_val=stats.f_oneway(g1,g2)\n",
    "print(p_val)"
   ]
  },
  {
   "cell_type": "code",
   "execution_count": null,
   "metadata": {},
   "outputs": [],
   "source": [
    "g1=df[df['gender']=='F']['avg_rating']\n",
    "g2=df[df['gender']=='M']['avg_rating']\n",
    "\n",
    "p_val=stats.f_oneway(g1,g2)\n",
    "print(p_val)"
   ]
  },
  {
   "cell_type": "code",
   "execution_count": null,
   "metadata": {},
   "outputs": [],
   "source": [
    "g1=df[df['gender']=='F']['avg_price']\n",
    "g2=df[df['gender']=='M']['avg_price']\n",
    "\n",
    "p_val=stats.f_oneway(g1,g2)\n",
    "print(p_val)"
   ]
  },
  {
   "cell_type": "code",
   "execution_count": null,
   "metadata": {},
   "outputs": [],
   "source": [
    "g1=df[df['gender']=='F']['avg_time_spent']\n",
    "g2=df[df['gender']=='M']['avg_time_spent']\n",
    "\n",
    "p_val=stats.f_oneway(g1,g2)\n",
    "print(p_val)"
   ]
  },
  {
   "cell_type": "code",
   "execution_count": null,
   "metadata": {},
   "outputs": [],
   "source": [
    "g1=df[df['gender']=='F']['avg_pages_visted']\n",
    "g2=df[df['gender']=='M']['avg_pages_visted']\n",
    "\n",
    "p_val=stats.f_oneway(g1,g2)\n",
    "print(p_val)"
   ]
  },
  {
   "attachments": {},
   "cell_type": "markdown",
   "metadata": {},
   "source": [
    "**There is a statiscally significant difference Avg pages visited **\n",
    "****"
   ]
  },
  {
   "cell_type": "code",
   "execution_count": null,
   "metadata": {},
   "outputs": [],
   "source": [
    "df.columns"
   ]
  },
  {
   "cell_type": "code",
   "execution_count": null,
   "metadata": {},
   "outputs": [],
   "source": [
    "all_numerical_cols = ['product_views_Mon', 'product_views_Tue', 'product_views_Wed',\n",
    "       'product_views_Thu', 'product_views_Fri', 'avg_rating_Mon',\n",
    "       'avg_rating_Tue', 'avg_rating_Wed', 'avg_rating_Thu', 'avg_rating_Fri',\n",
    "       'avg_price_Mon', 'avg_price_Tue', 'avg_price_Wed', 'avg_price_Thu',\n",
    "       'avg_price_Fri', 'time_on_site_Mon', 'time_on_site_Tue',\n",
    "       'time_on_site_Wed', 'time_on_site_Thu', 'time_on_site_Fri',\n",
    "       'pages_visited_Mon', 'pages_visited_Tue', 'pages_visited_Wed',\n",
    "       'pages_visited_Thu', 'pages_visited_Fri',\n",
    "       'avg_product_view', 'avg_rating', 'avg_price',\n",
    "       'avg_time_spent', 'avg_pages_visted']"
   ]
  },
  {
   "cell_type": "code",
   "execution_count": null,
   "metadata": {},
   "outputs": [],
   "source": [
    "for column in all_numerical_cols:\n",
    "    plt.figure(figsize=(5, 5)) # Optional: Set the figure size\n",
    "    sns.histplot(df[column], bins=20, kde=True) # You can customize the number of bins, KDE line, etc.\n",
    "    plt.title(f'Histogram of {column}') # Add a title for each plot\n",
    "    plt.show()"
   ]
  },
  {
   "cell_type": "code",
   "execution_count": null,
   "metadata": {},
   "outputs": [],
   "source": [
    "df.columns"
   ]
  },
  {
   "cell_type": "code",
   "execution_count": null,
   "metadata": {},
   "outputs": [],
   "source": [
    "relevant_columns= ['visitor_location', 'marketing_channel', 'gender', 'product_views_Wed', 'product_views_Thu', 'product_views_Fri','avg_product_view','avg_rating', 'avg_price', 'avg_time_spent','avg_pages_visted','converted_Fri']"
   ]
  },
  {
   "cell_type": "code",
   "execution_count": null,
   "metadata": {},
   "outputs": [],
   "source": [
    "new_df= df[relevant_columns]"
   ]
  },
  {
   "cell_type": "code",
   "execution_count": null,
   "metadata": {},
   "outputs": [],
   "source": [
    "new_df"
   ]
  },
  {
   "cell_type": "code",
   "execution_count": null,
   "metadata": {},
   "outputs": [],
   "source": [
    "sns.countplot(x='converted_Fri', data=new_df)\n",
    "plt.show()\n",
    "\n",
    "sns.pairplot(new_df, hue='converted_Fri')\n",
    "plt.show()\n"
   ]
  },
  {
   "cell_type": "code",
   "execution_count": null,
   "metadata": {},
   "outputs": [],
   "source": [
    "new_df.columns"
   ]
  },
  {
   "cell_type": "code",
   "execution_count": null,
   "metadata": {},
   "outputs": [],
   "source": [
    "fig, axs=plt.subplots(3,3, figsize=(15,10))\n",
    "plt1=sns.histplot(new_df['avg_product_view'], ax=axs[0][0])\n",
    "plt2=sns.histplot(new_df['avg_rating'], ax=axs[0][1])\n",
    "plt3= sns.histplot(new_df['avg_price'], ax=axs[0][2])\n",
    "plt4=sns.histplot(new_df['avg_time_spent'], ax=axs[1][0])\n",
    "plt5=sns.histplot(new_df['avg_pages_visted'], ax=axs[1][1])\n",
    "plt6=sns.histplot(new_df['product_views_Wed'], ax=axs[1][2])\n",
    "plt7=sns.histplot(new_df['product_views_Thu'], ax=axs[2][0])\n",
    "plt8=sns.histplot(new_df['product_views_Fri'], ax=axs[2][1])\n"
   ]
  },
  {
   "cell_type": "code",
   "execution_count": null,
   "metadata": {},
   "outputs": [],
   "source": [
    "fig, axs=plt.subplots(3,3, figsize=(15,10))\n",
    "sns.boxplot(y='avg_product_view', x='converted_Fri', data=new_df, ax=axs[0][0])\n",
    "sns.boxplot(y='avg_rating', x='converted_Fri', data=new_df, ax=axs[0][1])\n",
    "sns.boxplot(y='avg_price', x='converted_Fri', data=new_df, ax=axs[0][2])\n",
    "sns.boxplot(y='avg_time_spent', x='converted_Fri', data=new_df, ax=axs[1][0])\n",
    "sns.boxplot(y='avg_pages_visted', x='converted_Fri', data=new_df, ax=axs[1][1])\n",
    "sns.boxplot(y='product_views_Wed', x='converted_Fri', data=new_df, ax=axs[1][2])\n",
    "sns.boxplot(y='product_views_Thu', x='converted_Fri', data=new_df, ax=axs[2][0])\n",
    "sns.boxplot(y='product_views_Fri', x='converted_Fri', data=new_df, ax=axs[2][1])\n",
    "\n"
   ]
  },
  {
   "attachments": {},
   "cell_type": "markdown",
   "metadata": {},
   "source": [
    "**Inital Hypothesis Product view on Wed,Thursday, Friday and Average product view are stong predictors of Converstion on friday**"
   ]
  },
  {
   "cell_type": "code",
   "execution_count": null,
   "metadata": {},
   "outputs": [],
   "source": [
    "all_numerical_cols"
   ]
  },
  {
   "cell_type": "code",
   "execution_count": null,
   "metadata": {},
   "outputs": [],
   "source": [
    "fig, axs = plt.subplots(6,5, figsize=(25,10))  \n",
    "sns.boxplot(y='product_views_Mon', x='converted_Fri', data=df,ax=axs[0][0])\n",
    "sns.boxplot(y='product_views_Tue', x='converted_Fri', data=df,ax=axs[0][1])\n",
    "sns.boxplot(y='product_views_Wed', x='converted_Fri', data=df,ax=axs[0][2])\n",
    "sns.boxplot(y='product_views_Thu', x='converted_Fri', data=df,ax=axs[0][3])\n",
    "sns.boxplot(y='product_views_Fri', x='converted_Fri', data=df,ax=axs[0][4])\n",
    "sns.boxplot(y='avg_rating_Mon', x='converted_Fri', data=df,ax=axs[1][0])\n",
    "sns.boxplot(y='avg_rating_Tue', x='converted_Fri', data=df,ax=axs[1][1])\n",
    "sns.boxplot(y='avg_rating_Wed', x='converted_Fri', data=df,ax=axs[1][2])\n",
    "sns.boxplot(y='avg_rating_Thu', x='converted_Fri', data=df,ax=axs[1][3])\n",
    "sns.boxplot(y='avg_rating_Fri', x='converted_Fri', data=df,ax=axs[1][4])\n",
    "sns.boxplot(y='avg_price_Mon', x='converted_Fri', data=df, ax=axs[2][0])\n",
    "sns.boxplot(y='avg_price_Tue', x='converted_Fri', data=df,ax=axs[2][1])\n",
    "sns.boxplot(y='avg_price_Wed', x='converted_Fri', data=df,ax=axs[2][2])\n",
    "sns.boxplot(y='avg_price_Thu', x='converted_Fri', data=df,ax=axs[2][3])\n",
    "sns.boxplot(y='avg_price_Fri', x='converted_Fri', data=df,ax=axs[2][4])\n",
    "sns.boxplot(y='time_on_site_Mon', x='converted_Fri', data=df, ax=axs[3][0])\n",
    "sns.boxplot(y='time_on_site_Tue', x='converted_Fri', data=df,ax=axs[3][1])\n",
    "sns.boxplot(y='time_on_site_Wed', x='converted_Fri', data=df,ax=axs[3][2])\n",
    "sns.boxplot(y='time_on_site_Thu', x='converted_Fri', data=df,ax=axs[3][3])\n",
    "sns.boxplot(y='time_on_site_Fri', x='converted_Fri', data=df,ax=axs[3][4])\n",
    "sns.boxplot(y='pages_visited_Mon', x='converted_Fri', data=df, ax=axs[4][0])\n",
    "sns.boxplot(y='pages_visited_Tue', x='converted_Fri', data=df,ax=axs[4][1])\n",
    "sns.boxplot(y='pages_visited_Wed', x='converted_Fri', data=df,ax=axs[4][2])\n",
    "sns.boxplot(y='pages_visited_Thu', x='converted_Fri', data=df,ax=axs[4][3])\n",
    "sns.boxplot(y='pages_visited_Fri', x='converted_Fri', data=df,ax=axs[4][4])\n",
    "sns.boxplot(y='avg_price', x='converted_Fri', data=df, ax=axs[5][0])\n",
    "sns.boxplot(y='avg_time_spent', x='converted_Fri', data=df, ax=axs[5][1])\n",
    "sns.boxplot(y='avg_pages_visted', x='converted_Fri', data=df, ax=axs[5][2])\n",
    "sns.boxplot(y='avg_product_view', x='converted_Fri', data=df,ax=axs[5][3])\n",
    "sns.boxplot(y='avg_rating', x='converted_Fri', data=df, ax=axs[5][4])"
   ]
  },
  {
   "cell_type": "code",
   "execution_count": null,
   "metadata": {},
   "outputs": [],
   "source": [
    "categorical_column"
   ]
  },
  {
   "cell_type": "code",
   "execution_count": null,
   "metadata": {},
   "outputs": [],
   "source": [
    "new_df.groupby(['visitor_location','converted_Fri'])['gender'].count().unstack()"
   ]
  },
  {
   "cell_type": "code",
   "execution_count": null,
   "metadata": {},
   "outputs": [],
   "source": [
    "new_df.groupby(['marketing_channel', 'converted_Fri'])['gender'].count().unstack()"
   ]
  },
  {
   "cell_type": "code",
   "execution_count": null,
   "metadata": {},
   "outputs": [],
   "source": [
    "df.groupby(['gender','converted_Fri'])['gender'].count().unstack()"
   ]
  },
  {
   "cell_type": "code",
   "execution_count": null,
   "metadata": {},
   "outputs": [],
   "source": [
    "new_df[new_df['converted_Fri']==0].describe(include='all')\n"
   ]
  },
  {
   "cell_type": "code",
   "execution_count": null,
   "metadata": {},
   "outputs": [],
   "source": [
    "new_df[new_df['converted_Fri']==1].describe(include='all')"
   ]
  },
  {
   "attachments": {},
   "cell_type": "markdown",
   "metadata": {},
   "source": [
    "#MODEL DEVELOPMENT:"
   ]
  },
  {
   "cell_type": "code",
   "execution_count": null,
   "metadata": {},
   "outputs": [],
   "source": [
    "new_df"
   ]
  },
  {
   "cell_type": "code",
   "execution_count": null,
   "metadata": {},
   "outputs": [],
   "source": [
    "numerical_column"
   ]
  },
  {
   "cell_type": "code",
   "execution_count": null,
   "metadata": {},
   "outputs": [],
   "source": [
    "numerical_column.append('product_views_Wed')\n",
    "numerical_column.append('product_views_Thu')\n",
    "numerical_column.append('product_views_Fri')"
   ]
  },
  {
   "cell_type": "code",
   "execution_count": null,
   "metadata": {},
   "outputs": [],
   "source": [
    "cat_column= ['visitor_location', 'marketing_channel', 'gender']"
   ]
  },
  {
   "cell_type": "code",
   "execution_count": null,
   "metadata": {},
   "outputs": [],
   "source": [
    "target= 'converted_Fri'"
   ]
  },
  {
   "cell_type": "code",
   "execution_count": null,
   "metadata": {},
   "outputs": [],
   "source": [
    "cat_transformer = OneHotEncoder(handle_unknown='ignore')\n",
    "num_transformer = StandardScaler()\n",
    "preprocessor = ColumnTransformer(transformers = [('cat',cat_transformer, cat_column),\n",
    "                                                 ('num', num_transformer, numerical_column)])"
   ]
  },
  {
   "cell_type": "code",
   "execution_count": null,
   "metadata": {},
   "outputs": [],
   "source": [
    "X_train, X_test, y_train, y_test = train_test_split(new_df[cat_column + numerical_column], new_df[target], test_size=0.2, random_state=123)\n"
   ]
  },
  {
   "cell_type": "code",
   "execution_count": null,
   "metadata": {},
   "outputs": [],
   "source": [
    "x_train_transformed = preprocessor.fit_transform(X_train)\n",
    "x_test_transformed = preprocessor.fit_transform(X_test)"
   ]
  },
  {
   "cell_type": "code",
   "execution_count": null,
   "metadata": {},
   "outputs": [],
   "source": [
    "x_train_transformed.shape"
   ]
  },
  {
   "cell_type": "code",
   "execution_count": null,
   "metadata": {},
   "outputs": [],
   "source": [
    "x_test_transformed.shape"
   ]
  },
  {
   "cell_type": "code",
   "execution_count": null,
   "metadata": {},
   "outputs": [],
   "source": [
    "encoded_columns = preprocessor.named_transformers_['cat'].get_feature_names_out(cat_column)"
   ]
  },
  {
   "cell_type": "code",
   "execution_count": null,
   "metadata": {},
   "outputs": [],
   "source": [
    "encoded_columns = encoded_columns.tolist()"
   ]
  },
  {
   "cell_type": "code",
   "execution_count": null,
   "metadata": {},
   "outputs": [],
   "source": [
    "all_feat = numerical_column + encoded_columns\n",
    "\n",
    "X_train_transformed = pd.DataFrame(x_train_transformed, columns=all_feat)\n",
    "X_test_transformed = pd.DataFrame(x_test_transformed, columns=all_feat)"
   ]
  },
  {
   "cell_type": "code",
   "execution_count": null,
   "metadata": {},
   "outputs": [],
   "source": [
    "log=LogisticRegression()\n",
    "nb=GaussianNB()\n",
    "knn= KNeighborsClassifier()\n",
    "svc=SVC()\n",
    "dt= DecisionTreeClassifier()"
   ]
  },
  {
   "cell_type": "code",
   "execution_count": null,
   "metadata": {},
   "outputs": [],
   "source": [
    "log.fit(X_train_transformed, y_train)\n",
    "nb.fit(X_train_transformed, y_train)\n",
    "knn.fit(X_train_transformed, y_train)\n",
    "svc.fit(X_train_transformed, y_train)\n",
    "dt.fit(X_train_transformed, y_train)\n"
   ]
  },
  {
   "cell_type": "code",
   "execution_count": null,
   "metadata": {},
   "outputs": [],
   "source": [
    "pred_l= log.predict(X_test_transformed)\n",
    "pred_nb=nb.predict(X_test_transformed)\n",
    "pred_knn=knn.predict(X_test_transformed)\n",
    "pred_svc= svc.predict(X_test_transformed)\n",
    "pred_dt= dt.predict(X_test_transformed)"
   ]
  },
  {
   "cell_type": "code",
   "execution_count": null,
   "metadata": {},
   "outputs": [],
   "source": [
    "print(f1_score(pred_l,y_test))\n",
    "print(f1_score(pred_nb,y_test))\n",
    "print(f1_score(pred_knn,y_test))\n",
    "print(f1_score(pred_svc,y_test))\n",
    "print(f1_score(pred_dt,y_test))"
   ]
  },
  {
   "cell_type": "code",
   "execution_count": null,
   "metadata": {},
   "outputs": [],
   "source": [
    "print(accuracy_score(pred_l,y_test))\n",
    "print(accuracy_score(pred_nb,y_test))\n",
    "print(accuracy_score(pred_knn,y_test))\n",
    "print(accuracy_score(pred_svc,y_test))\n",
    "print(accuracy_score(pred_dt,y_test))"
   ]
  },
  {
   "cell_type": "code",
   "execution_count": null,
   "metadata": {},
   "outputs": [],
   "source": [
    "print(recall_score(pred_l,y_test))\n",
    "print(recall_score(pred_nb,y_test))\n",
    "print(recall_score(pred_knn,y_test))\n",
    "print(recall_score(pred_svc,y_test))\n",
    "print(recall_score(pred_dt,y_test))"
   ]
  },
  {
   "attachments": {},
   "cell_type": "markdown",
   "metadata": {},
   "source": [
    "Since we can accept some False positives in this situation, lets pick Recall as our metric. \n",
    "# Part 4: Hyperparameter Tuning and Cross Validation"
   ]
  },
  {
   "cell_type": "code",
   "execution_count": null,
   "metadata": {},
   "outputs": [],
   "source": [
    "#Logistics\n",
    "param_grid = {\n",
    "    'C': [0.001, 0.01, 0.1, 1, 10, 100, 1000],\n",
    "    'penalty': ['l1', 'l2'],\n",
    "    'solver': ['liblinear', 'saga'],\n",
    "    'class_weight': [None, 'balanced'],\n",
    "    'max_iter': [50, 100, 200]\n",
    "}\n",
    "rs_log = RandomizedSearchCV(log, param_distributions=param_grid, cv=10)\n",
    "rs_log.fit(x_train_transformed,y_train)\n",
    "rs_log.best_estimator_"
   ]
  },
  {
   "cell_type": "code",
   "execution_count": null,
   "metadata": {},
   "outputs": [],
   "source": [
    "log_best = LogisticRegression(C=1000,max_iter=50,penalty='l1',solver='saga')\n",
    "\n",
    "log_best.fit(x_train_transformed,y_train)\n",
    "pred_best_log = log_best.predict(x_test_transformed)\n",
    "\n",
    "cv_scores = cross_val_score(log_best, x_train_transformed, y_train, cv=10, scoring='f1')\n",
    "\n",
    "print(\"Cross-validation scores for Logistic Regression: \", cv_scores)"
   ]
  },
  {
   "cell_type": "code",
   "execution_count": null,
   "metadata": {},
   "outputs": [],
   "source": [
    "cv_scores.mean()"
   ]
  },
  {
   "cell_type": "code",
   "execution_count": null,
   "metadata": {},
   "outputs": [],
   "source": [
    "print(recall_score(pred_best_log, y_test))"
   ]
  },
  {
   "cell_type": "code",
   "execution_count": null,
   "metadata": {},
   "outputs": [],
   "source": [
    "svc_params = {'kernel':['linear','poly','rbf']}\n",
    "\n",
    "rs_svc = RandomizedSearchCV(svc, svc_params, n_iter=3, cv=5, scoring='recall')\n",
    "rs_svc.fit(X_train_transformed, y_train)"
   ]
  },
  {
   "cell_type": "code",
   "execution_count": null,
   "metadata": {},
   "outputs": [],
   "source": [
    "rs_svc.best_estimator_"
   ]
  },
  {
   "cell_type": "code",
   "execution_count": null,
   "metadata": {},
   "outputs": [],
   "source": [
    "svc_best = SVC()\n",
    "svc_best.fit(X_train_transformed,y_train)\n",
    "pred_svc_best = svc_best.predict(X_test_transformed)\n",
    "print(recall_score(pred_svc_best, y_test))"
   ]
  },
  {
   "cell_type": "code",
   "execution_count": null,
   "metadata": {},
   "outputs": [],
   "source": [
    "cv_scores = cross_val_score(svc_best, x_train_transformed, y_train, cv=10, scoring='f1')\n",
    "print(\"Cross-validation scores for SVC: \", cv_scores)"
   ]
  },
  {
   "cell_type": "code",
   "execution_count": null,
   "metadata": {},
   "outputs": [],
   "source": [
    "cv_scores.mean()"
   ]
  },
  {
   "cell_type": "code",
   "execution_count": null,
   "metadata": {},
   "outputs": [],
   "source": [
    "#DT\n",
    "dt = DecisionTreeClassifier(random_state=123)\n",
    "dt = dt.fit(X_train_transformed, y_train)"
   ]
  },
  {
   "cell_type": "code",
   "execution_count": null,
   "metadata": {},
   "outputs": [],
   "source": []
  }
 ],
 "metadata": {
  "kernelspec": {
   "display_name": "Python 3",
   "language": "python",
   "name": "python3"
  },
  "language_info": {
   "codemirror_mode": {
    "name": "ipython",
    "version": 3
   },
   "file_extension": ".py",
   "mimetype": "text/x-python",
   "name": "python",
   "nbconvert_exporter": "python",
   "pygments_lexer": "ipython3",
   "version": "3.9.6"
  },
  "orig_nbformat": 4
 },
 "nbformat": 4,
 "nbformat_minor": 2
}
